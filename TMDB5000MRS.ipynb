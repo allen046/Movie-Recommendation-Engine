{
 "cells": [
  {
   "cell_type": "markdown",
   "metadata": {},
   "source": [
    "# Movie Recommendation Engine\n",
    "\n",
    "### Data-Set used for this project: TMDB 5000 Movie Data-Set\n",
    "\n",
    "Delving into some types of filtering\n",
    "\n",
    "<i> 1) Demographic Filtering</i>- \n",
    "It employs demographic data (e.g., age, profession) to infer recommendation rules based on stereotypes.\n",
    "\n",
    "<i> 2) Content Based Filtering</i>-\n",
    "Content-based filtering uses item features to recommend other items similar to what the user likes, based on their previous actions or explicit feedback.\n",
    "\n",
    "<i> 3) Collaborative Filtering</i>-\n",
    "Collaborative filtering is a technique that can filter out items that a user might like on the basis of reactions by similar users. It works by searching a large group of people and finding a smaller set of users with tastes similar to a particular user."
   ]
  },
  {
   "cell_type": "markdown",
   "metadata": {},
   "source": [
    "## steps to build this project\n",
    " ### Data collection\n",
    " \n",
    " Data collection is the process of gathering and measuring information on targeted variables in an established system, which then enables one to answer relevant questions and evaluate outcomes.\n",
    "Here we use the TMDB 5000 Movie Data-Set.\n",
    "\n",
    "##### Three CSV files used here are\n",
    "1) tmdb_5000_credits.csv\n",
    "\n",
    "2) tmdb_5000_movies.csv\n",
    "\n",
    "3) ratings_small.csv\n",
    "\n",
    "  ### Data preparation\n",
    "  \n",
    "  Data preparation is the act of manipulating (or pre-processing) raw data (which may come from disparate data sources) into a form that can readily and accurately be analysed.\n",
    "It includes many discrete tasks such as loading data or data ingestion, data fusion, data cleansing, data augmentation, data wrangling etc.\n",
    "\n",
    " #### Data Ingestion\n",
    " Data ingestion is the process of obtaining and importing data for immediate use or storage in a database.\n",
    " \n",
    " #### Data Fusion\n",
    " \n",
    " Data fusion is the process of integrating multiple data sources to produce more consistent, accurate, and useful information than that provided by any individual data source.\n",
    " \n",
    " #### Data Cleansing\n",
    " \n",
    " Data cleansing or data cleaning is the process of detecting and correcting (or removing) corrupt or inaccurate records from a record set, table, or database and refers to identifying incomplete, incorrect, inaccurate or irrelevant parts of the data and then replacing, modifying, or deleting the dirty or coarse data.\n",
    " \n",
    " #### Data Augmentation\n",
    " \n",
    " Data cleansing or data cleaning is the process of detecting and correcting (or removing) corrupt or inaccurate records from a record set, table, or database and refers to identifying incomplete, incorrect, inaccurate or irrelevant parts of the data and then replacing, modifying, or deleting the dirty or coarse data.\n",
    " \n",
    " #### Data wrangling\n",
    " \n",
    " Data wrangling, sometimes referred to as data munging, is the process of transforming and mapping data from one \"raw\" data form into another format with the intent of making it more appropriate and valuable for a variety of downstream purposes.\n",
    " \n",
    " ## Data preparation for the project\n",
    " \n",
    " In this entire document the following abbrevations are used:\n",
    "\n",
    "- pandas : pd\n",
    "- numpy : np\n",
    "- matplotlib.pyplot : plt\n",
    "- plotly.graph_objects : go\n",
    "- plotly.express : px\n",
    "- seaborn : sns"
   ]
  },
  {
   "cell_type": "code",
   "execution_count": 1,
   "metadata": {},
   "outputs": [],
   "source": [
    "import pandas as pd \n",
    "import numpy as np \n",
    "tmdb_Credits=pd.read_csv(r'D:\\Movie_recommendation_engine\\tmdb_5000_credits.csv')\n",
    "tmdb_Movies=pd.read_csv(r'D:\\Movie_recommendation_engine\\tmdb_5000_movies.csv')"
   ]
  },
  {
   "cell_type": "markdown",
   "metadata": {},
   "source": [
    "##### Features of the data-set-tmdb_5000_credits:\n",
    "\n",
    "- movie_id - A unique identifier for each movie.\n",
    "- cast - The name of lead and supporting actors.\n",
    "- crew - The name of Director, Editor, Composer, Writer etc.\n",
    "\n",
    "##### Features of the data-set-tmdb_5000_movies:\n",
    "\n",
    "- budget - The budget in which the movie was made.\n",
    "- genre - The genre of the movie, Action, Comedy ,Thriller etc.\n",
    "- homepage - A link to the homepage of the movie.\n",
    "- id - This is infact the movie_id as in the first dataset.\n",
    "- keywords - The keywords or tags related to the movie.\n",
    "- original_language - The language in which the movie was made.\n",
    "- original_title - The title of the movie before translation or adaptation.\n",
    "- overview - A brief description of the movie.\n",
    "- popularity - A numeric quantity specifying the movie popularity.\n",
    "- production_companies - The production house of the movie.\n",
    "- production_countries - The country in which it was produced.\n",
    "- release_date - The date on which it was released.\n",
    "- revenue - The worldwide revenue generated by the movie.\n",
    "- runtime - The running time of the movie in minutes.\n",
    "- status - \"Released\" or \"Rumored\".\n",
    "- tagline - Movie's tagline.\n",
    "- title - Title of the movie.\n",
    "- vote_average - average ratings the movie recieved.\n",
    "- vote_count - the count of votes recieved.\n",
    "\n",
    "\n",
    "\n",
    "\n",
    "#### Join the two data-sets on the column 'id'"
   ]
  },
  {
   "cell_type": "code",
   "execution_count": 2,
   "metadata": {},
   "outputs": [],
   "source": [
    "#change movie_id to id\n",
    "tmdb_Credits.columns = ['id','tittle','cast','crew']\n",
    "#merging the 2 datasets\n",
    "tmdb_Movies= tmdb_Movies.merge(tmdb_Credits,on='id')\n"
   ]
  },
  {
   "cell_type": "markdown",
   "metadata": {},
   "source": [
    "### Demographic Filtering\n",
    "\n",
    "We need to rate the movie based on some condition or crieria.Recommendation for the user will be based on this.\n",
    "We can use IMBD'S Weighted Rating(W) formula.\n",
    "\n",
    "The formula for calculating the Top Rated 250 Titles gives a true Bayesian estimate:\n",
    "\n",
    "weighted rating (WR) = (v ÷ (v+m)) × R + (m ÷ (v+m)) × C where:\n",
    "\n",
    "R = average for the movie (mean) = (Rating)\n",
    "\n",
    "v = number of votes for the movie = (votes)\n",
    "\n",
    "m = minimum votes required to be listed in the Top 250 (currently 25000)\n",
    "\n",
    "C = the mean vote across the whole report \n",
    "vote_count(v) feature and vote_average(R) feature is already present. We need to calculate C and m.\n",
    "For calculating value of m we can set 90 percentile as the cutoff. A movie must have more votes than at least 90% of the movies.\n",
    "\n"
   ]
  },
  {
   "cell_type": "code",
   "execution_count": 3,
   "metadata": {},
   "outputs": [
    {
     "data": {
      "text/plain": [
       "6.092171559442011"
      ]
     },
     "execution_count": 3,
     "metadata": {},
     "output_type": "execute_result"
    }
   ],
   "source": [
    "C= tmdb_Movies['vote_average'].mean()\n",
    "C\n",
    "\n"
   ]
  },
  {
   "cell_type": "code",
   "execution_count": 4,
   "metadata": {},
   "outputs": [
    {
     "data": {
      "text/plain": [
       "1838.4000000000015"
      ]
     },
     "execution_count": 4,
     "metadata": {},
     "output_type": "execute_result"
    }
   ],
   "source": [
    "m= tmdb_Movies['vote_count'].quantile(0.9)\n",
    "m\n",
    "\n"
   ]
  },
  {
   "cell_type": "markdown",
   "metadata": {},
   "source": [
    "### Creating a dataframe with the filtered movies\n"
   ]
  },
  {
   "cell_type": "code",
   "execution_count": 5,
   "metadata": {},
   "outputs": [],
   "source": [
    "\n",
    "q_movies = tmdb_Movies.copy().loc[tmdb_Movies['vote_count'] >= m]"
   ]
  },
  {
   "cell_type": "markdown",
   "metadata": {},
   "source": [
    "#### The number of movies which got qualified"
   ]
  },
  {
   "cell_type": "code",
   "execution_count": 6,
   "metadata": {
    "scrolled": true
   },
   "outputs": [
    {
     "data": {
      "text/plain": [
       "(481, 23)"
      ]
     },
     "execution_count": 6,
     "metadata": {},
     "output_type": "execute_result"
    }
   ],
   "source": [
    "q_movies.shape\n"
   ]
  },
  {
   "cell_type": "markdown",
   "metadata": {},
   "source": [
    "#### Function to calculate the weighted rating of each movie"
   ]
  },
  {
   "cell_type": "code",
   "execution_count": 7,
   "metadata": {},
   "outputs": [],
   "source": [
    "def weighted_rating(x, m=m, C=C):\n",
    "    v = x['vote_count']\n",
    "    R = x['vote_average']\n",
    "    # Calculation based on the IMDB formula\n",
    "    return (v/(v+m) * R) + (m/(m+v) * C)"
   ]
  },
  {
   "cell_type": "markdown",
   "metadata": {},
   "source": [
    "#### A new feature 'score' is added,which is calculated by applying the above function on the qualified movies"
   ]
  },
  {
   "cell_type": "code",
   "execution_count": 8,
   "metadata": {},
   "outputs": [],
   "source": [
    "q_movies['score'] = q_movies.apply(weighted_rating, axis=1)"
   ]
  },
  {
   "cell_type": "markdown",
   "metadata": {},
   "source": [
    "#### DataFrame being sorted according to the feature-'score'\n"
   ]
  },
  {
   "cell_type": "code",
   "execution_count": 9,
   "metadata": {},
   "outputs": [],
   "source": [
    "#Sort movies based on score calculated above\n",
    "q_movies = q_movies.sort_values('score', ascending=False)"
   ]
  },
  {
   "cell_type": "markdown",
   "metadata": {},
   "source": [
    "#### Exploratory Data analysis\n",
    "\n",
    "\n",
    "Exploratory data analysis (EDA) is an approach to analyzing data sets to summarize their main characteristics, often with visual methods.\n",
    "\n",
    "- Data Visualization\n",
    "It involves the creation and study of the visual representation of data.To communicate information clearly and efficiently, data visualization uses statistical graphics, plots, information graphics and other tools. Numerical data may be encoded using dots, lines, bars etc., to visually communicate a quantitative message.\n",
    "##### Different types of graph used for visualization\n",
    "\n",
    "##### Bar Graph\n",
    "A bar chart or bar graph is a chart or graph that presents categorical data with rectangular bars with heights or lengths proportional to the values that they represent.\n",
    "\n",
    "##### Line Graph\n",
    "A line graph reveals trends or progress over time and can be used to show many different categories of data.\n",
    "\n",
    "##### Scatter Plot Chart\n",
    "A scatter plot is a type of plot or mathematical diagram using Cartesian coordinates to display values for typically two variables for a set of data.\n",
    "\n",
    "##### Histogram\n",
    "A histogram is an accurate representation of the distribution of numerical data. It is an estimate of the probability distribution of a continuous variable\n",
    "\n",
    "##### Box plot\n",
    "Boxplot is a method for graphically depicting groups of numerical data through their quartiles. Box plots may also have lines extending vertically from the boxes (whiskers) indicating variability outside the upper and lower quartiles\n",
    "\n",
    "##### Pie chart\n",
    "A pie chart is a circular statistical graphic, which is divided into slices to illustrate numerical proportion. In a pie chart, the arc length of each slice, is proportional to the quantity it represents.\n",
    "\n",
    "##### Heat map\n",
    "A heat map (or heatmap) is a graphical representation of data where the individual values contained in a matrix are represented as colors.\n",
    "\n",
    "### Movies are sorted according to their popularity\n"
   ]
  },
  {
   "cell_type": "code",
   "execution_count": 10,
   "metadata": {},
   "outputs": [],
   "source": [
    "# Sorting in Descending Order\n",
    "popularity= tmdb_Movies.sort_values('popularity', ascending=False)"
   ]
  },
  {
   "cell_type": "markdown",
   "metadata": {},
   "source": [
    "### Plotting a bar graph to depict the popularity of movies"
   ]
  },
  {
   "cell_type": "code",
   "execution_count": 11,
   "metadata": {},
   "outputs": [
    {
     "data": {
      "image/png": "[encoded data removed]",
      "text/plain": [
       "<Figure size 1080x576 with 1 Axes>"
      ]
     },
     "metadata": {
      "needs_background": "light"
     },
     "output_type": "display_data"
    }
   ],
   "source": [
    "#Plot a bar graph with 'title' and 'popularity'\n",
    "import matplotlib.pyplot as plt\n",
    "plt.figure(figsize=(15,8))\n",
    "\n",
    "plt.bar(popularity['title'].head(6),popularity['popularity'].head(6), align='center',\n",
    "        color='olive')\n",
    "plt.ylabel(\"Popularity\")\n",
    "plt.title(\"Popular Movies\")\n",
    "plt.show()\n"
   ]
  },
  {
   "cell_type": "markdown",
   "metadata": {},
   "source": [
    "### Content based Filtering\n",
    "\n",
    "\n",
    "The features of the movie are used to find the similarity between the movies.Based on the similarity, movies are recommended.\n",
    "\n",
    "### Computation of Similarity\n",
    "\n",
    "#### Correlation\n",
    "\n",
    "It refers to a mutual relationship or association between quantities.Correlation is the first step to understanding these relationships and subsequently building better business and statistical models.\n",
    "\n",
    "#### Types of correlation\n",
    "\n",
    "##### Pearson correlation coefficient\n",
    "It's a measure of the linear correlation between two variables X and Y. According to the Cauchy–Schwarz inequality it has a value between +1 and −1, where 1 is total positive linear correlation, 0 is no linear correlation, and −1 is total negative linear correlation.\n",
    "\n",
    "##### Spearman's rank correlation coefficient\n",
    "It's a nonparametric measure of rank correlation (statistical dependence between the rankings of two variables). It assesses how well the relationship between two variables can be described using a monotonic function.\n",
    "\n",
    "\n",
    "### Heat Map showing the correlation between the features\n"
   ]
  },
  {
   "cell_type": "code",
   "execution_count": 12,
   "metadata": {},
   "outputs": [
    {
     "data": {
      "text/plain": [
       "[Text(0.5, 0, 'budget'),\n",
       " Text(1.5, 0, 'id'),\n",
       " Text(2.5, 0, 'popularity'),\n",
       " Text(3.5, 0, 'revenue'),\n",
       " Text(4.5, 0, 'runtime'),\n",
       " Text(5.5, 0, 'vote_average'),\n",
       " Text(6.5, 0, 'vote_count')]"
      ]
     },
     "execution_count": 12,
     "metadata": {},
     "output_type": "execute_result"
    },
    {
     "data": {
      "image/png": "[encoded data removed]",
      "text/plain": [
       "<Figure size 432x288 with 2 Axes>"
      ]
     },
     "metadata": {
      "needs_background": "light"
     },
     "output_type": "display_data"
    }
   ],
   "source": [
    "\n",
    "import seaborn as sns\n",
    "corr = tmdb_Movies.corr()\n",
    "ax = sns.heatmap(\n",
    "    corr, \n",
    "    vmin=-1, vmax=1, center=0,\n",
    "    cmap=sns.diverging_palette(20, 220, n=200),\n",
    "    square=True\n",
    ")\n",
    "ax.set_xticklabels(\n",
    "    ax.get_xticklabels(),\n",
    "    rotation=45,\n",
    "    horizontalalignment='right'\n",
    ")\n",
    "\n"
   ]
  },
  {
   "cell_type": "markdown",
   "metadata": {},
   "source": [
    "### Cosine similarity\n",
    "\n",
    "Cosine similarity is a measure of similarity between two non-zero vectors of an inner product space that measures the cosine of the angle between them. The cosine of two non-zero vectors can be derived by using the Euclidean dot product formula:\n"
   ]
  },
  {
   "cell_type": "markdown",
   "metadata": {},
   "source": [
    "### Similarity based on the 3 top actors, the director, related genres and the movie plot keywords.\n",
    "\n",
    "#### Conversion of string type features to objects:\n"
   ]
  },
  {
   "cell_type": "code",
   "execution_count": 13,
   "metadata": {},
   "outputs": [],
   "source": [
    "\n",
    "# Parse the stringified features into their corresponding python objects\n",
    "from ast import literal_eval  \n",
    "\n",
    "features = ['cast', 'crew', 'keywords', 'genres','production_companies']\n",
    "for feature in features:\n",
    "    tmdb_Movies[feature] = tmdb_Movies[feature].apply(literal_eval)"
   ]
  },
  {
   "cell_type": "markdown",
   "metadata": {},
   "source": [
    "### Functions to extract required features\n"
   ]
  },
  {
   "cell_type": "code",
   "execution_count": 14,
   "metadata": {},
   "outputs": [],
   "source": [
    "# Get the director's name from the crew feature. If director is not listed, return NaN\n",
    "def get_director(x):\n",
    "    for i in x:\n",
    "        if i['job'] == 'Director':\n",
    "            return i['name']\n",
    "    return np.nan\n"
   ]
  },
  {
   "cell_type": "markdown",
   "metadata": {},
   "source": [
    "#### Get the name of the Production Company\n"
   ]
  },
  {
   "cell_type": "code",
   "execution_count": 15,
   "metadata": {},
   "outputs": [],
   "source": [
    "def get_pclist(x):\n",
    "    if isinstance(x, list):\n",
    "        names = [i['name'] for i in x]\n",
    "        return names\n",
    "    "
   ]
  },
  {
   "cell_type": "markdown",
   "metadata": {},
   "source": [
    "#### Return the list of top three actors"
   ]
  },
  {
   "cell_type": "code",
   "execution_count": 16,
   "metadata": {},
   "outputs": [],
   "source": [
    "\n",
    "def get_list(x):\n",
    "    if isinstance(x, list):\n",
    "        names = [i['name'] for i in x]\n",
    "        #Check if more than 3 elements exist. If yes, return only first three. If no, return entire list.\n",
    "        if len(names) > 3:\n",
    "            names = names[:3]\n",
    "        return names\n",
    "\n",
    "    #Return empty list in case of missing/malformed data\n",
    "    return []"
   ]
  },
  {
   "cell_type": "markdown",
   "metadata": {},
   "source": [
    "#### Define the new features:"
   ]
  },
  {
   "cell_type": "code",
   "execution_count": 17,
   "metadata": {},
   "outputs": [],
   "source": [
    "tmdb_Movies['director'] = tmdb_Movies['crew'].apply(get_director)\n",
    "tmdb_Movies['production_companies']=tmdb_Movies['production_companies'].apply(get_pclist)\n",
    "features = ['cast', 'keywords', 'genres']\n",
    "for feature in features:\n",
    "    tmdb_Movies[feature] = tmdb_Movies[feature].apply(get_list)\n",
    "    "
   ]
  },
  {
   "cell_type": "markdown",
   "metadata": {},
   "source": [
    "### Data cleaning\n",
    "Convert the names and keyword instances into lowercase and strip all the spaces between them.\n",
    "\n",
    "#### Function for cleaning\n",
    "\n"
   ]
  },
  {
   "cell_type": "code",
   "execution_count": 18,
   "metadata": {},
   "outputs": [],
   "source": [
    "# Function to convert all strings to lower case and strip names of spaces\n",
    "def clean_data(x):\n",
    "    if isinstance(x, list):\n",
    "        return [str.lower(i.replace(\" \", \"\")) for i in x]\n",
    "    else:\n",
    "        #Check if director exists. If not, return empty string\n",
    "        if isinstance(x, str):\n",
    "            return str.lower(x.replace(\" \", \"\"))\n",
    "        else:\n",
    "            return ''\n",
    "        "
   ]
  },
  {
   "cell_type": "markdown",
   "metadata": {},
   "source": [
    "#### Apply the cleaning function to the required features.\n"
   ]
  },
  {
   "cell_type": "code",
   "execution_count": 19,
   "metadata": {},
   "outputs": [],
   "source": [
    "# Apply clean_data function to your features.\n",
    "features = ['cast', 'keywords', 'director', 'genres','production_companies']\n",
    "\n",
    "for feature in features:\n",
    "    tmdb_Movies[feature] = tmdb_Movies[feature].apply(clean_data)\n",
    "    "
   ]
  },
  {
   "cell_type": "markdown",
   "metadata": {},
   "source": [
    "### Metadata\n",
    "\n",
    "Metadata is \"data information that provides information about other data\". Many distinct types of metadata exist, among these descriptive metadata, structural metadata, administrative metadata, reference metadata and statistical metadata.\n",
    "\n",
    "#### Metadata Creation:\n"
   ]
  },
  {
   "cell_type": "code",
   "execution_count": 20,
   "metadata": {},
   "outputs": [],
   "source": [
    "def create_Metadata(x):\n",
    "    return ' '.join(x['keywords']) + ' ' + ' '.join(x['cast']) + ' ' + x['director']+' ' + x['director']+ ' ' + ' '.join(x['genres'])+' ' + ' '.join(x['production_companies'])\n",
    "tmdb_Movies['metadata'] = tmdb_Movies.apply(create_Metadata, axis=1)"
   ]
  },
  {
   "cell_type": "markdown",
   "metadata": {},
   "source": [
    "### Feature Extraction\n",
    "\n",
    "Feature extraction starts from an initial set of measured data and builds derived values (features) intended to be informative and non-redundant, facilitating the subsequent learning and generalization steps, and in some cases leading to better human interpretations. Feature extraction is related to dimensionality reduction.\n",
    "\n",
    "The sklearn.feature_extraction module can be used to extract features in a format supported by machine learning algorithms from datasets consisting of formats such as text and image.\n"
   ]
  },
  {
   "cell_type": "code",
   "execution_count": 21,
   "metadata": {},
   "outputs": [],
   "source": [
    "# Import CountVectorizer and create the count matrix\n",
    "from sklearn.feature_extraction.text import CountVectorizer\n",
    "\n",
    "count = CountVectorizer(stop_words='english')\n",
    "count_matrix = count.fit_transform(tmdb_Movies['metadata'])"
   ]
  },
  {
   "cell_type": "markdown",
   "metadata": {},
   "source": [
    "### Computing Similarity\n",
    "\n",
    "##### Cosine similarity is used\n",
    "\n"
   ]
  },
  {
   "cell_type": "code",
   "execution_count": 22,
   "metadata": {},
   "outputs": [],
   "source": [
    "from sklearn.metrics.pairwise import cosine_similarity\n",
    "\n",
    "cosine_sim2 = cosine_similarity(count_matrix, count_matrix)"
   ]
  },
  {
   "cell_type": "markdown",
   "metadata": {},
   "source": [
    "### Define a recommendation function\n",
    "\n",
    "Input: Movie Title\n",
    "Output: 10 most similar movies\n",
    "\n",
    "\n",
    "### Reverse Mapping of Movie titles and Dataframe indices\n",
    "This is required to identify the index of a movie when its title is given.\n",
    "\n"
   ]
  },
  {
   "cell_type": "code",
   "execution_count": 23,
   "metadata": {},
   "outputs": [],
   "source": [
    "indices = pd.Series(tmdb_Movies.index, index=tmdb_Movies['title']).drop_duplicates()\n",
    "\n"
   ]
  },
  {
   "cell_type": "markdown",
   "metadata": {},
   "source": [
    "### Function Definition:\n"
   ]
  },
  {
   "cell_type": "code",
   "execution_count": 24,
   "metadata": {},
   "outputs": [],
   "source": [
    "\n",
    "def get_recommendations(title, cosine_sim=cosine_sim2):\n",
    "    # Get the index using indices(Defined above)\n",
    "    idx = indices[title]\n",
    "\n",
    "    # Calculate the cosine similarity score\n",
    "    sim_scores = list(enumerate(cosine_sim[idx]))\n",
    "\n",
    "    # Sort the movies based on the similarity scores \n",
    "    sim_scores = sorted(sim_scores, key=lambda x: x[1], reverse=True)\n",
    "\n",
    "    # The 10 most similar movies\n",
    "    sim_scores = sim_scores[1:11]\n",
    "\n",
    "    # Get the indices\n",
    "    movie_indices = [i[0] for i in sim_scores]\n",
    "\n",
    "    # Return the 'title'of the top 10 most similar movies\n",
    "    return tmdb_Movies['title'].iloc[movie_indices]"
   ]
  },
  {
   "cell_type": "markdown",
   "metadata": {},
   "source": [
    "### Function call\n",
    "\n",
    "By calling the function we get names of 10 similar movies."
   ]
  },
  {
   "cell_type": "code",
   "execution_count": 25,
   "metadata": {},
   "outputs": [
    {
     "data": {
      "text/plain": [
       "7          Avengers: Age of Ultron\n",
       "79                      Iron Man 2\n",
       "182                        Ant-Man\n",
       "2509                       Slither\n",
       "16                    The Avengers\n",
       "4033                         Super\n",
       "174            The Incredible Hulk\n",
       "4401           The Helix... Loaded\n",
       "26      Captain America: Civil War\n",
       "31                      Iron Man 3\n",
       "Name: title, dtype: object"
      ]
     },
     "execution_count": 25,
     "metadata": {},
     "output_type": "execute_result"
    }
   ],
   "source": [
    "get_recommendations('Guardians of the Galaxy',cosine_sim2)"
   ]
  },
  {
   "cell_type": "markdown",
   "metadata": {},
   "source": [
    "### Collaborative Filtering\n",
    "\n",
    "- User-based collaborative filtering In User-based filtering the system calculates similarity between pairs of users.Recommendation of movies to a user is based on what similar users have liked.\n",
    "\n",
    "- Item Based Collaborative FilteringItem- is a form of collaborative filtering for recommender systems based on the similarity between items calculated using people's ratings of those items. The system executes a model-building stage by finding the similarity between all pairs of items. This similarity function can take many forms, such as correlation between ratings or cosine of those rating vectors. It uses the most similar items to a user's already-rated items to generate a list of recommendations.\n",
    "\n",
    "### Problems of Collaborative Filtering Model\n",
    "\n",
    "- Scale\n",
    "- Sparse Data\n",
    "- Cold start\n",
    "- Popularity Bias\n",
    "\n",
    " #### Algorithm Selection\n",
    "- Categorize the problem:Categorize by the input or Categorize by output\n",
    "- Understand the Data: Analyse,Process and Transform data.\n",
    "- Idenftify available algorithms:Identify the algorithms that are applicable and practical to implement in a reasonable time.\n",
    "- Implement Machine Learning Algorithm:Set up a machine learning pipeline that compares the performance of each algorithm.\n",
    "- Optimize hyperparameters:Three options for optimizing hyperparameters, grid search, random search, and Bayesian optimization.\n",
    "- Feature engineering: Feature engineering is the process of using domain knowledge of the data to create features that make machine learning algorithms work.This step involves the art and science of transforming raw data into features that better represent a pattern to the learning algorithms.\n",
    "### Model Preparation: \n",
    "To prepare data for builidng efficient models that provide high accuracy.\n",
    "### Splitting data into training and evaluation sets:\n",
    "Split the data into two sets, one for training the algorithm, and another for evaluation purposes. Non-overlapping subsets of the data must be selected for the training and evaluation sets in order to ensure proper testing.\n",
    "- Training dataset: A training dataset is a dataset of examples used for learning, that is to fit the parameters.\n",
    "- Test dataset: A test dataset is a dataset that is independent of the training dataset, but that follows the same probability distribution as the training dataset.A test set is therefore a set of examples used only to assess the performance.\n",
    "\n",
    " ### Machine Learning Model\n",
    "The term ML model refers to the model artifact that is created by the training process.The ML model is used for getting predictions on new data for which the target is not known.\n",
    "\n",
    " ### Model Selection Criteria\n",
    "- Accuracy\n",
    "- Interpretability\n",
    "- Complexity\n",
    "- Scalability\n",
    "- Time to build, train, and test\n",
    "- Time make predictions\n",
    "- Business goal achievement\n",
    "### Latent Factor Model\n",
    "It describes a property or concept that a user or an item have.It can handle the scalability and sparsity issue created by collaborative filtering system.\n",
    "\n",
    "### Single Value Decomposition\n",
    "SVD is a Matrix Factorization techniques are usually more effective because they allow us to discover the latent features underlying the interactions between users and items.\n",
    "Singular value decomposition takes a rectangular matrix of gene expression data (defined as A, where A is a n x p matrix) in which the n rows represents the genes, and the p columns represents the experimental conditions. The SVD theorem states:\n",
    "\n",
    " ##### Anxp= Unxn Snxp VTpxp\n",
    "\n",
    "\n",
    "\n",
    "#### We will load a new data set which has the feature 'userid' which will be required for this model.\n",
    "\n",
    "\n"
   ]
  },
  {
   "cell_type": "code",
   "execution_count": 63,
   "metadata": {
    "scrolled": true
   },
   "outputs": [
    {
     "data": {
      "text/html": [
       "<div>\n",
       "<style scoped>\n",
       "    .dataframe tbody tr th:only-of-type {\n",
       "        vertical-align: middle;\n",
       "    }\n",
       "\n",
       "    .dataframe tbody tr th {\n",
       "        vertical-align: top;\n",
       "    }\n",
       "\n",
       "    .dataframe thead th {\n",
       "        text-align: right;\n",
       "    }\n",
       "</style>\n",
       "<table border=\"1\" class=\"dataframe\">\n",
       "  <thead>\n",
       "    <tr style=\"text-align: right;\">\n",
       "      <th></th>\n",
       "      <th>userId</th>\n",
       "      <th>movieId</th>\n",
       "      <th>rating</th>\n",
       "      <th>timestamp</th>\n",
       "    </tr>\n",
       "  </thead>\n",
       "  <tbody>\n",
       "    <tr>\n",
       "      <th>0</th>\n",
       "      <td>1</td>\n",
       "      <td>31</td>\n",
       "      <td>2.5</td>\n",
       "      <td>1260759144</td>\n",
       "    </tr>\n",
       "    <tr>\n",
       "      <th>1</th>\n",
       "      <td>1</td>\n",
       "      <td>1029</td>\n",
       "      <td>3.0</td>\n",
       "      <td>1260759179</td>\n",
       "    </tr>\n",
       "    <tr>\n",
       "      <th>2</th>\n",
       "      <td>1</td>\n",
       "      <td>1061</td>\n",
       "      <td>3.0</td>\n",
       "      <td>1260759182</td>\n",
       "    </tr>\n",
       "    <tr>\n",
       "      <th>3</th>\n",
       "      <td>1</td>\n",
       "      <td>1129</td>\n",
       "      <td>2.0</td>\n",
       "      <td>1260759185</td>\n",
       "    </tr>\n",
       "    <tr>\n",
       "      <th>4</th>\n",
       "      <td>1</td>\n",
       "      <td>1172</td>\n",
       "      <td>4.0</td>\n",
       "      <td>1260759205</td>\n",
       "    </tr>\n",
       "  </tbody>\n",
       "</table>\n",
       "</div>"
      ],
      "text/plain": [
       "   userId  movieId  rating   timestamp\n",
       "0       1       31     2.5  1260759144\n",
       "1       1     1029     3.0  1260759179\n",
       "2       1     1061     3.0  1260759182\n",
       "3       1     1129     2.0  1260759185\n",
       "4       1     1172     4.0  1260759205"
      ]
     },
     "execution_count": 63,
     "metadata": {},
     "output_type": "execute_result"
    }
   ],
   "source": [
    "from surprise import Reader, Dataset, SVD\n",
    "from surprise.model_selection import cross_validate\n",
    "reader = Reader()\n",
    "ratings = pd.read_csv(r'D:\\Movie_recommendation_engine\\ratings_small.csv')\n",
    "#The new data:\n",
    "ratings.head()\n",
    "\n",
    "\n",
    "\n"
   ]
  },
  {
   "cell_type": "code",
   "execution_count": 64,
   "metadata": {},
   "outputs": [],
   "source": [
    "svd = SVD()"
   ]
  },
  {
   "cell_type": "code",
   "execution_count": 65,
   "metadata": {},
   "outputs": [
    {
     "data": {
      "text/plain": [
       "{'test_rmse': array([0.88991962, 0.90602426, 0.89184102, 0.9006499 , 0.89909667]),\n",
       " 'test_mae': array([0.68638904, 0.69410266, 0.68669526, 0.69282434, 0.69411183]),\n",
       " 'fit_time': (7.7224414348602295,\n",
       "  7.943454265594482,\n",
       "  7.797446012496948,\n",
       "  7.780445098876953,\n",
       "  7.619435787200928),\n",
       " 'test_time': (0.2630150318145752,\n",
       "  0.3850221633911133,\n",
       "  0.250014066696167,\n",
       "  0.3430194854736328,\n",
       "  0.24801421165466309)}"
      ]
     },
     "execution_count": 65,
     "metadata": {},
     "output_type": "execute_result"
    }
   ],
   "source": [
    "cross_validate(svd, data, measures=['RMSE', 'MAE'])\n"
   ]
  },
  {
   "cell_type": "markdown",
   "metadata": {},
   "source": [
    "### Dataset Training"
   ]
  },
  {
   "cell_type": "code",
   "execution_count": 67,
   "metadata": {},
   "outputs": [
    {
     "data": {
      "text/plain": [
       "<surprise.prediction_algorithms.matrix_factorization.SVD at 0x11fdc708>"
      ]
     },
     "execution_count": 67,
     "metadata": {},
     "output_type": "execute_result"
    }
   ],
   "source": [
    "trainset = data.build_full_trainset()\n",
    "svd.fit(trainset)"
   ]
  },
  {
   "cell_type": "markdown",
   "metadata": {},
   "source": [
    "### Model Validation\n",
    "\n",
    "Model validation is referred to as the process where a trained model is evaluated with a testing data set.\n",
    "\n",
    "### Prediction"
   ]
  },
  {
   "cell_type": "code",
   "execution_count": 69,
   "metadata": {},
   "outputs": [
    {
     "data": {
      "text/plain": [
       "Prediction(uid=1, iid=32, r_ui=3, est=2.925871592634195, details={'was_impossible': False})"
      ]
     },
     "execution_count": 69,
     "metadata": {},
     "output_type": "execute_result"
    }
   ],
   "source": [
    "svd.predict(1, 32, 3)"
   ]
  },
  {
   "cell_type": "markdown",
   "metadata": {},
   "source": [
    "### For user 1, the prediction value=2.92, for the movie with id=32"
   ]
  },
  {
   "cell_type": "code",
   "execution_count": 71,
   "metadata": {},
   "outputs": [
    {
     "data": {
      "text/plain": [
       "Prediction(uid=2, iid=32, r_ui=3, est=3.704445884866218, details={'was_impossible': False})"
      ]
     },
     "execution_count": 71,
     "metadata": {},
     "output_type": "execute_result"
    }
   ],
   "source": [
    "svd.predict(2,32,3)"
   ]
  },
  {
   "cell_type": "markdown",
   "metadata": {},
   "source": [
    "### For user 2, the prediction value=3.70, for the movie with id=32"
   ]
  },
  {
   "cell_type": "markdown",
   "metadata": {},
   "source": [
    "### Some Data Visualization for better analysis of the data "
   ]
  },
  {
   "cell_type": "code",
   "execution_count": 72,
   "metadata": {},
   "outputs": [],
   "source": [
    "import plotly.express as px\n",
    "import seaborn as sns\n",
    "import plotly.graph_objects as go\n"
   ]
  },
  {
   "cell_type": "markdown",
   "metadata": {},
   "source": [
    "### Below is a KDE plot depicting Average Vote Count of users for each movie"
   ]
  },
  {
   "cell_type": "code",
   "execution_count": 74,
   "metadata": {},
   "outputs": [
    {
     "data": {
      "text/plain": [
       "<matplotlib.axes._subplots.AxesSubplot at 0x12ec5f48>"
      ]
     },
     "execution_count": 74,
     "metadata": {},
     "output_type": "execute_result"
    },
    {
     "data": {
      "image/png": "[encoded data removed]",
      "text/plain": [
       "<Figure size 1008x432 with 1 Axes>"
      ]
     },
     "metadata": {
      "needs_background": "light"
     },
     "output_type": "display_data"
    }
   ],
   "source": [
    "plt.figure(figsize=(14,6))\n",
    "plt.title(\"Release Dates of the Movies\")\n",
    "sns.kdeplot(data=tmdb_Movies.vote_average,shade=True)"
   ]
  },
  {
   "cell_type": "markdown",
   "metadata": {},
   "source": [
    "#### Below is a plot showing revenue of top 10 movies grouped according to director. Popularity of the movie can be seen upon hovering."
   ]
  },
  {
   "cell_type": "code",
   "execution_count": 76,
   "metadata": {},
   "outputs": [
    {
     "data": {
      "application/vnd.plotly.v1+json": {
       "config": {
        "plotlyServerURL": "https://plot.ly"
       },
       "data": [
        {
         "alignmentgroup": "True",
         "customdata": [
          [
           150.437577
          ],
          [
           100.025899
          ]
         ],
         "hovertemplate": "director=jamescameron<br>title=%{x}<br>revenue=%{y}<br>popularity=%{customdata[0]}<extra></extra>",
         "legendgroup": "jamescameron",
         "marker": {
          "color": "#636efa"
         },
         "name": "jamescameron",
         "offsetgroup": "jamescameron",
         "orientation": "v",
         "showlegend": true,
         "textposition": "auto",
         "type": "bar",
         "x": [
          "Avatar",
          "Titanic"
         ],
         "xaxis": "x",
         "y": [
          2787965087,
          1845034188
         ],
         "yaxis": "y"
        },
        {
         "alignmentgroup": "True",
         "customdata": [
          [
           144.448633
          ],
          [
           134.27922900000002
          ]
         ],
         "hovertemplate": "director=josswhedon<br>title=%{x}<br>revenue=%{y}<br>popularity=%{customdata[0]}<extra></extra>",
         "legendgroup": "josswhedon",
         "marker": {
          "color": "#EF553B"
         },
         "name": "josswhedon",
         "offsetgroup": "josswhedon",
         "orientation": "v",
         "showlegend": true,
         "textposition": "auto",
         "type": "bar",
         "x": [
          "The Avengers",
          "Avengers: Age of Ultron"
         ],
         "xaxis": "x",
         "y": [
          1519557910,
          1405403694
         ],
         "yaxis": "y"
        },
        {
         "alignmentgroup": "True",
         "customdata": [
          [
           418.708552
          ]
         ],
         "hovertemplate": "director=colintrevorrow<br>title=%{x}<br>revenue=%{y}<br>popularity=%{customdata[0]}<extra></extra>",
         "legendgroup": "colintrevorrow",
         "marker": {
          "color": "#00cc96"
         },
         "name": "colintrevorrow",
         "offsetgroup": "colintrevorrow",
         "orientation": "v",
         "showlegend": true,
         "textposition": "auto",
         "type": "bar",
         "x": [
          "Jurassic World"
         ],
         "xaxis": "x",
         "y": [
          1513528810
         ],
         "yaxis": "y"
        },
        {
         "alignmentgroup": "True",
         "customdata": [
          [
           102.32221700000001
          ]
         ],
         "hovertemplate": "director=jameswan<br>title=%{x}<br>revenue=%{y}<br>popularity=%{customdata[0]}<extra></extra>",
         "legendgroup": "jameswan",
         "marker": {
          "color": "#ab63fa"
         },
         "name": "jameswan",
         "offsetgroup": "jameswan",
         "orientation": "v",
         "showlegend": true,
         "textposition": "auto",
         "type": "bar",
         "x": [
          "Furious 7"
         ],
         "xaxis": "x",
         "y": [
          1506249360
         ],
         "yaxis": "y"
        },
        {
         "alignmentgroup": "True",
         "customdata": [
          [
           165.12536599999999
          ]
         ],
         "hovertemplate": "director=chrisbuck<br>title=%{x}<br>revenue=%{y}<br>popularity=%{customdata[0]}<extra></extra>",
         "legendgroup": "chrisbuck",
         "marker": {
          "color": "#FFA15A"
         },
         "name": "chrisbuck",
         "offsetgroup": "chrisbuck",
         "orientation": "v",
         "showlegend": true,
         "textposition": "auto",
         "type": "bar",
         "x": [
          "Frozen"
         ],
         "xaxis": "x",
         "y": [
          1274219009
         ],
         "yaxis": "y"
        },
        {
         "alignmentgroup": "True",
         "customdata": [
          [
           77.68208
          ]
         ],
         "hovertemplate": "director=shaneblack<br>title=%{x}<br>revenue=%{y}<br>popularity=%{customdata[0]}<extra></extra>",
         "legendgroup": "shaneblack",
         "marker": {
          "color": "#19d3f3"
         },
         "name": "shaneblack",
         "offsetgroup": "shaneblack",
         "orientation": "v",
         "showlegend": true,
         "textposition": "auto",
         "type": "bar",
         "x": [
          "Iron Man 3"
         ],
         "xaxis": "x",
         "y": [
          1215439994
         ],
         "yaxis": "y"
        },
        {
         "alignmentgroup": "True",
         "customdata": [
          [
           875.581305
          ]
         ],
         "hovertemplate": "director=kylebalda<br>title=%{x}<br>revenue=%{y}<br>popularity=%{customdata[0]}<extra></extra>",
         "legendgroup": "kylebalda",
         "marker": {
          "color": "#FF6692"
         },
         "name": "kylebalda",
         "offsetgroup": "kylebalda",
         "orientation": "v",
         "showlegend": true,
         "textposition": "auto",
         "type": "bar",
         "x": [
          "Minions"
         ],
         "xaxis": "x",
         "y": [
          1156730962
         ],
         "yaxis": "y"
        },
        {
         "alignmentgroup": "True",
         "customdata": [
          [
           198.37239499999998
          ]
         ],
         "hovertemplate": "director=anthonyrusso<br>title=%{x}<br>revenue=%{y}<br>popularity=%{customdata[0]}<extra></extra>",
         "legendgroup": "anthonyrusso",
         "marker": {
          "color": "#B6E880"
         },
         "name": "anthonyrusso",
         "offsetgroup": "anthonyrusso",
         "orientation": "v",
         "showlegend": true,
         "textposition": "auto",
         "type": "bar",
         "x": [
          "Captain America: Civil War"
         ],
         "xaxis": "x",
         "y": [
          1153304495
         ],
         "yaxis": "y"
        }
       ],
       "layout": {
        "barmode": "relative",
        "height": 500,
        "legend": {
         "title": {
          "text": "director"
         },
         "tracegroupgap": 0
        },
        "margin": {
         "t": 60
        },
        "template": {
         "data": {
          "bar": [
           {
            "error_x": {
             "color": "#2a3f5f"
            },
            "error_y": {
             "color": "#2a3f5f"
            },
            "marker": {
             "line": {
              "color": "#E5ECF6",
              "width": 0.5
             }
            },
            "type": "bar"
           }
          ],
          "barpolar": [
           {
            "marker": {
             "line": {
              "color": "#E5ECF6",
              "width": 0.5
             }
            },
            "type": "barpolar"
           }
          ],
          "carpet": [
           {
            "aaxis": {
             "endlinecolor": "#2a3f5f",
             "gridcolor": "white",
             "linecolor": "white",
             "minorgridcolor": "white",
             "startlinecolor": "#2a3f5f"
            },
            "baxis": {
             "endlinecolor": "#2a3f5f",
             "gridcolor": "white",
             "linecolor": "white",
             "minorgridcolor": "white",
             "startlinecolor": "#2a3f5f"
            },
            "type": "carpet"
           }
          ],
          "choropleth": [
           {
            "colorbar": {
             "outlinewidth": 0,
             "ticks": ""
            },
            "type": "choropleth"
           }
          ],
          "contour": [
           {
            "colorbar": {
             "outlinewidth": 0,
             "ticks": ""
            },
            "colorscale": [
             [
              0,
              "#0d0887"
             ],
             [
              0.1111111111111111,
              "#46039f"
             ],
             [
              0.2222222222222222,
              "#7201a8"
             ],
             [
              0.3333333333333333,
              "#9c179e"
             ],
             [
              0.4444444444444444,
              "#bd3786"
             ],
             [
              0.5555555555555556,
              "#d8576b"
             ],
             [
              0.6666666666666666,
              "#ed7953"
             ],
             [
              0.7777777777777778,
              "#fb9f3a"
             ],
             [
              0.8888888888888888,
              "#fdca26"
             ],
             [
              1,
              "#f0f921"
             ]
            ],
            "type": "contour"
           }
          ],
          "contourcarpet": [
           {
            "colorbar": {
             "outlinewidth": 0,
             "ticks": ""
            },
            "type": "contourcarpet"
           }
          ],
          "heatmap": [
           {
            "colorbar": {
             "outlinewidth": 0,
             "ticks": ""
            },
            "colorscale": [
             [
              0,
              "#0d0887"
             ],
             [
              0.1111111111111111,
              "#46039f"
             ],
             [
              0.2222222222222222,
              "#7201a8"
             ],
             [
              0.3333333333333333,
              "#9c179e"
             ],
             [
              0.4444444444444444,
              "#bd3786"
             ],
             [
              0.5555555555555556,
              "#d8576b"
             ],
             [
              0.6666666666666666,
              "#ed7953"
             ],
             [
              0.7777777777777778,
              "#fb9f3a"
             ],
             [
              0.8888888888888888,
              "#fdca26"
             ],
             [
              1,
              "#f0f921"
             ]
            ],
            "type": "heatmap"
           }
          ],
          "heatmapgl": [
           {
            "colorbar": {
             "outlinewidth": 0,
             "ticks": ""
            },
            "colorscale": [
             [
              0,
              "#0d0887"
             ],
             [
              0.1111111111111111,
              "#46039f"
             ],
             [
              0.2222222222222222,
              "#7201a8"
             ],
             [
              0.3333333333333333,
              "#9c179e"
             ],
             [
              0.4444444444444444,
              "#bd3786"
             ],
             [
              0.5555555555555556,
              "#d8576b"
             ],
             [
              0.6666666666666666,
              "#ed7953"
             ],
             [
              0.7777777777777778,
              "#fb9f3a"
             ],
             [
              0.8888888888888888,
              "#fdca26"
             ],
             [
              1,
              "#f0f921"
             ]
            ],
            "type": "heatmapgl"
           }
          ],
          "histogram": [
           {
            "marker": {
             "colorbar": {
              "outlinewidth": 0,
              "ticks": ""
             }
            },
            "type": "histogram"
           }
          ],
          "histogram2d": [
           {
            "colorbar": {
             "outlinewidth": 0,
             "ticks": ""
            },
            "colorscale": [
             [
              0,
              "#0d0887"
             ],
             [
              0.1111111111111111,
              "#46039f"
             ],
             [
              0.2222222222222222,
              "#7201a8"
             ],
             [
              0.3333333333333333,
              "#9c179e"
             ],
             [
              0.4444444444444444,
              "#bd3786"
             ],
             [
              0.5555555555555556,
              "#d8576b"
             ],
             [
              0.6666666666666666,
              "#ed7953"
             ],
             [
              0.7777777777777778,
              "#fb9f3a"
             ],
             [
              0.8888888888888888,
              "#fdca26"
             ],
             [
              1,
              "#f0f921"
             ]
            ],
            "type": "histogram2d"
           }
          ],
          "histogram2dcontour": [
           {
            "colorbar": {
             "outlinewidth": 0,
             "ticks": ""
            },
            "colorscale": [
             [
              0,
              "#0d0887"
             ],
             [
              0.1111111111111111,
              "#46039f"
             ],
             [
              0.2222222222222222,
              "#7201a8"
             ],
             [
              0.3333333333333333,
              "#9c179e"
             ],
             [
              0.4444444444444444,
              "#bd3786"
             ],
             [
              0.5555555555555556,
              "#d8576b"
             ],
             [
              0.6666666666666666,
              "#ed7953"
             ],
             [
              0.7777777777777778,
              "#fb9f3a"
             ],
             [
              0.8888888888888888,
              "#fdca26"
             ],
             [
              1,
              "#f0f921"
             ]
            ],
            "type": "histogram2dcontour"
           }
          ],
          "mesh3d": [
           {
            "colorbar": {
             "outlinewidth": 0,
             "ticks": ""
            },
            "type": "mesh3d"
           }
          ],
          "parcoords": [
           {
            "line": {
             "colorbar": {
              "outlinewidth": 0,
              "ticks": ""
             }
            },
            "type": "parcoords"
           }
          ],
          "pie": [
           {
            "automargin": true,
            "type": "pie"
           }
          ],
          "scatter": [
           {
            "marker": {
             "colorbar": {
              "outlinewidth": 0,
              "ticks": ""
             }
            },
            "type": "scatter"
           }
          ],
          "scatter3d": [
           {
            "line": {
             "colorbar": {
              "outlinewidth": 0,
              "ticks": ""
             }
            },
            "marker": {
             "colorbar": {
              "outlinewidth": 0,
              "ticks": ""
             }
            },
            "type": "scatter3d"
           }
          ],
          "scattercarpet": [
           {
            "marker": {
             "colorbar": {
              "outlinewidth": 0,
              "ticks": ""
             }
            },
            "type": "scattercarpet"
           }
          ],
          "scattergeo": [
           {
            "marker": {
             "colorbar": {
              "outlinewidth": 0,
              "ticks": ""
             }
            },
            "type": "scattergeo"
           }
          ],
          "scattergl": [
           {
            "marker": {
             "colorbar": {
              "outlinewidth": 0,
              "ticks": ""
             }
            },
            "type": "scattergl"
           }
          ],
          "scattermapbox": [
           {
            "marker": {
             "colorbar": {
              "outlinewidth": 0,
              "ticks": ""
             }
            },
            "type": "scattermapbox"
           }
          ],
          "scatterpolar": [
           {
            "marker": {
             "colorbar": {
              "outlinewidth": 0,
              "ticks": ""
             }
            },
            "type": "scatterpolar"
           }
          ],
          "scatterpolargl": [
           {
            "marker": {
             "colorbar": {
              "outlinewidth": 0,
              "ticks": ""
             }
            },
            "type": "scatterpolargl"
           }
          ],
          "scatterternary": [
           {
            "marker": {
             "colorbar": {
              "outlinewidth": 0,
              "ticks": ""
             }
            },
            "type": "scatterternary"
           }
          ],
          "surface": [
           {
            "colorbar": {
             "outlinewidth": 0,
             "ticks": ""
            },
            "colorscale": [
             [
              0,
              "#0d0887"
             ],
             [
              0.1111111111111111,
              "#46039f"
             ],
             [
              0.2222222222222222,
              "#7201a8"
             ],
             [
              0.3333333333333333,
              "#9c179e"
             ],
             [
              0.4444444444444444,
              "#bd3786"
             ],
             [
              0.5555555555555556,
              "#d8576b"
             ],
             [
              0.6666666666666666,
              "#ed7953"
             ],
             [
              0.7777777777777778,
              "#fb9f3a"
             ],
             [
              0.8888888888888888,
              "#fdca26"
             ],
             [
              1,
              "#f0f921"
             ]
            ],
            "type": "surface"
           }
          ],
          "table": [
           {
            "cells": {
             "fill": {
              "color": "#EBF0F8"
             },
             "line": {
              "color": "white"
             }
            },
            "header": {
             "fill": {
              "color": "#C8D4E3"
             },
             "line": {
              "color": "white"
             }
            },
            "type": "table"
           }
          ]
         },
         "layout": {
          "annotationdefaults": {
           "arrowcolor": "#2a3f5f",
           "arrowhead": 0,
           "arrowwidth": 1
          },
          "coloraxis": {
           "colorbar": {
            "outlinewidth": 0,
            "ticks": ""
           }
          },
          "colorscale": {
           "diverging": [
            [
             0,
             "#8e0152"
            ],
            [
             0.1,
             "#c51b7d"
            ],
            [
             0.2,
             "#de77ae"
            ],
            [
             0.3,
             "#f1b6da"
            ],
            [
             0.4,
             "#fde0ef"
            ],
            [
             0.5,
             "#f7f7f7"
            ],
            [
             0.6,
             "#e6f5d0"
            ],
            [
             0.7,
             "#b8e186"
            ],
            [
             0.8,
             "#7fbc41"
            ],
            [
             0.9,
             "#4d9221"
            ],
            [
             1,
             "#276419"
            ]
           ],
           "sequential": [
            [
             0,
             "#0d0887"
            ],
            [
             0.1111111111111111,
             "#46039f"
            ],
            [
             0.2222222222222222,
             "#7201a8"
            ],
            [
             0.3333333333333333,
             "#9c179e"
            ],
            [
             0.4444444444444444,
             "#bd3786"
            ],
            [
             0.5555555555555556,
             "#d8576b"
            ],
            [
             0.6666666666666666,
             "#ed7953"
            ],
            [
             0.7777777777777778,
             "#fb9f3a"
            ],
            [
             0.8888888888888888,
             "#fdca26"
            ],
            [
             1,
             "#f0f921"
            ]
           ],
           "sequentialminus": [
            [
             0,
             "#0d0887"
            ],
            [
             0.1111111111111111,
             "#46039f"
            ],
            [
             0.2222222222222222,
             "#7201a8"
            ],
            [
             0.3333333333333333,
             "#9c179e"
            ],
            [
             0.4444444444444444,
             "#bd3786"
            ],
            [
             0.5555555555555556,
             "#d8576b"
            ],
            [
             0.6666666666666666,
             "#ed7953"
            ],
            [
             0.7777777777777778,
             "#fb9f3a"
            ],
            [
             0.8888888888888888,
             "#fdca26"
            ],
            [
             1,
             "#f0f921"
            ]
           ]
          },
          "colorway": [
           "#636efa",
           "#EF553B",
           "#00cc96",
           "#ab63fa",
           "#FFA15A",
           "#19d3f3",
           "#FF6692",
           "#B6E880",
           "#FF97FF",
           "#FECB52"
          ],
          "font": {
           "color": "#2a3f5f"
          },
          "geo": {
           "bgcolor": "white",
           "lakecolor": "white",
           "landcolor": "#E5ECF6",
           "showlakes": true,
           "showland": true,
           "subunitcolor": "white"
          },
          "hoverlabel": {
           "align": "left"
          },
          "hovermode": "closest",
          "mapbox": {
           "style": "light"
          },
          "paper_bgcolor": "white",
          "plot_bgcolor": "#E5ECF6",
          "polar": {
           "angularaxis": {
            "gridcolor": "white",
            "linecolor": "white",
            "ticks": ""
           },
           "bgcolor": "#E5ECF6",
           "radialaxis": {
            "gridcolor": "white",
            "linecolor": "white",
            "ticks": ""
           }
          },
          "scene": {
           "xaxis": {
            "backgroundcolor": "#E5ECF6",
            "gridcolor": "white",
            "gridwidth": 2,
            "linecolor": "white",
            "showbackground": true,
            "ticks": "",
            "zerolinecolor": "white"
           },
           "yaxis": {
            "backgroundcolor": "#E5ECF6",
            "gridcolor": "white",
            "gridwidth": 2,
            "linecolor": "white",
            "showbackground": true,
            "ticks": "",
            "zerolinecolor": "white"
           },
           "zaxis": {
            "backgroundcolor": "#E5ECF6",
            "gridcolor": "white",
            "gridwidth": 2,
            "linecolor": "white",
            "showbackground": true,
            "ticks": "",
            "zerolinecolor": "white"
           }
          },
          "shapedefaults": {
           "line": {
            "color": "#2a3f5f"
           }
          },
          "ternary": {
           "aaxis": {
            "gridcolor": "white",
            "linecolor": "white",
            "ticks": ""
           },
           "baxis": {
            "gridcolor": "white",
            "linecolor": "white",
            "ticks": ""
           },
           "bgcolor": "#E5ECF6",
           "caxis": {
            "gridcolor": "white",
            "linecolor": "white",
            "ticks": ""
           }
          },
          "title": {
           "x": 0.05
          },
          "xaxis": {
           "automargin": true,
           "gridcolor": "white",
           "linecolor": "white",
           "ticks": "",
           "title": {
            "standoff": 15
           },
           "zerolinecolor": "white",
           "zerolinewidth": 2
          },
          "yaxis": {
           "automargin": true,
           "gridcolor": "white",
           "linecolor": "white",
           "ticks": "",
           "title": {
            "standoff": 15
           },
           "zerolinecolor": "white",
           "zerolinewidth": 2
          }
         }
        },
        "xaxis": {
         "anchor": "y",
         "domain": [
          0,
          1
         ],
         "title": {
          "text": "title"
         }
        },
        "yaxis": {
         "anchor": "x",
         "domain": [
          0,
          1
         ],
         "title": {
          "text": "revenue"
         }
        }
       }
      },
      "text/html": [
       "<div>\n",
       "        \n",
       "        \n",
       "            <div id=\"58ff0430-7b64-4c18-9edb-d76be1147945\" class=\"plotly-graph-div\" style=\"height:500px; width:100%;\"></div>\n",
       "            <script type=\"text/javascript\">\n",
       "                require([\"plotly\"], function(Plotly) {\n",
       "                    window.PLOTLYENV=window.PLOTLYENV || {};\n",
       "                    \n",
       "                if (document.getElementById(\"58ff0430-7b64-4c18-9edb-d76be1147945\")) {\n",
       "                    Plotly.newPlot(\n",
       "                        '58ff0430-7b64-4c18-9edb-d76be1147945',\n",
       "                        [{\"alignmentgroup\": \"True\", \"customdata\": [[150.437577], [100.025899]], \"hovertemplate\": \"director=jamescameron<br>title=%{x}<br>revenue=%{y}<br>popularity=%{customdata[0]}<extra></extra>\", \"legendgroup\": \"jamescameron\", \"marker\": {\"color\": \"#636efa\"}, \"name\": \"jamescameron\", \"offsetgroup\": \"jamescameron\", \"orientation\": \"v\", \"showlegend\": true, \"textposition\": \"auto\", \"type\": \"bar\", \"x\": [\"Avatar\", \"Titanic\"], \"xaxis\": \"x\", \"y\": [2787965087, 1845034188], \"yaxis\": \"y\"}, {\"alignmentgroup\": \"True\", \"customdata\": [[144.448633], [134.27922900000002]], \"hovertemplate\": \"director=josswhedon<br>title=%{x}<br>revenue=%{y}<br>popularity=%{customdata[0]}<extra></extra>\", \"legendgroup\": \"josswhedon\", \"marker\": {\"color\": \"#EF553B\"}, \"name\": \"josswhedon\", \"offsetgroup\": \"josswhedon\", \"orientation\": \"v\", \"showlegend\": true, \"textposition\": \"auto\", \"type\": \"bar\", \"x\": [\"The Avengers\", \"Avengers: Age of Ultron\"], \"xaxis\": \"x\", \"y\": [1519557910, 1405403694], \"yaxis\": \"y\"}, {\"alignmentgroup\": \"True\", \"customdata\": [[418.708552]], \"hovertemplate\": \"director=colintrevorrow<br>title=%{x}<br>revenue=%{y}<br>popularity=%{customdata[0]}<extra></extra>\", \"legendgroup\": \"colintrevorrow\", \"marker\": {\"color\": \"#00cc96\"}, \"name\": \"colintrevorrow\", \"offsetgroup\": \"colintrevorrow\", \"orientation\": \"v\", \"showlegend\": true, \"textposition\": \"auto\", \"type\": \"bar\", \"x\": [\"Jurassic World\"], \"xaxis\": \"x\", \"y\": [1513528810], \"yaxis\": \"y\"}, {\"alignmentgroup\": \"True\", \"customdata\": [[102.32221700000001]], \"hovertemplate\": \"director=jameswan<br>title=%{x}<br>revenue=%{y}<br>popularity=%{customdata[0]}<extra></extra>\", \"legendgroup\": \"jameswan\", \"marker\": {\"color\": \"#ab63fa\"}, \"name\": \"jameswan\", \"offsetgroup\": \"jameswan\", \"orientation\": \"v\", \"showlegend\": true, \"textposition\": \"auto\", \"type\": \"bar\", \"x\": [\"Furious 7\"], \"xaxis\": \"x\", \"y\": [1506249360], \"yaxis\": \"y\"}, {\"alignmentgroup\": \"True\", \"customdata\": [[165.12536599999999]], \"hovertemplate\": \"director=chrisbuck<br>title=%{x}<br>revenue=%{y}<br>popularity=%{customdata[0]}<extra></extra>\", \"legendgroup\": \"chrisbuck\", \"marker\": {\"color\": \"#FFA15A\"}, \"name\": \"chrisbuck\", \"offsetgroup\": \"chrisbuck\", \"orientation\": \"v\", \"showlegend\": true, \"textposition\": \"auto\", \"type\": \"bar\", \"x\": [\"Frozen\"], \"xaxis\": \"x\", \"y\": [1274219009], \"yaxis\": \"y\"}, {\"alignmentgroup\": \"True\", \"customdata\": [[77.68208]], \"hovertemplate\": \"director=shaneblack<br>title=%{x}<br>revenue=%{y}<br>popularity=%{customdata[0]}<extra></extra>\", \"legendgroup\": \"shaneblack\", \"marker\": {\"color\": \"#19d3f3\"}, \"name\": \"shaneblack\", \"offsetgroup\": \"shaneblack\", \"orientation\": \"v\", \"showlegend\": true, \"textposition\": \"auto\", \"type\": \"bar\", \"x\": [\"Iron Man 3\"], \"xaxis\": \"x\", \"y\": [1215439994], \"yaxis\": \"y\"}, {\"alignmentgroup\": \"True\", \"customdata\": [[875.581305]], \"hovertemplate\": \"director=kylebalda<br>title=%{x}<br>revenue=%{y}<br>popularity=%{customdata[0]}<extra></extra>\", \"legendgroup\": \"kylebalda\", \"marker\": {\"color\": \"#FF6692\"}, \"name\": \"kylebalda\", \"offsetgroup\": \"kylebalda\", \"orientation\": \"v\", \"showlegend\": true, \"textposition\": \"auto\", \"type\": \"bar\", \"x\": [\"Minions\"], \"xaxis\": \"x\", \"y\": [1156730962], \"yaxis\": \"y\"}, {\"alignmentgroup\": \"True\", \"customdata\": [[198.37239499999998]], \"hovertemplate\": \"director=anthonyrusso<br>title=%{x}<br>revenue=%{y}<br>popularity=%{customdata[0]}<extra></extra>\", \"legendgroup\": \"anthonyrusso\", \"marker\": {\"color\": \"#B6E880\"}, \"name\": \"anthonyrusso\", \"offsetgroup\": \"anthonyrusso\", \"orientation\": \"v\", \"showlegend\": true, \"textposition\": \"auto\", \"type\": \"bar\", \"x\": [\"Captain America: Civil War\"], \"xaxis\": \"x\", \"y\": [1153304495], \"yaxis\": \"y\"}],\n",
       "                        {\"barmode\": \"relative\", \"height\": 500, \"legend\": {\"title\": {\"text\": \"director\"}, \"tracegroupgap\": 0}, \"margin\": {\"t\": 60}, \"template\": {\"data\": {\"bar\": [{\"error_x\": {\"color\": \"#2a3f5f\"}, \"error_y\": {\"color\": \"#2a3f5f\"}, \"marker\": {\"line\": {\"color\": \"#E5ECF6\", \"width\": 0.5}}, \"type\": \"bar\"}], \"barpolar\": [{\"marker\": {\"line\": {\"color\": \"#E5ECF6\", \"width\": 0.5}}, \"type\": \"barpolar\"}], \"carpet\": [{\"aaxis\": {\"endlinecolor\": \"#2a3f5f\", \"gridcolor\": \"white\", \"linecolor\": \"white\", \"minorgridcolor\": \"white\", \"startlinecolor\": \"#2a3f5f\"}, \"baxis\": {\"endlinecolor\": \"#2a3f5f\", \"gridcolor\": \"white\", \"linecolor\": \"white\", \"minorgridcolor\": \"white\", \"startlinecolor\": \"#2a3f5f\"}, \"type\": \"carpet\"}], \"choropleth\": [{\"colorbar\": {\"outlinewidth\": 0, \"ticks\": \"\"}, \"type\": \"choropleth\"}], \"contour\": [{\"colorbar\": {\"outlinewidth\": 0, \"ticks\": \"\"}, \"colorscale\": [[0.0, \"#0d0887\"], [0.1111111111111111, \"#46039f\"], [0.2222222222222222, \"#7201a8\"], [0.3333333333333333, \"#9c179e\"], [0.4444444444444444, \"#bd3786\"], [0.5555555555555556, \"#d8576b\"], [0.6666666666666666, \"#ed7953\"], [0.7777777777777778, \"#fb9f3a\"], [0.8888888888888888, \"#fdca26\"], [1.0, \"#f0f921\"]], \"type\": \"contour\"}], \"contourcarpet\": [{\"colorbar\": {\"outlinewidth\": 0, \"ticks\": \"\"}, \"type\": \"contourcarpet\"}], \"heatmap\": [{\"colorbar\": {\"outlinewidth\": 0, \"ticks\": \"\"}, \"colorscale\": [[0.0, \"#0d0887\"], [0.1111111111111111, \"#46039f\"], [0.2222222222222222, \"#7201a8\"], [0.3333333333333333, \"#9c179e\"], [0.4444444444444444, \"#bd3786\"], [0.5555555555555556, \"#d8576b\"], [0.6666666666666666, \"#ed7953\"], [0.7777777777777778, \"#fb9f3a\"], [0.8888888888888888, \"#fdca26\"], [1.0, \"#f0f921\"]], \"type\": \"heatmap\"}], \"heatmapgl\": [{\"colorbar\": {\"outlinewidth\": 0, \"ticks\": \"\"}, \"colorscale\": [[0.0, \"#0d0887\"], [0.1111111111111111, \"#46039f\"], [0.2222222222222222, \"#7201a8\"], [0.3333333333333333, \"#9c179e\"], [0.4444444444444444, \"#bd3786\"], [0.5555555555555556, \"#d8576b\"], [0.6666666666666666, \"#ed7953\"], [0.7777777777777778, \"#fb9f3a\"], [0.8888888888888888, \"#fdca26\"], [1.0, \"#f0f921\"]], \"type\": \"heatmapgl\"}], \"histogram\": [{\"marker\": {\"colorbar\": {\"outlinewidth\": 0, \"ticks\": \"\"}}, \"type\": \"histogram\"}], \"histogram2d\": [{\"colorbar\": {\"outlinewidth\": 0, \"ticks\": \"\"}, \"colorscale\": [[0.0, \"#0d0887\"], [0.1111111111111111, \"#46039f\"], [0.2222222222222222, \"#7201a8\"], [0.3333333333333333, \"#9c179e\"], [0.4444444444444444, \"#bd3786\"], [0.5555555555555556, \"#d8576b\"], [0.6666666666666666, \"#ed7953\"], [0.7777777777777778, \"#fb9f3a\"], [0.8888888888888888, \"#fdca26\"], [1.0, \"#f0f921\"]], \"type\": \"histogram2d\"}], \"histogram2dcontour\": [{\"colorbar\": {\"outlinewidth\": 0, \"ticks\": \"\"}, \"colorscale\": [[0.0, \"#0d0887\"], [0.1111111111111111, \"#46039f\"], [0.2222222222222222, \"#7201a8\"], [0.3333333333333333, \"#9c179e\"], [0.4444444444444444, \"#bd3786\"], [0.5555555555555556, \"#d8576b\"], [0.6666666666666666, \"#ed7953\"], [0.7777777777777778, \"#fb9f3a\"], [0.8888888888888888, \"#fdca26\"], [1.0, \"#f0f921\"]], \"type\": \"histogram2dcontour\"}], \"mesh3d\": [{\"colorbar\": {\"outlinewidth\": 0, \"ticks\": \"\"}, \"type\": \"mesh3d\"}], \"parcoords\": [{\"line\": {\"colorbar\": {\"outlinewidth\": 0, \"ticks\": \"\"}}, \"type\": \"parcoords\"}], \"pie\": [{\"automargin\": true, \"type\": \"pie\"}], \"scatter\": [{\"marker\": {\"colorbar\": {\"outlinewidth\": 0, \"ticks\": \"\"}}, \"type\": \"scatter\"}], \"scatter3d\": [{\"line\": {\"colorbar\": {\"outlinewidth\": 0, \"ticks\": \"\"}}, \"marker\": {\"colorbar\": {\"outlinewidth\": 0, \"ticks\": \"\"}}, \"type\": \"scatter3d\"}], \"scattercarpet\": [{\"marker\": {\"colorbar\": {\"outlinewidth\": 0, \"ticks\": \"\"}}, \"type\": \"scattercarpet\"}], \"scattergeo\": [{\"marker\": {\"colorbar\": {\"outlinewidth\": 0, \"ticks\": \"\"}}, \"type\": \"scattergeo\"}], \"scattergl\": [{\"marker\": {\"colorbar\": {\"outlinewidth\": 0, \"ticks\": \"\"}}, \"type\": \"scattergl\"}], \"scattermapbox\": [{\"marker\": {\"colorbar\": {\"outlinewidth\": 0, \"ticks\": \"\"}}, \"type\": \"scattermapbox\"}], \"scatterpolar\": [{\"marker\": {\"colorbar\": {\"outlinewidth\": 0, \"ticks\": \"\"}}, \"type\": \"scatterpolar\"}], \"scatterpolargl\": [{\"marker\": {\"colorbar\": {\"outlinewidth\": 0, \"ticks\": \"\"}}, \"type\": \"scatterpolargl\"}], \"scatterternary\": [{\"marker\": {\"colorbar\": {\"outlinewidth\": 0, \"ticks\": \"\"}}, \"type\": \"scatterternary\"}], \"surface\": [{\"colorbar\": {\"outlinewidth\": 0, \"ticks\": \"\"}, \"colorscale\": [[0.0, \"#0d0887\"], [0.1111111111111111, \"#46039f\"], [0.2222222222222222, \"#7201a8\"], [0.3333333333333333, \"#9c179e\"], [0.4444444444444444, \"#bd3786\"], [0.5555555555555556, \"#d8576b\"], [0.6666666666666666, \"#ed7953\"], [0.7777777777777778, \"#fb9f3a\"], [0.8888888888888888, \"#fdca26\"], [1.0, \"#f0f921\"]], \"type\": \"surface\"}], \"table\": [{\"cells\": {\"fill\": {\"color\": \"#EBF0F8\"}, \"line\": {\"color\": \"white\"}}, \"header\": {\"fill\": {\"color\": \"#C8D4E3\"}, \"line\": {\"color\": \"white\"}}, \"type\": \"table\"}]}, \"layout\": {\"annotationdefaults\": {\"arrowcolor\": \"#2a3f5f\", \"arrowhead\": 0, \"arrowwidth\": 1}, \"coloraxis\": {\"colorbar\": {\"outlinewidth\": 0, \"ticks\": \"\"}}, \"colorscale\": {\"diverging\": [[0, \"#8e0152\"], [0.1, \"#c51b7d\"], [0.2, \"#de77ae\"], [0.3, \"#f1b6da\"], [0.4, \"#fde0ef\"], [0.5, \"#f7f7f7\"], [0.6, \"#e6f5d0\"], [0.7, \"#b8e186\"], [0.8, \"#7fbc41\"], [0.9, \"#4d9221\"], [1, \"#276419\"]], \"sequential\": [[0.0, \"#0d0887\"], [0.1111111111111111, \"#46039f\"], [0.2222222222222222, \"#7201a8\"], [0.3333333333333333, \"#9c179e\"], [0.4444444444444444, \"#bd3786\"], [0.5555555555555556, \"#d8576b\"], [0.6666666666666666, \"#ed7953\"], [0.7777777777777778, \"#fb9f3a\"], [0.8888888888888888, \"#fdca26\"], [1.0, \"#f0f921\"]], \"sequentialminus\": [[0.0, \"#0d0887\"], [0.1111111111111111, \"#46039f\"], [0.2222222222222222, \"#7201a8\"], [0.3333333333333333, \"#9c179e\"], [0.4444444444444444, \"#bd3786\"], [0.5555555555555556, \"#d8576b\"], [0.6666666666666666, \"#ed7953\"], [0.7777777777777778, \"#fb9f3a\"], [0.8888888888888888, \"#fdca26\"], [1.0, \"#f0f921\"]]}, \"colorway\": [\"#636efa\", \"#EF553B\", \"#00cc96\", \"#ab63fa\", \"#FFA15A\", \"#19d3f3\", \"#FF6692\", \"#B6E880\", \"#FF97FF\", \"#FECB52\"], \"font\": {\"color\": \"#2a3f5f\"}, \"geo\": {\"bgcolor\": \"white\", \"lakecolor\": \"white\", \"landcolor\": \"#E5ECF6\", \"showlakes\": true, \"showland\": true, \"subunitcolor\": \"white\"}, \"hoverlabel\": {\"align\": \"left\"}, \"hovermode\": \"closest\", \"mapbox\": {\"style\": \"light\"}, \"paper_bgcolor\": \"white\", \"plot_bgcolor\": \"#E5ECF6\", \"polar\": {\"angularaxis\": {\"gridcolor\": \"white\", \"linecolor\": \"white\", \"ticks\": \"\"}, \"bgcolor\": \"#E5ECF6\", \"radialaxis\": {\"gridcolor\": \"white\", \"linecolor\": \"white\", \"ticks\": \"\"}}, \"scene\": {\"xaxis\": {\"backgroundcolor\": \"#E5ECF6\", \"gridcolor\": \"white\", \"gridwidth\": 2, \"linecolor\": \"white\", \"showbackground\": true, \"ticks\": \"\", \"zerolinecolor\": \"white\"}, \"yaxis\": {\"backgroundcolor\": \"#E5ECF6\", \"gridcolor\": \"white\", \"gridwidth\": 2, \"linecolor\": \"white\", \"showbackground\": true, \"ticks\": \"\", \"zerolinecolor\": \"white\"}, \"zaxis\": {\"backgroundcolor\": \"#E5ECF6\", \"gridcolor\": \"white\", \"gridwidth\": 2, \"linecolor\": \"white\", \"showbackground\": true, \"ticks\": \"\", \"zerolinecolor\": \"white\"}}, \"shapedefaults\": {\"line\": {\"color\": \"#2a3f5f\"}}, \"ternary\": {\"aaxis\": {\"gridcolor\": \"white\", \"linecolor\": \"white\", \"ticks\": \"\"}, \"baxis\": {\"gridcolor\": \"white\", \"linecolor\": \"white\", \"ticks\": \"\"}, \"bgcolor\": \"#E5ECF6\", \"caxis\": {\"gridcolor\": \"white\", \"linecolor\": \"white\", \"ticks\": \"\"}}, \"title\": {\"x\": 0.05}, \"xaxis\": {\"automargin\": true, \"gridcolor\": \"white\", \"linecolor\": \"white\", \"ticks\": \"\", \"title\": {\"standoff\": 15}, \"zerolinecolor\": \"white\", \"zerolinewidth\": 2}, \"yaxis\": {\"automargin\": true, \"gridcolor\": \"white\", \"linecolor\": \"white\", \"ticks\": \"\", \"title\": {\"standoff\": 15}, \"zerolinecolor\": \"white\", \"zerolinewidth\": 2}}}, \"xaxis\": {\"anchor\": \"y\", \"domain\": [0.0, 1.0], \"title\": {\"text\": \"title\"}}, \"yaxis\": {\"anchor\": \"x\", \"domain\": [0.0, 1.0], \"title\": {\"text\": \"revenue\"}}},\n",
       "                        {\"responsive\": true}\n",
       "                    ).then(function(){\n",
       "                            \n",
       "var gd = document.getElementById('58ff0430-7b64-4c18-9edb-d76be1147945');\n",
       "var x = new MutationObserver(function (mutations, observer) {{\n",
       "        var display = window.getComputedStyle(gd).display;\n",
       "        if (!display || display === 'none') {{\n",
       "            console.log([gd, 'removed!']);\n",
       "            Plotly.purge(gd);\n",
       "            observer.disconnect();\n",
       "        }}\n",
       "}});\n",
       "\n",
       "// Listen for the removal of the full notebook cells\n",
       "var notebookContainer = gd.closest('#notebook-container');\n",
       "if (notebookContainer) {{\n",
       "    x.observe(notebookContainer, {childList: true});\n",
       "}}\n",
       "\n",
       "// Listen for the clearing of the current output cell\n",
       "var outputEl = gd.closest('.output');\n",
       "if (outputEl) {{\n",
       "    x.observe(outputEl, {childList: true});\n",
       "}}\n",
       "\n",
       "                        })\n",
       "                };\n",
       "                });\n",
       "            </script>\n",
       "        </div>"
      ]
     },
     "metadata": {},
     "output_type": "display_data"
    }
   ],
   "source": [
    "sorted_Rev=tmdb_Movies.sort_values('revenue',ascending=False)\n",
    "top_Rev=sorted_Rev.head(10)\n",
    "fig = px.bar(top_Rev, x=\"title\", y=\"revenue\",color='director',orientation='v',\n",
    "             hover_data=[\"popularity\"],\n",
    "             height=500,\n",
    "             title='')\n",
    "fig.show()"
   ]
  },
  {
   "cell_type": "markdown",
   "metadata": {},
   "source": [
    "### The bar plot below show movies with maximum budget in the data set (top 10)\n"
   ]
  },
  {
   "cell_type": "code",
   "execution_count": 77,
   "metadata": {},
   "outputs": [
    {
     "data": {
      "application/vnd.plotly.v1+json": {
       "config": {
        "plotlyServerURL": "https://plot.ly"
       },
       "data": [
        {
         "marker": {
          "color": "Brown"
         },
         "orientation": "h",
         "type": "bar",
         "x": [
          250000000,
          250000000,
          255000000,
          258000000,
          260000000,
          260000000,
          270000000,
          280000000,
          300000000,
          380000000
         ],
         "y": [
          "X-Men: Days of Future Past",
          "The Hobbit: The Desolation of Smaug",
          "The Lone Ranger",
          "Spider-Man 3",
          "John Carter",
          "Tangled",
          "Superman Returns",
          "Avengers: Age of Ultron",
          "Pirates of the Caribbean: At World's End",
          "Pirates of the Caribbean: On Stranger Tides"
         ]
        }
       ],
       "layout": {
        "barmode": "group",
        "margin": {
         "b": 90,
         "l": 100,
         "r": 20,
         "t": 140
        },
        "paper_bgcolor": "White",
        "plot_bgcolor": "White",
        "showlegend": false,
        "template": {
         "data": {
          "bar": [
           {
            "error_x": {
             "color": "#2a3f5f"
            },
            "error_y": {
             "color": "#2a3f5f"
            },
            "marker": {
             "line": {
              "color": "#E5ECF6",
              "width": 0.5
             }
            },
            "type": "bar"
           }
          ],
          "barpolar": [
           {
            "marker": {
             "line": {
              "color": "#E5ECF6",
              "width": 0.5
             }
            },
            "type": "barpolar"
           }
          ],
          "carpet": [
           {
            "aaxis": {
             "endlinecolor": "#2a3f5f",
             "gridcolor": "white",
             "linecolor": "white",
             "minorgridcolor": "white",
             "startlinecolor": "#2a3f5f"
            },
            "baxis": {
             "endlinecolor": "#2a3f5f",
             "gridcolor": "white",
             "linecolor": "white",
             "minorgridcolor": "white",
             "startlinecolor": "#2a3f5f"
            },
            "type": "carpet"
           }
          ],
          "choropleth": [
           {
            "colorbar": {
             "outlinewidth": 0,
             "ticks": ""
            },
            "type": "choropleth"
           }
          ],
          "contour": [
           {
            "colorbar": {
             "outlinewidth": 0,
             "ticks": ""
            },
            "colorscale": [
             [
              0,
              "#0d0887"
             ],
             [
              0.1111111111111111,
              "#46039f"
             ],
             [
              0.2222222222222222,
              "#7201a8"
             ],
             [
              0.3333333333333333,
              "#9c179e"
             ],
             [
              0.4444444444444444,
              "#bd3786"
             ],
             [
              0.5555555555555556,
              "#d8576b"
             ],
             [
              0.6666666666666666,
              "#ed7953"
             ],
             [
              0.7777777777777778,
              "#fb9f3a"
             ],
             [
              0.8888888888888888,
              "#fdca26"
             ],
             [
              1,
              "#f0f921"
             ]
            ],
            "type": "contour"
           }
          ],
          "contourcarpet": [
           {
            "colorbar": {
             "outlinewidth": 0,
             "ticks": ""
            },
            "type": "contourcarpet"
           }
          ],
          "heatmap": [
           {
            "colorbar": {
             "outlinewidth": 0,
             "ticks": ""
            },
            "colorscale": [
             [
              0,
              "#0d0887"
             ],
             [
              0.1111111111111111,
              "#46039f"
             ],
             [
              0.2222222222222222,
              "#7201a8"
             ],
             [
              0.3333333333333333,
              "#9c179e"
             ],
             [
              0.4444444444444444,
              "#bd3786"
             ],
             [
              0.5555555555555556,
              "#d8576b"
             ],
             [
              0.6666666666666666,
              "#ed7953"
             ],
             [
              0.7777777777777778,
              "#fb9f3a"
             ],
             [
              0.8888888888888888,
              "#fdca26"
             ],
             [
              1,
              "#f0f921"
             ]
            ],
            "type": "heatmap"
           }
          ],
          "heatmapgl": [
           {
            "colorbar": {
             "outlinewidth": 0,
             "ticks": ""
            },
            "colorscale": [
             [
              0,
              "#0d0887"
             ],
             [
              0.1111111111111111,
              "#46039f"
             ],
             [
              0.2222222222222222,
              "#7201a8"
             ],
             [
              0.3333333333333333,
              "#9c179e"
             ],
             [
              0.4444444444444444,
              "#bd3786"
             ],
             [
              0.5555555555555556,
              "#d8576b"
             ],
             [
              0.6666666666666666,
              "#ed7953"
             ],
             [
              0.7777777777777778,
              "#fb9f3a"
             ],
             [
              0.8888888888888888,
              "#fdca26"
             ],
             [
              1,
              "#f0f921"
             ]
            ],
            "type": "heatmapgl"
           }
          ],
          "histogram": [
           {
            "marker": {
             "colorbar": {
              "outlinewidth": 0,
              "ticks": ""
             }
            },
            "type": "histogram"
           }
          ],
          "histogram2d": [
           {
            "colorbar": {
             "outlinewidth": 0,
             "ticks": ""
            },
            "colorscale": [
             [
              0,
              "#0d0887"
             ],
             [
              0.1111111111111111,
              "#46039f"
             ],
             [
              0.2222222222222222,
              "#7201a8"
             ],
             [
              0.3333333333333333,
              "#9c179e"
             ],
             [
              0.4444444444444444,
              "#bd3786"
             ],
             [
              0.5555555555555556,
              "#d8576b"
             ],
             [
              0.6666666666666666,
              "#ed7953"
             ],
             [
              0.7777777777777778,
              "#fb9f3a"
             ],
             [
              0.8888888888888888,
              "#fdca26"
             ],
             [
              1,
              "#f0f921"
             ]
            ],
            "type": "histogram2d"
           }
          ],
          "histogram2dcontour": [
           {
            "colorbar": {
             "outlinewidth": 0,
             "ticks": ""
            },
            "colorscale": [
             [
              0,
              "#0d0887"
             ],
             [
              0.1111111111111111,
              "#46039f"
             ],
             [
              0.2222222222222222,
              "#7201a8"
             ],
             [
              0.3333333333333333,
              "#9c179e"
             ],
             [
              0.4444444444444444,
              "#bd3786"
             ],
             [
              0.5555555555555556,
              "#d8576b"
             ],
             [
              0.6666666666666666,
              "#ed7953"
             ],
             [
              0.7777777777777778,
              "#fb9f3a"
             ],
             [
              0.8888888888888888,
              "#fdca26"
             ],
             [
              1,
              "#f0f921"
             ]
            ],
            "type": "histogram2dcontour"
           }
          ],
          "mesh3d": [
           {
            "colorbar": {
             "outlinewidth": 0,
             "ticks": ""
            },
            "type": "mesh3d"
           }
          ],
          "parcoords": [
           {
            "line": {
             "colorbar": {
              "outlinewidth": 0,
              "ticks": ""
             }
            },
            "type": "parcoords"
           }
          ],
          "pie": [
           {
            "automargin": true,
            "type": "pie"
           }
          ],
          "scatter": [
           {
            "marker": {
             "colorbar": {
              "outlinewidth": 0,
              "ticks": ""
             }
            },
            "type": "scatter"
           }
          ],
          "scatter3d": [
           {
            "line": {
             "colorbar": {
              "outlinewidth": 0,
              "ticks": ""
             }
            },
            "marker": {
             "colorbar": {
              "outlinewidth": 0,
              "ticks": ""
             }
            },
            "type": "scatter3d"
           }
          ],
          "scattercarpet": [
           {
            "marker": {
             "colorbar": {
              "outlinewidth": 0,
              "ticks": ""
             }
            },
            "type": "scattercarpet"
           }
          ],
          "scattergeo": [
           {
            "marker": {
             "colorbar": {
              "outlinewidth": 0,
              "ticks": ""
             }
            },
            "type": "scattergeo"
           }
          ],
          "scattergl": [
           {
            "marker": {
             "colorbar": {
              "outlinewidth": 0,
              "ticks": ""
             }
            },
            "type": "scattergl"
           }
          ],
          "scattermapbox": [
           {
            "marker": {
             "colorbar": {
              "outlinewidth": 0,
              "ticks": ""
             }
            },
            "type": "scattermapbox"
           }
          ],
          "scatterpolar": [
           {
            "marker": {
             "colorbar": {
              "outlinewidth": 0,
              "ticks": ""
             }
            },
            "type": "scatterpolar"
           }
          ],
          "scatterpolargl": [
           {
            "marker": {
             "colorbar": {
              "outlinewidth": 0,
              "ticks": ""
             }
            },
            "type": "scatterpolargl"
           }
          ],
          "scatterternary": [
           {
            "marker": {
             "colorbar": {
              "outlinewidth": 0,
              "ticks": ""
             }
            },
            "type": "scatterternary"
           }
          ],
          "surface": [
           {
            "colorbar": {
             "outlinewidth": 0,
             "ticks": ""
            },
            "colorscale": [
             [
              0,
              "#0d0887"
             ],
             [
              0.1111111111111111,
              "#46039f"
             ],
             [
              0.2222222222222222,
              "#7201a8"
             ],
             [
              0.3333333333333333,
              "#9c179e"
             ],
             [
              0.4444444444444444,
              "#bd3786"
             ],
             [
              0.5555555555555556,
              "#d8576b"
             ],
             [
              0.6666666666666666,
              "#ed7953"
             ],
             [
              0.7777777777777778,
              "#fb9f3a"
             ],
             [
              0.8888888888888888,
              "#fdca26"
             ],
             [
              1,
              "#f0f921"
             ]
            ],
            "type": "surface"
           }
          ],
          "table": [
           {
            "cells": {
             "fill": {
              "color": "#EBF0F8"
             },
             "line": {
              "color": "white"
             }
            },
            "header": {
             "fill": {
              "color": "#C8D4E3"
             },
             "line": {
              "color": "white"
             }
            },
            "type": "table"
           }
          ]
         },
         "layout": {
          "annotationdefaults": {
           "arrowcolor": "#2a3f5f",
           "arrowhead": 0,
           "arrowwidth": 1
          },
          "coloraxis": {
           "colorbar": {
            "outlinewidth": 0,
            "ticks": ""
           }
          },
          "colorscale": {
           "diverging": [
            [
             0,
             "#8e0152"
            ],
            [
             0.1,
             "#c51b7d"
            ],
            [
             0.2,
             "#de77ae"
            ],
            [
             0.3,
             "#f1b6da"
            ],
            [
             0.4,
             "#fde0ef"
            ],
            [
             0.5,
             "#f7f7f7"
            ],
            [
             0.6,
             "#e6f5d0"
            ],
            [
             0.7,
             "#b8e186"
            ],
            [
             0.8,
             "#7fbc41"
            ],
            [
             0.9,
             "#4d9221"
            ],
            [
             1,
             "#276419"
            ]
           ],
           "sequential": [
            [
             0,
             "#0d0887"
            ],
            [
             0.1111111111111111,
             "#46039f"
            ],
            [
             0.2222222222222222,
             "#7201a8"
            ],
            [
             0.3333333333333333,
             "#9c179e"
            ],
            [
             0.4444444444444444,
             "#bd3786"
            ],
            [
             0.5555555555555556,
             "#d8576b"
            ],
            [
             0.6666666666666666,
             "#ed7953"
            ],
            [
             0.7777777777777778,
             "#fb9f3a"
            ],
            [
             0.8888888888888888,
             "#fdca26"
            ],
            [
             1,
             "#f0f921"
            ]
           ],
           "sequentialminus": [
            [
             0,
             "#0d0887"
            ],
            [
             0.1111111111111111,
             "#46039f"
            ],
            [
             0.2222222222222222,
             "#7201a8"
            ],
            [
             0.3333333333333333,
             "#9c179e"
            ],
            [
             0.4444444444444444,
             "#bd3786"
            ],
            [
             0.5555555555555556,
             "#d8576b"
            ],
            [
             0.6666666666666666,
             "#ed7953"
            ],
            [
             0.7777777777777778,
             "#fb9f3a"
            ],
            [
             0.8888888888888888,
             "#fdca26"
            ],
            [
             1,
             "#f0f921"
            ]
           ]
          },
          "colorway": [
           "#636efa",
           "#EF553B",
           "#00cc96",
           "#ab63fa",
           "#FFA15A",
           "#19d3f3",
           "#FF6692",
           "#B6E880",
           "#FF97FF",
           "#FECB52"
          ],
          "font": {
           "color": "#2a3f5f"
          },
          "geo": {
           "bgcolor": "white",
           "lakecolor": "white",
           "landcolor": "#E5ECF6",
           "showlakes": true,
           "showland": true,
           "subunitcolor": "white"
          },
          "hoverlabel": {
           "align": "left"
          },
          "hovermode": "closest",
          "mapbox": {
           "style": "light"
          },
          "paper_bgcolor": "white",
          "plot_bgcolor": "#E5ECF6",
          "polar": {
           "angularaxis": {
            "gridcolor": "white",
            "linecolor": "white",
            "ticks": ""
           },
           "bgcolor": "#E5ECF6",
           "radialaxis": {
            "gridcolor": "white",
            "linecolor": "white",
            "ticks": ""
           }
          },
          "scene": {
           "xaxis": {
            "backgroundcolor": "#E5ECF6",
            "gridcolor": "white",
            "gridwidth": 2,
            "linecolor": "white",
            "showbackground": true,
            "ticks": "",
            "zerolinecolor": "white"
           },
           "yaxis": {
            "backgroundcolor": "#E5ECF6",
            "gridcolor": "white",
            "gridwidth": 2,
            "linecolor": "white",
            "showbackground": true,
            "ticks": "",
            "zerolinecolor": "white"
           },
           "zaxis": {
            "backgroundcolor": "#E5ECF6",
            "gridcolor": "white",
            "gridwidth": 2,
            "linecolor": "white",
            "showbackground": true,
            "ticks": "",
            "zerolinecolor": "white"
           }
          },
          "shapedefaults": {
           "line": {
            "color": "#2a3f5f"
           }
          },
          "ternary": {
           "aaxis": {
            "gridcolor": "white",
            "linecolor": "white",
            "ticks": ""
           },
           "baxis": {
            "gridcolor": "white",
            "linecolor": "white",
            "ticks": ""
           },
           "bgcolor": "#E5ECF6",
           "caxis": {
            "gridcolor": "white",
            "linecolor": "white",
            "ticks": ""
           }
          },
          "title": {
           "x": 0.05
          },
          "xaxis": {
           "automargin": true,
           "gridcolor": "white",
           "linecolor": "white",
           "ticks": "",
           "title": {
            "standoff": 15
           },
           "zerolinecolor": "white",
           "zerolinewidth": 2
          },
          "yaxis": {
           "automargin": true,
           "gridcolor": "white",
           "linecolor": "white",
           "ticks": "",
           "title": {
            "standoff": 15
           },
           "zerolinecolor": "white",
           "zerolinewidth": 2
          }
         }
        },
        "title": {
         "text": "Top Budget Movies",
         "x": 0,
         "xref": "paper"
        }
       }
      },
      "text/html": [
       "<div>\n",
       "        \n",
       "        \n",
       "            <div id=\"626358dd-6f5b-483f-840a-40175e3d45df\" class=\"plotly-graph-div\" style=\"height:525px; width:100%;\"></div>\n",
       "            <script type=\"text/javascript\">\n",
       "                require([\"plotly\"], function(Plotly) {\n",
       "                    window.PLOTLYENV=window.PLOTLYENV || {};\n",
       "                    \n",
       "                if (document.getElementById(\"626358dd-6f5b-483f-840a-40175e3d45df\")) {\n",
       "                    Plotly.newPlot(\n",
       "                        '626358dd-6f5b-483f-840a-40175e3d45df',\n",
       "                        [{\"marker\": {\"color\": \"Brown\"}, \"orientation\": \"h\", \"type\": \"bar\", \"x\": [250000000, 250000000, 255000000, 258000000, 260000000, 260000000, 270000000, 280000000, 300000000, 380000000], \"y\": [\"X-Men: Days of Future Past\", \"The Hobbit: The Desolation of Smaug\", \"The Lone Ranger\", \"Spider-Man 3\", \"John Carter\", \"Tangled\", \"Superman Returns\", \"Avengers: Age of Ultron\", \"Pirates of the Caribbean: At World's End\", \"Pirates of the Caribbean: On Stranger Tides\"]}],\n",
       "                        {\"barmode\": \"group\", \"margin\": {\"b\": 90, \"l\": 100, \"r\": 20, \"t\": 140}, \"paper_bgcolor\": \"White\", \"plot_bgcolor\": \"White\", \"showlegend\": false, \"template\": {\"data\": {\"bar\": [{\"error_x\": {\"color\": \"#2a3f5f\"}, \"error_y\": {\"color\": \"#2a3f5f\"}, \"marker\": {\"line\": {\"color\": \"#E5ECF6\", \"width\": 0.5}}, \"type\": \"bar\"}], \"barpolar\": [{\"marker\": {\"line\": {\"color\": \"#E5ECF6\", \"width\": 0.5}}, \"type\": \"barpolar\"}], \"carpet\": [{\"aaxis\": {\"endlinecolor\": \"#2a3f5f\", \"gridcolor\": \"white\", \"linecolor\": \"white\", \"minorgridcolor\": \"white\", \"startlinecolor\": \"#2a3f5f\"}, \"baxis\": {\"endlinecolor\": \"#2a3f5f\", \"gridcolor\": \"white\", \"linecolor\": \"white\", \"minorgridcolor\": \"white\", \"startlinecolor\": \"#2a3f5f\"}, \"type\": \"carpet\"}], \"choropleth\": [{\"colorbar\": {\"outlinewidth\": 0, \"ticks\": \"\"}, \"type\": \"choropleth\"}], \"contour\": [{\"colorbar\": {\"outlinewidth\": 0, \"ticks\": \"\"}, \"colorscale\": [[0.0, \"#0d0887\"], [0.1111111111111111, \"#46039f\"], [0.2222222222222222, \"#7201a8\"], [0.3333333333333333, \"#9c179e\"], [0.4444444444444444, \"#bd3786\"], [0.5555555555555556, \"#d8576b\"], [0.6666666666666666, \"#ed7953\"], [0.7777777777777778, \"#fb9f3a\"], [0.8888888888888888, \"#fdca26\"], [1.0, \"#f0f921\"]], \"type\": \"contour\"}], \"contourcarpet\": [{\"colorbar\": {\"outlinewidth\": 0, \"ticks\": \"\"}, \"type\": \"contourcarpet\"}], \"heatmap\": [{\"colorbar\": {\"outlinewidth\": 0, \"ticks\": \"\"}, \"colorscale\": [[0.0, \"#0d0887\"], [0.1111111111111111, \"#46039f\"], [0.2222222222222222, \"#7201a8\"], [0.3333333333333333, \"#9c179e\"], [0.4444444444444444, \"#bd3786\"], [0.5555555555555556, \"#d8576b\"], [0.6666666666666666, \"#ed7953\"], [0.7777777777777778, \"#fb9f3a\"], [0.8888888888888888, \"#fdca26\"], [1.0, \"#f0f921\"]], \"type\": \"heatmap\"}], \"heatmapgl\": [{\"colorbar\": {\"outlinewidth\": 0, \"ticks\": \"\"}, \"colorscale\": [[0.0, \"#0d0887\"], [0.1111111111111111, \"#46039f\"], [0.2222222222222222, \"#7201a8\"], [0.3333333333333333, \"#9c179e\"], [0.4444444444444444, \"#bd3786\"], [0.5555555555555556, \"#d8576b\"], [0.6666666666666666, \"#ed7953\"], [0.7777777777777778, \"#fb9f3a\"], [0.8888888888888888, \"#fdca26\"], [1.0, \"#f0f921\"]], \"type\": \"heatmapgl\"}], \"histogram\": [{\"marker\": {\"colorbar\": {\"outlinewidth\": 0, \"ticks\": \"\"}}, \"type\": \"histogram\"}], \"histogram2d\": [{\"colorbar\": {\"outlinewidth\": 0, \"ticks\": \"\"}, \"colorscale\": [[0.0, \"#0d0887\"], [0.1111111111111111, \"#46039f\"], [0.2222222222222222, \"#7201a8\"], [0.3333333333333333, \"#9c179e\"], [0.4444444444444444, \"#bd3786\"], [0.5555555555555556, \"#d8576b\"], [0.6666666666666666, \"#ed7953\"], [0.7777777777777778, \"#fb9f3a\"], [0.8888888888888888, \"#fdca26\"], [1.0, \"#f0f921\"]], \"type\": \"histogram2d\"}], \"histogram2dcontour\": [{\"colorbar\": {\"outlinewidth\": 0, \"ticks\": \"\"}, \"colorscale\": [[0.0, \"#0d0887\"], [0.1111111111111111, \"#46039f\"], [0.2222222222222222, \"#7201a8\"], [0.3333333333333333, \"#9c179e\"], [0.4444444444444444, \"#bd3786\"], [0.5555555555555556, \"#d8576b\"], [0.6666666666666666, \"#ed7953\"], [0.7777777777777778, \"#fb9f3a\"], [0.8888888888888888, \"#fdca26\"], [1.0, \"#f0f921\"]], \"type\": \"histogram2dcontour\"}], \"mesh3d\": [{\"colorbar\": {\"outlinewidth\": 0, \"ticks\": \"\"}, \"type\": \"mesh3d\"}], \"parcoords\": [{\"line\": {\"colorbar\": {\"outlinewidth\": 0, \"ticks\": \"\"}}, \"type\": \"parcoords\"}], \"pie\": [{\"automargin\": true, \"type\": \"pie\"}], \"scatter\": [{\"marker\": {\"colorbar\": {\"outlinewidth\": 0, \"ticks\": \"\"}}, \"type\": \"scatter\"}], \"scatter3d\": [{\"line\": {\"colorbar\": {\"outlinewidth\": 0, \"ticks\": \"\"}}, \"marker\": {\"colorbar\": {\"outlinewidth\": 0, \"ticks\": \"\"}}, \"type\": \"scatter3d\"}], \"scattercarpet\": [{\"marker\": {\"colorbar\": {\"outlinewidth\": 0, \"ticks\": \"\"}}, \"type\": \"scattercarpet\"}], \"scattergeo\": [{\"marker\": {\"colorbar\": {\"outlinewidth\": 0, \"ticks\": \"\"}}, \"type\": \"scattergeo\"}], \"scattergl\": [{\"marker\": {\"colorbar\": {\"outlinewidth\": 0, \"ticks\": \"\"}}, \"type\": \"scattergl\"}], \"scattermapbox\": [{\"marker\": {\"colorbar\": {\"outlinewidth\": 0, \"ticks\": \"\"}}, \"type\": \"scattermapbox\"}], \"scatterpolar\": [{\"marker\": {\"colorbar\": {\"outlinewidth\": 0, \"ticks\": \"\"}}, \"type\": \"scatterpolar\"}], \"scatterpolargl\": [{\"marker\": {\"colorbar\": {\"outlinewidth\": 0, \"ticks\": \"\"}}, \"type\": \"scatterpolargl\"}], \"scatterternary\": [{\"marker\": {\"colorbar\": {\"outlinewidth\": 0, \"ticks\": \"\"}}, \"type\": \"scatterternary\"}], \"surface\": [{\"colorbar\": {\"outlinewidth\": 0, \"ticks\": \"\"}, \"colorscale\": [[0.0, \"#0d0887\"], [0.1111111111111111, \"#46039f\"], [0.2222222222222222, \"#7201a8\"], [0.3333333333333333, \"#9c179e\"], [0.4444444444444444, \"#bd3786\"], [0.5555555555555556, \"#d8576b\"], [0.6666666666666666, \"#ed7953\"], [0.7777777777777778, \"#fb9f3a\"], [0.8888888888888888, \"#fdca26\"], [1.0, \"#f0f921\"]], \"type\": \"surface\"}], \"table\": [{\"cells\": {\"fill\": {\"color\": \"#EBF0F8\"}, \"line\": {\"color\": \"white\"}}, \"header\": {\"fill\": {\"color\": \"#C8D4E3\"}, \"line\": {\"color\": \"white\"}}, \"type\": \"table\"}]}, \"layout\": {\"annotationdefaults\": {\"arrowcolor\": \"#2a3f5f\", \"arrowhead\": 0, \"arrowwidth\": 1}, \"coloraxis\": {\"colorbar\": {\"outlinewidth\": 0, \"ticks\": \"\"}}, \"colorscale\": {\"diverging\": [[0, \"#8e0152\"], [0.1, \"#c51b7d\"], [0.2, \"#de77ae\"], [0.3, \"#f1b6da\"], [0.4, \"#fde0ef\"], [0.5, \"#f7f7f7\"], [0.6, \"#e6f5d0\"], [0.7, \"#b8e186\"], [0.8, \"#7fbc41\"], [0.9, \"#4d9221\"], [1, \"#276419\"]], \"sequential\": [[0.0, \"#0d0887\"], [0.1111111111111111, \"#46039f\"], [0.2222222222222222, \"#7201a8\"], [0.3333333333333333, \"#9c179e\"], [0.4444444444444444, \"#bd3786\"], [0.5555555555555556, \"#d8576b\"], [0.6666666666666666, \"#ed7953\"], [0.7777777777777778, \"#fb9f3a\"], [0.8888888888888888, \"#fdca26\"], [1.0, \"#f0f921\"]], \"sequentialminus\": [[0.0, \"#0d0887\"], [0.1111111111111111, \"#46039f\"], [0.2222222222222222, \"#7201a8\"], [0.3333333333333333, \"#9c179e\"], [0.4444444444444444, \"#bd3786\"], [0.5555555555555556, \"#d8576b\"], [0.6666666666666666, \"#ed7953\"], [0.7777777777777778, \"#fb9f3a\"], [0.8888888888888888, \"#fdca26\"], [1.0, \"#f0f921\"]]}, \"colorway\": [\"#636efa\", \"#EF553B\", \"#00cc96\", \"#ab63fa\", \"#FFA15A\", \"#19d3f3\", \"#FF6692\", \"#B6E880\", \"#FF97FF\", \"#FECB52\"], \"font\": {\"color\": \"#2a3f5f\"}, \"geo\": {\"bgcolor\": \"white\", \"lakecolor\": \"white\", \"landcolor\": \"#E5ECF6\", \"showlakes\": true, \"showland\": true, \"subunitcolor\": \"white\"}, \"hoverlabel\": {\"align\": \"left\"}, \"hovermode\": \"closest\", \"mapbox\": {\"style\": \"light\"}, \"paper_bgcolor\": \"white\", \"plot_bgcolor\": \"#E5ECF6\", \"polar\": {\"angularaxis\": {\"gridcolor\": \"white\", \"linecolor\": \"white\", \"ticks\": \"\"}, \"bgcolor\": \"#E5ECF6\", \"radialaxis\": {\"gridcolor\": \"white\", \"linecolor\": \"white\", \"ticks\": \"\"}}, \"scene\": {\"xaxis\": {\"backgroundcolor\": \"#E5ECF6\", \"gridcolor\": \"white\", \"gridwidth\": 2, \"linecolor\": \"white\", \"showbackground\": true, \"ticks\": \"\", \"zerolinecolor\": \"white\"}, \"yaxis\": {\"backgroundcolor\": \"#E5ECF6\", \"gridcolor\": \"white\", \"gridwidth\": 2, \"linecolor\": \"white\", \"showbackground\": true, \"ticks\": \"\", \"zerolinecolor\": \"white\"}, \"zaxis\": {\"backgroundcolor\": \"#E5ECF6\", \"gridcolor\": \"white\", \"gridwidth\": 2, \"linecolor\": \"white\", \"showbackground\": true, \"ticks\": \"\", \"zerolinecolor\": \"white\"}}, \"shapedefaults\": {\"line\": {\"color\": \"#2a3f5f\"}}, \"ternary\": {\"aaxis\": {\"gridcolor\": \"white\", \"linecolor\": \"white\", \"ticks\": \"\"}, \"baxis\": {\"gridcolor\": \"white\", \"linecolor\": \"white\", \"ticks\": \"\"}, \"bgcolor\": \"#E5ECF6\", \"caxis\": {\"gridcolor\": \"white\", \"linecolor\": \"white\", \"ticks\": \"\"}}, \"title\": {\"x\": 0.05}, \"xaxis\": {\"automargin\": true, \"gridcolor\": \"white\", \"linecolor\": \"white\", \"ticks\": \"\", \"title\": {\"standoff\": 15}, \"zerolinecolor\": \"white\", \"zerolinewidth\": 2}, \"yaxis\": {\"automargin\": true, \"gridcolor\": \"white\", \"linecolor\": \"white\", \"ticks\": \"\", \"title\": {\"standoff\": 15}, \"zerolinecolor\": \"white\", \"zerolinewidth\": 2}}}, \"title\": {\"text\": \"Top Budget Movies\", \"x\": 0, \"xref\": \"paper\"}},\n",
       "                        {\"responsive\": true}\n",
       "                    ).then(function(){\n",
       "                            \n",
       "var gd = document.getElementById('626358dd-6f5b-483f-840a-40175e3d45df');\n",
       "var x = new MutationObserver(function (mutations, observer) {{\n",
       "        var display = window.getComputedStyle(gd).display;\n",
       "        if (!display || display === 'none') {{\n",
       "            console.log([gd, 'removed!']);\n",
       "            Plotly.purge(gd);\n",
       "            observer.disconnect();\n",
       "        }}\n",
       "}});\n",
       "\n",
       "// Listen for the removal of the full notebook cells\n",
       "var notebookContainer = gd.closest('#notebook-container');\n",
       "if (notebookContainer) {{\n",
       "    x.observe(notebookContainer, {childList: true});\n",
       "}}\n",
       "\n",
       "// Listen for the clearing of the current output cell\n",
       "var outputEl = gd.closest('.output');\n",
       "if (outputEl) {{\n",
       "    x.observe(outputEl, {childList: true});\n",
       "}}\n",
       "\n",
       "                        })\n",
       "                };\n",
       "                });\n",
       "            </script>\n",
       "        </div>"
      ]
     },
     "metadata": {},
     "output_type": "display_data"
    }
   ],
   "source": [
    "sorted_Budg=tmdb_Movies.sort_values('budget',ascending=False)\n",
    "top_Budg=sorted_Budg.head(10)\n",
    "top_Budg=top_Budg.sort_values('budget',ascending=True)\n",
    "fig = go.Figure(go.Bar(\n",
    "            x=top_Budg['budget'],\n",
    "            y=top_Budg['title'],\n",
    "            orientation='h',marker=dict(\n",
    "        color='Brown', #Bar Color\n",
    "        )))\n",
    "fig.update_layout(\n",
    "    \n",
    "    title=go.layout.Title(\n",
    "        text=\"Top Budget Movies\",\n",
    "        xref=\"paper\",\n",
    "        x=0),\n",
    "\n",
    "    barmode='group',\n",
    "    paper_bgcolor='White',\n",
    "    plot_bgcolor='White',\n",
    "    margin=dict(l=100, r=20, t=140, b=90),\n",
    "    showlegend=False,\n",
    ")\n",
    "fig.show()"
   ]
  },
  {
   "cell_type": "markdown",
   "metadata": {},
   "source": [
    "## Histogram depicting the distribution of 'Vote Average' data:\n"
   ]
  },
  {
   "cell_type": "code",
   "execution_count": 78,
   "metadata": {},
   "outputs": [
    {
     "data": {
      "application/vnd.plotly.v1+json": {
       "config": {
        "plotlyServerURL": "https://plot.ly"
       },
       "data": [
        {
         "alignmentgroup": "True",
         "bingroup": "x",
         "hovertemplate": "vote_average=%{x}<br>count=%{y}<extra></extra>",
         "legendgroup": "",
         "marker": {
          "color": "#636efa"
         },
         "name": "",
         "nbinsx": 40,
         "offsetgroup": "",
         "orientation": "v",
         "showlegend": false,
         "type": "histogram",
         "x": [
          7.2,
          6.9,
          6.3,
          7.6,
          6.1,
          5.9,
          7.4,
          7.3,
          7.4,
          5.7,
          5.4,
          6.1,
          7,
          5.9,
          6.5,
          6.3,
          7.4,
          6.4,
          6.2,
          7.1,
          6.5,
          6.2,
          7.6,
          5.8,
          6.6,
          7.5,
          7.1,
          5.5,
          6.5,
          6.9,
          6.7,
          6.8,
          6.4,
          6.3,
          7,
          6,
          5.8,
          5.7,
          6.5,
          6.3,
          5.8,
          5.1,
          7.6,
          5.9,
          7.3,
          6.7,
          7.5,
          7.4,
          5.5,
          7.3,
          6.2,
          6.7,
          6.1,
          5.7,
          6.6,
          6.7,
          6.6,
          7.8,
          6.1,
          5.6,
          6.6,
          5.2,
          5.5,
          6.7,
          6.4,
          8.2,
          7.7,
          6,
          7.4,
          7,
          5.1,
          5.2,
          5.9,
          5.3,
          7.6,
          5.9,
          5.6,
          8,
          6.7,
          6.6,
          5.8,
          7,
          7.3,
          4.8,
          5.9,
          7.6,
          6,
          6.2,
          7.8,
          7.1,
          6.4,
          4.9,
          7.5,
          5.9,
          7.9,
          8.1,
          8.1,
          6.5,
          7,
          6.6,
          7.3,
          7.1,
          6.6,
          5.8,
          5.5,
          6.5,
          6,
          6.3,
          5.8,
          6.2,
          6.6,
          6.6,
          5.6,
          7.4,
          7.5,
          6.2,
          6.9,
          6.7,
          7.5,
          7.5,
          6.2,
          5.9,
          6.2,
          6.4,
          7.3,
          6.7,
          6.8,
          7.2,
          6.5,
          6.6,
          6.3,
          5.1,
          5.5,
          5.7,
          7.1,
          5.5,
          5.7,
          6.7,
          4.7,
          6.5,
          6.4,
          5.5,
          6,
          5.9,
          6.7,
          6.9,
          6.4,
          5.8,
          5.3,
          6.4,
          6,
          5.5,
          6.7,
          6.8,
          7.1,
          5.9,
          7.3,
          5.6,
          7.4,
          6.8,
          7.6,
          5.3,
          4.9,
          7,
          6.3,
          5.3,
          5.4,
          5.7,
          5.9,
          6.6,
          6,
          6.9,
          6.1,
          5.8,
          6.1,
          6,
          7.3,
          6.1,
          6.6,
          6.5,
          7.3,
          6.9,
          7,
          7.4,
          6.8,
          6.2,
          6.3,
          6.4,
          6.2,
          5.6,
          6.7,
          7.7,
          6.3,
          5,
          6.2,
          6.1,
          6.7,
          7.5,
          5.4,
          7.5,
          6.6,
          6.5,
          6.3,
          6.8,
          7.1,
          7,
          5.6,
          7.1,
          6.4,
          6,
          4.2,
          6.2,
          6.2,
          5.9,
          6.2,
          5.4,
          7.2,
          5.2,
          5.9,
          5.2,
          6.3,
          5.4,
          6.4,
          6.3,
          5.7,
          5.7,
          4.9,
          5.9,
          6.4,
          7.1,
          6.4,
          7.5,
          6.3,
          6.3,
          6.8,
          5,
          5.8,
          6,
          5.8,
          7.3,
          5.7,
          5.8,
          4.4,
          6.3,
          6,
          6,
          6.8,
          6.4,
          6.5,
          6.2,
          7,
          4.9,
          5.5,
          6.1,
          5.5,
          5.7,
          5.9,
          6.6,
          5.5,
          4.1,
          6.6,
          6.4,
          8,
          5.7,
          6.7,
          4.9,
          6.7,
          6.6,
          5.8,
          6.7,
          7.6,
          6.5,
          3.7,
          6.1,
          7.9,
          7.1,
          7.4,
          7.3,
          5.6,
          7.7,
          6.5,
          7.4,
          6.8,
          6.2,
          5.4,
          6.1,
          5.6,
          7.8,
          6.8,
          7.2,
          6.1,
          6.4,
          4.9,
          6.4,
          6.4,
          6,
          5.5,
          7.3,
          7.9,
          5.2,
          6.7,
          6.6,
          6.5,
          4.2,
          5.6,
          7.2,
          5.3,
          6.1,
          5.5,
          3.6,
          6.5,
          4.4,
          6.4,
          6.5,
          7.1,
          6,
          7.1,
          7.1,
          5.9,
          5.4,
          7.2,
          5.6,
          7.3,
          5.4,
          7,
          6.2,
          6.7,
          6.6,
          7.6,
          8.1,
          8,
          5.2,
          5.7,
          5.9,
          5.7,
          7,
          6.3,
          5.2,
          5.8,
          7.4,
          5.7,
          6,
          6.9,
          7.3,
          6.3,
          6.4,
          6.3,
          6.5,
          6.5,
          7,
          5.6,
          7.9,
          7.6,
          6.5,
          7.2,
          6.9,
          7,
          5.3,
          6.7,
          5.8,
          6.7,
          5.5,
          5.6,
          6.8,
          5.2,
          7.2,
          5.6,
          6.2,
          5.9,
          5.5,
          6.7,
          5.9,
          6.8,
          5.7,
          6.5,
          6.9,
          5.2,
          5.9,
          6.1,
          6.6,
          7.3,
          5.4,
          6.7,
          6.1,
          7.5,
          5.9,
          7.2,
          6.2,
          7.2,
          5.6,
          6.8,
          6.6,
          6.3,
          5.1,
          5.8,
          6.7,
          6.7,
          6.2,
          6.5,
          6.1,
          6.9,
          7.2,
          6.4,
          6.1,
          7.3,
          6.1,
          6.7,
          6.9,
          5.5,
          7.3,
          5.5,
          7.2,
          5.4,
          4.7,
          5.4,
          6.6,
          6,
          6.7,
          4.9,
          5.9,
          6.5,
          7.3,
          5.7,
          6.4,
          6,
          6.7,
          6.9,
          6.2,
          6.6,
          6.3,
          7.1,
          5.8,
          5.9,
          6.4,
          6.2,
          5.4,
          5.8,
          6,
          6.3,
          7.8,
          5.3,
          6,
          6.8,
          5.9,
          7.3,
          6.3,
          6.5,
          6.3,
          6.7,
          6.6,
          5.3,
          5.2,
          6.5,
          5.6,
          5.2,
          6.5,
          7.4,
          5.6,
          5.2,
          7.4,
          5.3,
          5,
          6.2,
          8,
          6.7,
          7,
          5.8,
          5.9,
          6.1,
          5.9,
          6.8,
          5.2,
          5.6,
          6.1,
          6.4,
          6.7,
          5.9,
          6.9,
          5.8,
          5.2,
          3,
          5.6,
          5.1,
          5.4,
          6.1,
          5.2,
          5.7,
          5.4,
          6,
          7.3,
          4.8,
          5.2,
          5.3,
          7.7,
          8,
          5.8,
          6.4,
          6.7,
          6.5,
          4.1,
          6.2,
          7.6,
          5.7,
          3.9,
          5.9,
          5.7,
          7,
          6.7,
          6.2,
          6.6,
          7.4,
          6.8,
          6.4,
          6.9,
          6.5,
          6.6,
          6.5,
          4.7,
          4.3,
          7.3,
          6,
          7,
          5.7,
          5.9,
          6.5,
          5.8,
          6.6,
          5.4,
          6.9,
          6.4,
          5.7,
          7.1,
          5.8,
          6.3,
          6.2,
          5.9,
          6.4,
          5.7,
          6.2,
          6.3,
          5,
          6.1,
          5.8,
          4.3,
          5.7,
          6.9,
          6.4,
          5.9,
          5.8,
          5.8,
          5.9,
          5.4,
          5.7,
          6.5,
          6.2,
          4.9,
          7.7,
          6.6,
          6.9,
          6.6,
          4.5,
          6.9,
          6.2,
          5.4,
          6.4,
          6.7,
          6.6,
          5.7,
          5.8,
          5.8,
          6.4,
          7.9,
          6.6,
          6.6,
          5.8,
          6.5,
          5.3,
          5.5,
          5.4,
          6.7,
          6.2,
          6.3,
          5.5,
          7.6,
          6,
          7,
          5.8,
          7.1,
          5.8,
          6.2,
          6,
          7.1,
          7,
          5.2,
          5.4,
          5,
          5.2,
          6.1,
          6,
          5.9,
          6.1,
          3.4,
          4.3,
          5.5,
          5.9,
          5.9,
          5.1,
          5.7,
          4.6,
          6.7,
          4.4,
          5.9,
          5.8,
          6.7,
          7.1,
          5.4,
          6.2,
          6.9,
          5.7,
          5.4,
          7.3,
          6.3,
          6.5,
          5.5,
          5.5,
          6,
          6.6,
          5,
          7.9,
          6.1,
          6.1,
          7.1,
          5.3,
          6.7,
          7.9,
          7.3,
          5.5,
          7.1,
          6.3,
          6.5,
          6.3,
          6.2,
          7.3,
          6.3,
          6.1,
          5.7,
          6,
          5.9,
          6.5,
          5.9,
          7.1,
          6,
          6.7,
          5.9,
          5.7,
          6.4,
          6.1,
          5.6,
          6,
          6.5,
          6,
          6.1,
          8.3,
          6.7,
          5.4,
          4.9,
          5,
          6.7,
          4.8,
          6.3,
          5.3,
          6.7,
          7.1,
          5.9,
          6.1,
          7.6,
          6.5,
          6.4,
          5.9,
          5.3,
          6.1,
          6.5,
          4.3,
          5.8,
          7.6,
          5.9,
          5.5,
          7,
          6.1,
          6.9,
          8.2,
          5.6,
          5.6,
          7.9,
          7.3,
          6.6,
          6.1,
          7.8,
          6.8,
          5.6,
          6.6,
          5,
          6.6,
          5.9,
          6,
          5.3,
          5.9,
          5.7,
          6.4,
          5.8,
          6.5,
          6.6,
          6.8,
          6.7,
          7,
          5.3,
          6.2,
          6.3,
          5.6,
          6.7,
          6.2,
          4.3,
          7.3,
          4.9,
          7.3,
          4.5,
          5.6,
          5.5,
          6.5,
          6.1,
          6.7,
          6.1,
          5.9,
          5.9,
          5.8,
          5.3,
          5.6,
          5.9,
          6.4,
          5.8,
          5.9,
          6.9,
          6.6,
          6.3,
          7.5,
          5.3,
          6,
          6.2,
          4.6,
          7,
          6.7,
          5.7,
          5.1,
          5.8,
          5.6,
          6.1,
          5.8,
          6.6,
          6.2,
          5.8,
          5.7,
          5.9,
          6,
          6.6,
          6.3,
          7.4,
          5.1,
          4.7,
          5.4,
          6.6,
          6.5,
          6.1,
          5.7,
          6.3,
          7,
          4.9,
          6,
          6.2,
          5,
          5.3,
          5.7,
          6,
          4.7,
          5.4,
          4.1,
          6.7,
          6,
          6.8,
          7.4,
          4.9,
          7.4,
          6.2,
          6.5,
          4.4,
          5.7,
          5.7,
          4.9,
          5.1,
          6.1,
          5.8,
          5.9,
          7.2,
          5.5,
          6.4,
          6,
          4.7,
          5.5,
          5.8,
          6,
          8.2,
          5.5,
          6.6,
          6.7,
          6.9,
          5.4,
          6.4,
          5.4,
          6,
          7.6,
          5.9,
          6,
          7.1,
          5.6,
          7,
          7.7,
          6.1,
          5.9,
          6.4,
          7.7,
          6,
          7.6,
          6.1,
          6.3,
          6.2,
          5.8,
          5.7,
          6.3,
          5.7,
          6.2,
          5.9,
          6.7,
          6.4,
          7,
          5.3,
          6,
          6.2,
          5.1,
          5.4,
          6.4,
          7.3,
          5.3,
          5.7,
          7,
          6.6,
          5.4,
          6.1,
          5.2,
          5.7,
          6.2,
          4.2,
          6.9,
          7.1,
          7.3,
          5.3,
          6.2,
          7.5,
          5.2,
          7.1,
          6.1,
          5.4,
          6.5,
          3.5,
          5.7,
          5.5,
          7.4,
          7.4,
          5.4,
          6.3,
          6.7,
          7.2,
          6.8,
          5.9,
          5.4,
          7.7,
          6.7,
          5.6,
          6.4,
          5.7,
          5.1,
          7.2,
          5.9,
          6.9,
          7.8,
          6.1,
          5.1,
          6.1,
          5.3,
          5.1,
          5.6,
          7.3,
          6.5,
          6.6,
          6.7,
          6.3,
          7.2,
          7,
          6,
          5.6,
          6.6,
          7.1,
          6.3,
          7,
          7.2,
          6.4,
          6.2,
          6.9,
          5.8,
          5.6,
          7.3,
          6.7,
          5,
          6.5,
          5.9,
          5.5,
          5.4,
          7,
          5.2,
          5.2,
          7,
          6.3,
          6.8,
          5.5,
          7.7,
          6,
          6.2,
          5.1,
          6,
          5.7,
          6.3,
          5.9,
          6.3,
          7,
          7.3,
          5.6,
          6.4,
          6,
          7.5,
          6.3,
          6.1,
          6.1,
          6.8,
          5.8,
          5.5,
          6.2,
          7.2,
          5.8,
          6.1,
          6.1,
          6.1,
          4.5,
          4.4,
          6.3,
          5.9,
          6.2,
          6.3,
          4.4,
          5,
          5.8,
          6,
          6,
          6,
          5.9,
          6,
          6.2,
          6.1,
          6,
          5.6,
          7.6,
          7.1,
          6.6,
          7.3,
          5.4,
          6.3,
          7.2,
          5.8,
          6.2,
          5.2,
          5.8,
          5.9,
          5.8,
          5.5,
          6.5,
          6,
          5.2,
          5.6,
          5.6,
          5.9,
          4.7,
          5,
          5.4,
          5.3,
          3.9,
          5.7,
          6.2,
          7.2,
          6.9,
          7.6,
          6.5,
          6.6,
          6.5,
          6.5,
          4.3,
          6.6,
          6.1,
          6,
          7.1,
          6,
          5.6,
          6.6,
          6.9,
          6.1,
          6.5,
          5.7,
          6.6,
          5.9,
          6.6,
          6.5,
          7.2,
          7.7,
          4.6,
          5.7,
          6.3,
          5.5,
          6.8,
          7,
          4.4,
          6.2,
          6.4,
          6.6,
          6.5,
          5,
          6.1,
          5.8,
          6.1,
          5.8,
          6,
          6.3,
          6.4,
          7,
          6.3,
          5.6,
          7.9,
          7.3,
          6.9,
          5.4,
          6.5,
          6.5,
          7.3,
          5.9,
          4.7,
          5.8,
          7,
          6.8,
          6.6,
          5.5,
          5.9,
          6.2,
          5.6,
          6.6,
          4.3,
          6.1,
          6.6,
          6.4,
          6.1,
          5.9,
          6.2,
          6.1,
          6,
          5.5,
          6.5,
          7.1,
          6.7,
          6.2,
          5.4,
          4.7,
          5.5,
          5.3,
          6.5,
          6.1,
          4.7,
          5.8,
          7.1,
          6.7,
          6,
          6.3,
          6.6,
          5,
          6.3,
          6.4,
          4,
          6,
          2.3,
          7.1,
          7.2,
          5.5,
          7.3,
          6.3,
          5.5,
          6.9,
          6.4,
          6.4,
          5.6,
          7,
          6,
          6.6,
          5.3,
          6.6,
          6.8,
          6.3,
          6.7,
          7,
          6.5,
          5.8,
          5.4,
          6.5,
          6.7,
          6,
          6.1,
          6.5,
          6.1,
          5.4,
          5.9,
          5.6,
          5.7,
          4,
          7,
          7.2,
          5.3,
          6.1,
          6.3,
          6.8,
          6.8,
          5.3,
          6.6,
          5.3,
          7.7,
          6.2,
          5.6,
          6.9,
          6.8,
          6.7,
          6.2,
          7.4,
          6.3,
          5.2,
          4.7,
          7,
          6,
          7.4,
          6.7,
          7,
          7.1,
          6.2,
          5.3,
          5.7,
          7.1,
          5.9,
          7.1,
          6.6,
          6.8,
          7,
          5.4,
          6.7,
          7.1,
          6.1,
          7.1,
          7.2,
          7.2,
          6.2,
          6.5,
          5.7,
          7.5,
          5.4,
          5.8,
          6.1,
          6.2,
          5.4,
          7.2,
          6,
          5.9,
          5.9,
          6.2,
          5,
          7.3,
          7,
          6.5,
          8,
          6.1,
          5.7,
          7.3,
          6.2,
          6,
          5.8,
          6.4,
          6.5,
          6.4,
          6.5,
          6,
          6.8,
          6.7,
          5.8,
          6.8,
          5.8,
          4.9,
          5.4,
          5.7,
          6.2,
          6.5,
          5.4,
          6.1,
          6.1,
          6.7,
          5.3,
          5,
          5.9,
          5.3,
          7,
          5.9,
          5.5,
          5.8,
          5.4,
          6.9,
          6.1,
          6.3,
          5.6,
          6.7,
          4.9,
          5,
          4.6,
          5.2,
          6.4,
          6.4,
          5.4,
          7.2,
          5.9,
          6.5,
          6.9,
          5.7,
          5.9,
          4.7,
          6,
          4.9,
          6.5,
          5.7,
          4.8,
          7,
          4.2,
          7.5,
          5.7,
          5.7,
          7.8,
          5.5,
          5.6,
          6.6,
          5.9,
          3.2,
          5.5,
          5.9,
          6.3,
          5.2,
          4.2,
          6.5,
          6.1,
          5,
          4.8,
          7,
          6,
          5.4,
          5.5,
          5.1,
          6.6,
          6.2,
          6.6,
          7.1,
          6.3,
          4.3,
          6.7,
          6.5,
          5.9,
          7.3,
          7.5,
          6.7,
          5.8,
          6.6,
          7.4,
          4.5,
          5.3,
          6,
          7.1,
          6,
          6.4,
          5.5,
          5.3,
          6.4,
          6.3,
          6.7,
          6.8,
          7.2,
          6.2,
          5.7,
          5,
          5.6,
          5.5,
          6.3,
          5.7,
          6,
          6.9,
          6.3,
          7.8,
          6.2,
          5.8,
          5.4,
          6.2,
          7,
          4.3,
          7.1,
          5.6,
          7.3,
          7,
          5.8,
          6.5,
          5.6,
          7.7,
          7.5,
          5.3,
          5.9,
          6.7,
          5.8,
          7,
          6.1,
          6.8,
          5.3,
          6.6,
          5.8,
          6,
          6.7,
          5.4,
          5.8,
          5.2,
          6.2,
          6.3,
          5.8,
          7.5,
          4.6,
          5.2,
          5.3,
          7.2,
          6.5,
          6.2,
          7,
          5.9,
          6.4,
          7.2,
          5.5,
          6.5,
          7.2,
          7,
          6.2,
          5.6,
          7,
          6.5,
          5.9,
          5.5,
          7,
          7.7,
          5.8,
          6.3,
          5.5,
          7.2,
          6,
          6.3,
          6.8,
          6,
          6.8,
          6.5,
          5.6,
          7.3,
          7.2,
          5.6,
          5.2,
          6.2,
          5.2,
          5.2,
          5.8,
          7.4,
          6.4,
          7,
          6,
          5.2,
          6.7,
          5.7,
          5.9,
          5.1,
          6.9,
          4.1,
          8,
          6.4,
          5.5,
          6.7,
          6,
          6,
          5.4,
          5.9,
          5.9,
          6.3,
          6.1,
          5.8,
          5.1,
          6.3,
          5.6,
          6,
          6.1,
          5.5,
          5.9,
          7,
          5.6,
          5.2,
          6.9,
          4.9,
          5.7,
          5.1,
          6.2,
          5.4,
          6.5,
          5.7,
          6,
          4.6,
          5.3,
          5.8,
          6,
          5.7,
          6.6,
          6.4,
          5.7,
          7,
          5.3,
          6.5,
          4.7,
          5.5,
          4.8,
          5.6,
          4.9,
          6.9,
          4.7,
          6.5,
          6.6,
          7.7,
          6.6,
          6.2,
          7.4,
          6.7,
          6.6,
          7,
          5.8,
          0,
          7,
          5,
          7,
          6.8,
          5.3,
          5.1,
          7.5,
          7.3,
          5.4,
          5.3,
          5.4,
          6.5,
          7.1,
          7.1,
          5.3,
          5.6,
          6.3,
          4.8,
          6.7,
          5.1,
          4.9,
          6.1,
          6.6,
          6.3,
          5.7,
          7.9,
          5.8,
          7.2,
          5.3,
          6.4,
          6.2,
          5.3,
          6.7,
          5.6,
          6.5,
          6.3,
          6,
          7,
          6,
          5.7,
          5.3,
          7.1,
          6.7,
          6.3,
          6.7,
          5.6,
          6.3,
          6.9,
          6.2,
          6.3,
          5.6,
          6.6,
          6.2,
          4,
          5.4,
          5.3,
          7.1,
          7.2,
          5.9,
          5,
          8,
          6,
          6.9,
          5.7,
          7,
          6.5,
          5.9,
          8,
          6.4,
          6.2,
          7,
          6.2,
          6.4,
          6.9,
          6.1,
          6,
          7.7,
          6.8,
          7,
          6,
          7.4,
          7.2,
          7.2,
          6.2,
          6.7,
          6.1,
          6.5,
          6.5,
          8.1,
          7.3,
          6.7,
          7.6,
          7.7,
          6.4,
          7.7,
          6.1,
          6,
          6,
          5.9,
          7.2,
          6.7,
          6.7,
          6.4,
          6.6,
          4.9,
          6,
          5.8,
          6.4,
          6.7,
          5.8,
          5.8,
          5.9,
          5.3,
          6.3,
          7.4,
          5.5,
          7.4,
          5.8,
          5.6,
          5.7,
          6.3,
          6,
          6.8,
          6.9,
          5.1,
          7.4,
          6.6,
          6.2,
          4.9,
          7.2,
          7.2,
          7.2,
          7.3,
          6.2,
          7.4,
          6.9,
          6.6,
          5.6,
          7.1,
          6.2,
          6.5,
          3.7,
          7.2,
          6.4,
          6.6,
          6.5,
          3.8,
          5.7,
          5.8,
          6.6,
          6.5,
          5.1,
          6.6,
          6.4,
          5.9,
          6.8,
          4.1,
          6.3,
          6.4,
          6.2,
          5.4,
          4.8,
          5.9,
          5.8,
          5.2,
          5.7,
          5,
          6.9,
          4.8,
          6,
          6,
          5.2,
          5.4,
          6.6,
          5.7,
          6.8,
          5.5,
          5.5,
          5.1,
          6.3,
          5.1,
          5,
          6.7,
          6,
          6.4,
          4,
          5.4,
          2.9,
          5.7,
          4.7,
          6.1,
          4.8,
          6.7,
          6.3,
          7.2,
          5.5,
          5.8,
          7.4,
          8.2,
          5.9,
          6.7,
          6,
          5.4,
          6.3,
          5,
          5,
          7,
          5,
          5.9,
          5.4,
          6.4,
          5.5,
          7,
          3,
          5.8,
          6.4,
          6.6,
          5.6,
          6.8,
          7.3,
          5.9,
          5.8,
          7.2,
          6.6,
          5,
          5.5,
          6.9,
          6.3,
          4.9,
          6.8,
          7.4,
          7.7,
          7.1,
          5.7,
          6.1,
          6.6,
          6.2,
          7.5,
          6.4,
          7.3,
          6.2,
          7,
          6.8,
          5.5,
          6.5,
          7.4,
          7.1,
          6.4,
          6.3,
          6.6,
          5.5,
          6.1,
          6.9,
          6.4,
          6.1,
          7.1,
          5.6,
          4.6,
          6.1,
          7.7,
          7.9,
          6.5,
          6,
          6.5,
          4.5,
          7,
          5.8,
          6,
          5.5,
          5.5,
          4.8,
          5.8,
          5.5,
          6.8,
          6.2,
          6.3,
          5.6,
          5.7,
          6.2,
          6.2,
          7.1,
          5.7,
          6.9,
          6.9,
          6.2,
          6.7,
          5.6,
          6.2,
          7.5,
          6,
          6.7,
          6.6,
          5.5,
          7.4,
          7.3,
          6.3,
          7,
          7.2,
          6.7,
          6.7,
          5.9,
          6.1,
          5.5,
          6.8,
          4.4,
          6.5,
          5.9,
          5.9,
          6.3,
          5.2,
          5.9,
          6.9,
          5.2,
          6,
          6.2,
          6.8,
          6.2,
          5.8,
          6.6,
          6.8,
          7,
          6.3,
          6.9,
          6.2,
          5.9,
          7.3,
          5.2,
          6.1,
          5.9,
          4.9,
          7.1,
          6.8,
          5.2,
          5.7,
          5.8,
          6.1,
          4.8,
          4.5,
          5.5,
          6,
          6.5,
          3.9,
          5.3,
          6.3,
          6.8,
          6.9,
          7,
          7.6,
          7.8,
          6.1,
          7.2,
          7.2,
          6.1,
          8.3,
          7.8,
          5.7,
          5.4,
          4.9,
          5.8,
          4.7,
          5.6,
          6.4,
          5.8,
          7.6,
          7.7,
          6.1,
          6.5,
          6.8,
          5.1,
          5.7,
          6.1,
          7.4,
          6,
          7.2,
          5.8,
          6.8,
          7,
          7.2,
          7,
          6.4,
          6.1,
          6.7,
          8.2,
          5,
          6.4,
          8,
          6.3,
          7.4,
          6.1,
          5.9,
          7.9,
          5.8,
          5.6,
          5.5,
          6.3,
          6.4,
          5.6,
          5.4,
          6.6,
          6.4,
          5.8,
          5.5,
          5.5,
          5.8,
          7,
          6.4,
          6.1,
          4.9,
          6,
          7.1,
          7.1,
          5.5,
          6.9,
          4.7,
          5.4,
          4.7,
          8.5,
          4.7,
          6.7,
          5.7,
          6.9,
          5.9,
          6.5,
          7.2,
          6.7,
          6.2,
          6.6,
          6.2,
          5.4,
          6,
          6.9,
          6.5,
          4.6,
          5.4,
          4.7,
          5,
          6.9,
          5.4,
          5.6,
          4.3,
          5.2,
          6.3,
          5.2,
          4.4,
          6.7,
          6.3,
          4.9,
          7,
          6.5,
          6.2,
          6.2,
          7,
          6,
          7.1,
          5.6,
          7.7,
          6.7,
          6.6,
          6.1,
          4.6,
          6.2,
          5.8,
          5.3,
          5.5,
          6.4,
          5.7,
          6.8,
          5,
          5.5,
          4.8,
          7.3,
          5.5,
          5.1,
          6.4,
          3.5,
          7,
          5.9,
          6.1,
          6.2,
          6.6,
          7.7,
          6,
          5.6,
          7.1,
          6,
          3.8,
          6.3,
          5,
          6.2,
          7,
          6.5,
          4.1,
          7,
          5.5,
          6.9,
          6.5,
          6.1,
          5.4,
          6.4,
          6.2,
          6.4,
          6.6,
          7.2,
          5.1,
          6.1,
          6.1,
          5.9,
          5.9,
          5.5,
          7.6,
          5.5,
          5.8,
          5.9,
          4.7,
          5.7,
          5,
          5.3,
          6.5,
          4.1,
          6.8,
          5.4,
          6.1,
          8.2,
          7.2,
          5.9,
          8.2,
          6.5,
          6.6,
          6.4,
          6.5,
          6.7,
          6,
          7.9,
          6.3,
          5.1,
          5.9,
          6.4,
          5.6,
          3.5,
          6.6,
          6.5,
          6.6,
          6.1,
          6.6,
          6.6,
          5.8,
          5.9,
          5.5,
          6.5,
          6.5,
          6.7,
          6.8,
          6.9,
          6.5,
          6.3,
          6.5,
          6,
          7.3,
          4.6,
          7.4,
          7.3,
          5.6,
          7.2,
          5.9,
          6.6,
          6.1,
          6,
          6.8,
          4.7,
          6.2,
          6,
          5.4,
          6,
          6.3,
          6.4,
          5.4,
          5.7,
          5.3,
          6.4,
          6.1,
          6.2,
          4.2,
          3.6,
          4.9,
          3.8,
          5.2,
          5.9,
          7.2,
          7.2,
          5.5,
          5.9,
          6.2,
          7.4,
          5.2,
          6.7,
          6.5,
          6.5,
          6.3,
          7,
          6,
          5.6,
          5.5,
          7.1,
          6.9,
          5.1,
          6.3,
          6.9,
          7.5,
          7,
          6.6,
          6.4,
          5.1,
          6.7,
          5.8,
          6.5,
          6.6,
          5.5,
          6.3,
          5.9,
          6.7,
          7.7,
          6.3,
          7.2,
          5,
          6.1,
          5.4,
          8.1,
          6.5,
          6.4,
          5.9,
          4.9,
          7.4,
          5.2,
          5,
          6.7,
          5.4,
          6.3,
          6.7,
          6.7,
          6.9,
          7.9,
          6.2,
          6.1,
          7.5,
          7.6,
          5.9,
          7.4,
          6.3,
          3.6,
          6.1,
          7.4,
          5.6,
          4.6,
          5.8,
          6.3,
          6.7,
          6.8,
          3.2,
          7.8,
          5.9,
          5.2,
          6,
          5.9,
          5.8,
          6.1,
          5.8,
          7,
          4.2,
          6.9,
          6.5,
          7,
          6.6,
          5.3,
          6.4,
          4.6,
          6.2,
          7.1,
          5.7,
          5.3,
          6,
          6.3,
          5.4,
          6.3,
          7,
          4.7,
          5.8,
          6.6,
          7.9,
          6,
          6.3,
          6.7,
          5.8,
          6,
          5.9,
          6,
          5.3,
          6.5,
          5.3,
          5.2,
          6.3,
          5.1,
          6.7,
          7.1,
          6.3,
          5.8,
          8.2,
          5.4,
          6.7,
          5.6,
          4.9,
          6.8,
          6.5,
          7.1,
          7.8,
          5.6,
          5,
          6.9,
          6.4,
          6.3,
          7.2,
          4.3,
          7.3,
          7.2,
          5.8,
          5.3,
          5,
          7,
          6.5,
          6.2,
          3,
          5.5,
          6.5,
          6.2,
          5.8,
          4.8,
          5.9,
          7,
          6.1,
          6.4,
          6,
          6.1,
          6.4,
          5.7,
          6.7,
          4.5,
          6.2,
          6.4,
          5.6,
          7.3,
          5.4,
          6.3,
          5.6,
          6.5,
          6.5,
          6.5,
          1.9,
          5.4,
          4.7,
          6.4,
          6.5,
          6.5,
          3.2,
          5.9,
          4.1,
          5.3,
          5.8,
          4.7,
          6.7,
          7,
          6.2,
          6.8,
          7,
          3.1,
          5.4,
          5.9,
          6.5,
          6.3,
          6.3,
          6.6,
          4.8,
          6.8,
          7.4,
          8.2,
          5.7,
          4.9,
          7.1,
          6.8,
          3.3,
          6.9,
          6.5,
          6,
          2.2,
          5.4,
          6.4,
          5.8,
          5.9,
          6.2,
          6.1,
          5.8,
          4.5,
          5.5,
          6,
          5.3,
          6.6,
          6.3,
          5.3,
          5,
          0.5,
          6.1,
          5.4,
          6.1,
          7.1,
          7.1,
          7.6,
          5.4,
          6.7,
          6.1,
          7,
          5.4,
          8.1,
          8,
          5.5,
          6,
          3.9,
          5.9,
          5.3,
          6.5,
          4.6,
          6.2,
          8.3,
          5.9,
          6.5,
          7.4,
          6,
          6.4,
          6,
          6.2,
          5.8,
          5.6,
          6.1,
          6.8,
          6,
          7.3,
          6,
          5.8,
          7.2,
          6,
          6.2,
          6.6,
          6.9,
          6.5,
          6.1,
          6.4,
          6.3,
          5.5,
          3.7,
          6.2,
          5.6,
          6.5,
          6.5,
          5.5,
          6.3,
          7.3,
          7.8,
          4.8,
          6.9,
          6.4,
          6.8,
          5.9,
          7.4,
          7,
          6.9,
          6,
          4.9,
          6.4,
          6.9,
          6.7,
          5.6,
          5.8,
          7.7,
          5.6,
          6.7,
          5.5,
          7,
          6.4,
          6.8,
          5.4,
          4.9,
          7.2,
          6.8,
          5.1,
          5.9,
          3.7,
          6.2,
          7.3,
          4.9,
          6.9,
          5.7,
          5.6,
          6.4,
          5.8,
          6.5,
          6.7,
          7.3,
          6.7,
          6.5,
          6.9,
          3.5,
          7.3,
          6.8,
          6.2,
          6.2,
          6.7,
          7.2,
          5.3,
          5.9,
          7,
          6.7,
          4.4,
          6.7,
          5.6,
          9.3,
          6.9,
          4.5,
          6.7,
          5,
          6,
          7,
          6.4,
          5.7,
          6.5,
          5.9,
          7.5,
          5.9,
          5.8,
          4.6,
          5.4,
          7.4,
          7.7,
          7.4,
          5.6,
          6.4,
          6.9,
          5.8,
          7.4,
          4.7,
          6.7,
          6.4,
          5.8,
          5.2,
          5.9,
          6,
          6.1,
          5.1,
          7.4,
          5.6,
          6,
          7.3,
          4.8,
          6.9,
          4.6,
          3.3,
          6.3,
          6.2,
          6.3,
          6.4,
          5.6,
          4.9,
          4.1,
          3,
          7,
          5.5,
          2.9,
          7.1,
          5.6,
          6.8,
          6.1,
          5.2,
          6.5,
          5,
          4.5,
          7,
          5.8,
          7,
          7.2,
          6.9,
          6,
          7,
          8.1,
          6.5,
          7.3,
          7.4,
          5.9,
          6,
          7.3,
          4.8,
          7.6,
          5.9,
          6.4,
          3.7,
          7.6,
          4.8,
          7.4,
          5.3,
          5.5,
          5.3,
          7.4,
          4.6,
          6.7,
          6.4,
          5.4,
          7.2,
          5.3,
          5.4,
          7,
          6.9,
          5.7,
          5.3,
          7.6,
          6.8,
          4.6,
          5.1,
          5.5,
          6.4,
          6.7,
          6.8,
          6.7,
          4.3,
          6.2,
          6.9,
          6.5,
          4.7,
          6.8,
          6.3,
          7.2,
          4.8,
          7.7,
          6.7,
          6.4,
          4.2,
          5.7,
          5.3,
          5.5,
          6.2,
          6.3,
          6.8,
          7.1,
          5.8,
          6.9,
          6.7,
          7.2,
          7.9,
          7.6,
          5.7,
          6.4,
          7.7,
          6.5,
          8,
          6,
          7.2,
          5.9,
          6,
          7.1,
          6,
          6.8,
          7.1,
          6.1,
          7,
          6.1,
          5.4,
          5.6,
          7.8,
          6.7,
          5.7,
          5.8,
          5.9,
          6.2,
          6.9,
          6.6,
          5.5,
          7.2,
          5.8,
          7.8,
          4.7,
          6.9,
          7.8,
          5.1,
          7,
          6.2,
          6.2,
          4.5,
          7.6,
          6.9,
          7.4,
          5.1,
          5.6,
          6.5,
          6.3,
          6.1,
          7.4,
          6.9,
          4.7,
          4.3,
          6.3,
          7.3,
          6.1,
          7.5,
          7.5,
          5.5,
          6.1,
          5.2,
          4.4,
          6.4,
          5,
          6,
          5.9,
          5.5,
          6.8,
          6,
          5.3,
          7.2,
          5.9,
          5.8,
          6.5,
          4.6,
          5.9,
          6.7,
          4.4,
          5.1,
          7,
          6.7,
          5.9,
          6.4,
          5.3,
          6.3,
          6.2,
          2.9,
          5.2,
          4.8,
          5.4,
          7.5,
          6,
          7.8,
          6.6,
          6.5,
          6.7,
          5,
          4.7,
          6.7,
          4.7,
          5.5,
          7.4,
          5.6,
          5.6,
          5,
          6,
          6.8,
          4.7,
          7,
          6,
          7.2,
          6.1,
          7.6,
          5.4,
          5.8,
          6.8,
          7,
          6.5,
          4.8,
          6.5,
          6.3,
          5.5,
          6.6,
          8,
          6.5,
          6.7,
          6.6,
          6.5,
          7.4,
          6,
          5.9,
          5,
          6,
          5.2,
          4.8,
          6.1,
          5.7,
          5.6,
          5.8,
          5.6,
          4.8,
          7.3,
          6.7,
          4.5,
          7.4,
          6.3,
          6.7,
          7.2,
          5.8,
          7.7,
          6.9,
          7.6,
          6.6,
          7,
          5.5,
          5,
          6.7,
          6.8,
          5.3,
          6.1,
          6.6,
          5.6,
          6.2,
          6.5,
          5.1,
          6.2,
          6.4,
          6.9,
          5.8,
          4.5,
          4.5,
          5.3,
          4.4,
          6.2,
          5.7,
          5.6,
          5.8,
          5.5,
          6.1,
          6.7,
          5,
          4.5,
          6.4,
          5.3,
          5.5,
          7.4,
          6.9,
          5.5,
          6.2,
          6.4,
          4.4,
          5.2,
          6.3,
          5.8,
          6.3,
          5.8,
          7.1,
          6.7,
          6.3,
          6.1,
          4,
          7.4,
          7.5,
          6.9,
          6.9,
          5,
          6.8,
          6.7,
          6,
          7.7,
          7.2,
          6,
          7.1,
          4.7,
          4.8,
          7.3,
          8.3,
          6.3,
          5.8,
          6.7,
          5.2,
          6.6,
          7.1,
          6,
          7.3,
          5.7,
          5.7,
          6.2,
          7.3,
          4.8,
          7.1,
          3.3,
          6.1,
          5.7,
          5.8,
          5.6,
          6.7,
          7.6,
          7.3,
          6.6,
          5.7,
          6.6,
          7.2,
          6.2,
          5.5,
          8.1,
          6.5,
          6.4,
          5.7,
          6.6,
          5.5,
          5.1,
          6.1,
          5.7,
          6.8,
          5.9,
          5.4,
          6.7,
          5.9,
          4.8,
          6.5,
          7.7,
          4.5,
          6.4,
          5.6,
          4.6,
          6.3,
          5.8,
          6.6,
          5.8,
          5.3,
          6.4,
          7.1,
          6.7,
          6.9,
          7.5,
          5.9,
          7.5,
          6,
          6,
          5.4,
          8.4,
          7.1,
          7.7,
          7.6,
          6.2,
          7.3,
          5.8,
          6.3,
          6,
          7,
          7.4,
          6.3,
          7.5,
          7.5,
          6.4,
          7.6,
          5.6,
          6.9,
          6.2,
          7.3,
          6.4,
          7,
          7,
          6.3,
          6.7,
          6.5,
          7.3,
          6.2,
          6.6,
          6.2,
          6.6,
          4.7,
          6.5,
          7.3,
          6.6,
          5.5,
          5.5,
          4.7,
          6.3,
          7.2,
          7.3,
          6.5,
          7.6,
          6.9,
          6.3,
          5.4,
          6.5,
          7.4,
          6.4,
          6.6,
          5.8,
          6.1,
          4.3,
          7.4,
          6.7,
          5.4,
          5.6,
          6.6,
          5.3,
          5.3,
          6.1,
          6.1,
          6.4,
          6.4,
          7.9,
          4.6,
          7.8,
          7.1,
          6.1,
          6.4,
          6.9,
          4.9,
          5.7,
          5.9,
          6,
          5.8,
          3,
          5.7,
          4.6,
          6.6,
          6,
          6.7,
          6.8,
          6.9,
          6.5,
          7.3,
          6.4,
          6.5,
          6.9,
          6.1,
          6.9,
          6.5,
          6.8,
          6.2,
          6.1,
          6.1,
          5.3,
          6.8,
          6.5,
          5.2,
          4.8,
          6.7,
          7.6,
          3,
          6.3,
          5.8,
          6.9,
          4.3,
          6,
          7.7,
          4.3,
          6.4,
          7.5,
          5.5,
          6.3,
          6.9,
          8.1,
          5.7,
          7.4,
          7.1,
          6.2,
          7.2,
          6.4,
          7.3,
          7.3,
          3.9,
          6.6,
          5.6,
          6.7,
          7.5,
          7.3,
          6.6,
          6,
          6.5,
          7.4,
          4.1,
          5.9,
          6.4,
          5.5,
          7.2,
          7.7,
          5.8,
          5.7,
          6.3,
          4.9,
          7,
          7.3,
          6.6,
          7.3,
          5.4,
          7.5,
          8.2,
          6.8,
          5.1,
          6.6,
          7.2,
          5.8,
          5.1,
          5.9,
          6,
          6.2,
          5.6,
          5.9,
          7.3,
          5.9,
          5.7,
          6.1,
          6.3,
          5.2,
          5.6,
          7.9,
          7.3,
          5.8,
          6.8,
          8.5,
          5.2,
          5,
          6.4,
          7,
          7.9,
          5.3,
          6.1,
          6.5,
          5.8,
          6.1,
          5.7,
          5.9,
          5.6,
          6,
          6.7,
          7.2,
          6.4,
          5.8,
          6.5,
          6.1,
          6.7,
          7,
          6.9,
          6.6,
          5.9,
          6.4,
          5.8,
          5.8,
          6,
          6.2,
          6.4,
          5.4,
          6.4,
          6.8,
          5.5,
          6.2,
          6.3,
          6,
          5,
          5.3,
          6.1,
          6.9,
          6.2,
          6.9,
          5.4,
          5.8,
          5,
          5.8,
          6.4,
          5.2,
          5.3,
          6.1,
          7.5,
          4.7,
          6.3,
          6.4,
          5.5,
          6.3,
          6.1,
          6.6,
          6,
          6.6,
          6,
          7,
          5.6,
          8,
          5.4,
          5.6,
          6.6,
          6.2,
          8.1,
          6.7,
          6.1,
          5.5,
          7.4,
          6.4,
          6.8,
          6.2,
          5.3,
          6.4,
          5.1,
          6.8,
          4.4,
          5.3,
          6.3,
          5.9,
          8.2,
          5.9,
          5.5,
          7.3,
          7.7,
          5.5,
          6.4,
          6.2,
          3.8,
          6.5,
          4.1,
          6.9,
          6.6,
          6.1,
          6.9,
          5.4,
          5.7,
          6.6,
          7.2,
          6.4,
          6.8,
          7.3,
          4.4,
          6.3,
          4.8,
          6,
          5.8,
          7,
          6.4,
          5.4,
          6.8,
          6.4,
          5.5,
          6.2,
          6.5,
          6.1,
          6.8,
          4.9,
          6,
          6.3,
          4.8,
          5.6,
          6.6,
          5.5,
          6.4,
          6.5,
          5.3,
          5.9,
          6.3,
          6.4,
          6.5,
          6.4,
          6,
          6.4,
          4.1,
          6,
          5.8,
          6.2,
          3,
          4.8,
          5.4,
          4.7,
          5.8,
          5.1,
          7,
          3.9,
          5.7,
          5.4,
          6.4,
          5.6,
          4.3,
          6.1,
          6.5,
          6.4,
          6.9,
          4.3,
          4,
          6.4,
          5,
          7.1,
          4.9,
          6.7,
          6.4,
          6,
          6.4,
          4.3,
          6.5,
          6.1,
          7.5,
          4.5,
          4.9,
          7,
          7.3,
          6.2,
          6.2,
          6.9,
          5.1,
          6,
          7,
          7.1,
          7.3,
          7.9,
          7.2,
          6.3,
          7.4,
          6.5,
          5.7,
          7,
          6.9,
          6.8,
          6.3,
          7.3,
          6.6,
          4.9,
          6.6,
          6.7,
          6.5,
          7.1,
          4.8,
          5.8,
          7.4,
          6.8,
          6.3,
          6.4,
          6.5,
          6,
          6.8,
          5.7,
          6,
          5.5,
          6.1,
          6.9,
          7.2,
          6.8,
          5.1,
          6,
          5.8,
          7,
          4.8,
          6.1,
          6.8,
          4.5,
          7,
          5.6,
          5.8,
          6.3,
          5.2,
          5.9,
          7.3,
          7.9,
          6.3,
          8,
          5.6,
          6.8,
          6.8,
          6.8,
          5.6,
          5.7,
          6.1,
          6.7,
          6.8,
          6.8,
          3.4,
          5.6,
          6.6,
          6.8,
          7.7,
          6.6,
          7,
          6.6,
          7.1,
          7.2,
          7,
          6.7,
          4.3,
          8.3,
          7,
          7.6,
          5.1,
          7.4,
          6.1,
          7.5,
          7.8,
          7.1,
          4.8,
          7.2,
          7,
          5.7,
          7,
          5.3,
          6.1,
          5.6,
          7.5,
          7.2,
          6.5,
          6.4,
          5.8,
          6.7,
          6.4,
          5.2,
          7.3,
          6.1,
          6.5,
          5.9,
          5.7,
          6.6,
          6.7,
          3.9,
          6.6,
          5.7,
          4.6,
          4.9,
          5.5,
          6.9,
          7,
          7,
          6.9,
          5.7,
          6.3,
          6.9,
          6.6,
          6.9,
          6.7,
          4.3,
          7.3,
          7.3,
          5.9,
          5.8,
          4.9,
          5.9,
          7,
          6.6,
          5.2,
          6.4,
          5.6,
          6.9,
          6.3,
          5.6,
          5.1,
          7.8,
          5.8,
          6.1,
          4.6,
          4.3,
          7,
          7,
          6.4,
          5.4,
          5.9,
          4.1,
          7,
          6.6,
          6.5,
          6.6,
          7.1,
          5.6,
          6.8,
          5.7,
          5.8,
          6.8,
          4.5,
          4,
          6.1,
          5.7,
          5.2,
          7,
          6.2,
          5.8,
          6.2,
          6.4,
          6,
          7.7,
          5.6,
          7.5,
          6.4,
          6.7,
          4.4,
          7,
          5.5,
          6.3,
          8.4,
          6.1,
          7.2,
          7.1,
          6.1,
          4.9,
          6.4,
          6.5,
          6.7,
          6,
          6.8,
          6.8,
          6.8,
          6.6,
          6.3,
          4.9,
          6.8,
          7.5,
          4.4,
          6.3,
          6.6,
          7.2,
          6.2,
          6,
          4,
          6.6,
          6.5,
          5.8,
          7,
          7.3,
          7,
          5.6,
          6.5,
          6.8,
          3.8,
          5.7,
          6.7,
          7.4,
          6.4,
          6.1,
          6.4,
          6.1,
          6.2,
          7.4,
          5.8,
          5,
          4.5,
          6.7,
          6.2,
          7.1,
          6,
          5.7,
          2.7,
          6.7,
          5.8,
          6.2,
          7.7,
          7.1,
          5.9,
          6.7,
          6,
          6.3,
          7.2,
          5.8,
          5,
          5.1,
          6.5,
          7,
          6.9,
          7.4,
          6.1,
          6.8,
          5.8,
          6.3,
          6.7,
          6.1,
          5.6,
          7.9,
          5.8,
          5.1,
          7.8,
          5.6,
          5.2,
          7.4,
          6.8,
          6.3,
          6.8,
          6.2,
          7,
          5.1,
          7,
          4.1,
          7,
          7,
          7,
          8,
          6.5,
          6.8,
          7,
          7.1,
          6,
          7.5,
          7.3,
          7.4,
          7.2,
          7.3,
          6.8,
          7.2,
          7.5,
          6.8,
          7.4,
          7.4,
          7.4,
          7,
          6.6,
          6.5,
          7.1,
          8.1,
          5.5,
          5.9,
          7.3,
          6.2,
          6.7,
          6.9,
          6.2,
          4.4,
          6.3,
          6.6,
          5.9,
          6.5,
          5.4,
          7.4,
          5.2,
          6.5,
          8,
          6.6,
          6.1,
          6.4,
          5.5,
          6.9,
          6.8,
          4.8,
          7.1,
          6.6,
          5.4,
          6.4,
          5.5,
          7.4,
          6.9,
          6.2,
          6.6,
          6,
          5.7,
          7.6,
          6.2,
          6.6,
          7.2,
          4.6,
          4.7,
          5.7,
          6.2,
          5.3,
          5.9,
          6.5,
          6.3,
          4.7,
          8,
          6.8,
          5.4,
          5.4,
          5.6,
          6.3,
          5.2,
          7.6,
          7.1,
          7,
          5.5,
          6.8,
          4.9,
          7.2,
          5.5,
          6.8,
          10,
          6.2,
          6,
          4.2,
          4.7,
          6.4,
          3.9,
          7.9,
          6.8,
          6.4,
          7.3,
          5.9,
          7.4,
          7.1,
          6.2,
          3.3,
          7.5,
          5.6,
          6.2,
          7.6,
          4.8,
          6.8,
          7.1,
          5.4,
          7.2,
          6.2,
          5.6,
          4.9,
          7.3,
          7.1,
          6,
          7.3,
          5.9,
          7.2,
          5.4,
          6.5,
          6.3,
          6.8,
          6.1,
          6.3,
          5.9,
          4.9,
          6.5,
          7.5,
          5.2,
          6.4,
          6.7,
          5.1,
          7,
          6.8,
          5.2,
          7.9,
          7.9,
          5.1,
          8.1,
          6.3,
          6.9,
          7.4,
          7.1,
          4.7,
          6.8,
          5.4,
          6.1,
          6.5,
          5.9,
          7.1,
          6.4,
          6.1,
          5.4,
          6.1,
          7.5,
          6,
          6.4,
          4.8,
          6.2,
          5,
          5,
          7.3,
          7.5,
          4.3,
          6.9,
          5.9,
          5.8,
          6.9,
          5.5,
          5,
          6.5,
          6.7,
          6,
          5.4,
          4.3,
          6.3,
          6.2,
          5.2,
          6.2,
          6.3,
          6.7,
          6.6,
          4.9,
          6.4,
          6.7,
          6.6,
          6.5,
          8.1,
          6.3,
          7.6,
          5.2,
          5.9,
          6.8,
          6.5,
          6.6,
          4.6,
          7,
          5.4,
          6,
          6,
          7.3,
          5.7,
          6.6,
          6.9,
          5.9,
          6.7,
          5.8,
          3.9,
          6.8,
          5.6,
          6,
          6.6,
          6.5,
          7.3,
          6.2,
          6.6,
          5.5,
          4.7,
          6,
          6.2,
          3.8,
          4.2,
          7,
          6.3,
          5.8,
          3.2,
          7,
          7.4,
          3,
          6.1,
          5,
          4.5,
          4.1,
          6.4,
          0,
          0,
          4.7,
          3.5,
          7,
          7.1,
          7.4,
          6.3,
          5.7,
          6.2,
          7.1,
          6.3,
          6.3,
          5.5,
          5.9,
          7.2,
          5.6,
          4.8,
          4.6,
          7,
          1,
          7.3,
          5.6,
          5.7,
          5.9,
          6.5,
          5.8,
          6.6,
          7,
          6.9,
          7.2,
          6.9,
          7.9,
          6.2,
          6.8,
          7,
          5.5,
          7.7,
          6.1,
          7.7,
          6.6,
          6.3,
          7.4,
          6.2,
          6,
          7,
          6.6,
          7.7,
          5.4,
          5.3,
          8.2,
          6.9,
          6.7,
          7.3,
          8.2,
          5.5,
          5.7,
          7,
          6.5,
          7.1,
          6.6,
          5.9,
          6.1,
          6.9,
          6.3,
          6.9,
          6.1,
          4.6,
          7.5,
          7.3,
          7.8,
          6.6,
          6.5,
          5.2,
          7.1,
          4.8,
          6.9,
          4.1,
          6.4,
          6.5,
          7.1,
          7.8,
          5.8,
          4.4,
          7.5,
          6.4,
          5.3,
          5.9,
          6.7,
          6.8,
          5.5,
          4.8,
          7.1,
          5.4,
          6.3,
          6.1,
          5.5,
          6.5,
          6.7,
          3.3,
          6.7,
          7.3,
          5.4,
          6.2,
          6.1,
          5.9,
          6.6,
          8,
          5.1,
          6.5,
          5.5,
          6.5,
          5.2,
          6.9,
          6.5,
          7,
          6.7,
          6,
          5.8,
          8.1,
          6.6,
          6,
          4.5,
          6.1,
          4.2,
          7.1,
          6.2,
          6.7,
          6.4,
          6.2,
          6.2,
          5.8,
          7.3,
          7.1,
          5.2,
          6.1,
          5.7,
          4.5,
          6.6,
          4.1,
          5.2,
          4.4,
          7.5,
          7.7,
          7.7,
          6.5,
          6.2,
          7.3,
          7,
          6.7,
          6.5,
          6.6,
          6,
          6.6,
          7.4,
          6.8,
          7.1,
          5.3,
          7,
          7.2,
          5.9,
          6.9,
          7.4,
          7.4,
          6.2,
          7.1,
          6.3,
          5.4,
          5.7,
          6.8,
          7.8,
          4.8,
          7.6,
          5.4,
          3.8,
          5.4,
          6.7,
          5.8,
          6.7,
          5.6,
          2.9,
          5.2,
          2,
          0,
          4.6,
          7.9,
          0,
          3.3,
          5.3,
          5,
          3.6,
          6.5,
          6.9,
          6.7,
          6.2,
          6,
          8.3,
          8.1,
          6.8,
          6.8,
          6.4,
          7.9,
          7.4,
          6.7,
          6.2,
          4.1,
          8,
          6.8,
          7.5,
          7.4,
          6.9,
          6.9,
          6.8,
          6.1,
          7,
          7.2,
          5.7,
          8,
          7.8,
          6.3,
          5.7,
          7.4,
          7.3,
          6.9,
          5.7,
          6.9,
          6,
          6.7,
          5,
          7.6,
          6.2,
          5.3,
          5.9,
          5.7,
          7.7,
          4.7,
          6.7,
          8.1,
          4.2,
          6.4,
          6.4,
          6.6,
          7,
          5.3,
          7.3,
          7.6,
          4.5,
          7.3,
          3.7,
          7.4,
          3.8,
          6.3,
          5,
          5.8,
          6.8,
          6.5,
          3.1,
          5.7,
          6,
          7.4,
          5.2,
          5.4,
          7.6,
          6.4,
          5.9,
          6.6,
          7.2,
          6.9,
          7.4,
          6.1,
          5.1,
          8,
          6.5,
          5.7,
          5.2,
          6.5,
          5.8,
          6.9,
          5.6,
          4,
          5.3,
          3.7,
          5.2,
          6.7,
          6.3,
          3.9,
          5.8,
          5.7,
          6.1,
          4.9,
          3,
          0,
          5.4,
          5.2,
          5.3,
          2.9,
          5.8,
          7.1,
          0,
          4.8,
          4.6,
          2.8,
          6,
          6.1,
          6.3,
          7.6,
          7.3,
          4.9,
          6.8,
          4.1,
          6.6,
          6.6,
          6.1,
          4.3,
          6.9,
          8,
          5.3,
          7.4,
          7.7,
          5.4,
          7.6,
          6.5,
          7,
          9.5,
          4.9,
          6,
          7,
          6,
          7.2,
          5.9,
          7.1,
          7.1,
          5.3,
          7.6,
          7,
          7.4,
          5.2,
          7.8,
          7.1,
          5.4,
          4.6,
          6.8,
          5,
          6.3,
          7.5,
          7.1,
          7.1,
          7.1,
          7.7,
          6.9,
          6.7,
          6.8,
          5.2,
          6.8,
          7.2,
          6.8,
          7.2,
          7,
          7,
          7.1,
          5.5,
          6.1,
          6.1,
          6,
          6.6,
          5,
          4.9,
          4.8,
          7,
          4.8,
          6.3,
          4.5,
          7.4,
          3.1,
          7,
          4.6,
          10,
          6.9,
          4.7,
          5.6,
          6.7,
          7.2,
          0,
          5.7,
          5.1,
          6.2,
          6.6,
          5.7,
          5.8,
          5.6,
          3.5,
          5.4,
          5.7,
          7.6,
          6.7,
          7,
          0,
          7.1,
          4.5,
          0,
          5.1,
          4.1,
          6.9,
          5.3,
          7,
          6.6,
          6.6,
          8,
          7.3,
          7.2,
          7.2,
          5.2,
          7.9,
          6.8,
          7.6,
          6.5,
          7.3,
          6.6,
          7.1,
          7.6,
          7.6,
          6.7,
          6.8,
          6.8,
          7.6,
          4.8,
          7,
          7.7,
          6.3,
          7.2,
          6.3,
          5.6,
          4.8,
          5.9,
          6.3,
          7.8,
          5,
          7.2,
          6.8,
          7.6,
          6.5,
          6.8,
          7.1,
          5.6,
          4.6,
          6.3,
          6.1,
          5.2,
          5.8,
          0,
          7.1,
          5.9,
          6.3,
          5.2,
          6.7,
          5,
          5.6,
          5.5,
          6.4,
          5.9,
          6.1,
          6.3,
          6,
          6.7,
          5.4,
          5.3,
          6.8,
          6.9,
          6.1,
          5.5,
          5.2,
          0,
          6.7,
          3.5,
          5.8,
          7.2,
          4.4,
          5.6,
          5.7,
          6.7,
          6.6,
          5.3,
          6.3,
          5.2,
          6.1,
          5.9,
          3.9,
          4.2,
          4.4,
          4.4,
          6.7,
          6.7,
          5.8,
          6.6,
          7.4,
          7.8,
          5.8,
          5.6,
          7.5,
          5.8,
          6.9,
          5.6,
          7.2,
          7.6,
          8,
          6.2,
          6.8,
          5.5,
          5.6,
          5.3,
          6.7,
          6.4,
          5.5,
          6.8,
          6.7,
          6.9,
          5.3,
          0,
          4.2,
          5,
          7.2,
          6.3,
          4.9,
          7,
          6.1,
          6.4,
          6.3,
          5.5,
          6,
          7.3,
          5.9,
          7.2,
          7.2,
          7.1,
          6,
          6.3,
          4.3,
          6.8,
          4.6,
          7.6,
          7.5,
          0,
          6.7,
          6.5,
          4.4,
          6.7,
          6.6,
          7.9,
          6.8,
          6.9,
          5.9,
          4.5,
          7.3,
          6.5,
          7.1,
          6.8,
          6.7,
          7.4,
          6.5,
          6.5,
          5.5,
          6.1,
          6.8,
          6.5,
          3,
          6.2,
          5.7,
          4.5,
          5.7,
          8.1,
          6.4,
          5.9,
          3.5,
          6.6,
          6,
          6,
          6.6,
          6.8,
          10,
          5.1,
          6.5,
          6.9,
          6.8,
          6,
          6.4,
          2.6,
          7.4,
          4.2,
          3.3,
          7.5,
          6.9,
          6.8,
          5.4,
          5.9,
          5.3,
          5.2,
          6.2,
          0,
          6.1,
          7.5,
          0,
          7.7,
          6.7,
          5,
          6.5,
          6.1,
          0,
          2.8,
          5.9,
          2.3,
          3.2,
          5,
          7.7,
          6,
          7.4,
          5.3,
          5.9,
          5.8,
          6.7,
          6.8,
          4.1,
          6.7,
          7.2,
          6.6,
          0,
          5.7,
          6.8,
          6.8,
          6.9,
          6.5,
          6.3,
          8,
          6.4,
          8.1,
          7.8,
          5.8,
          0,
          6.8,
          0,
          4.1,
          0,
          6,
          3.9,
          6.8,
          4.4,
          4.8,
          6.1,
          6.7,
          4.2,
          2,
          6.2,
          7.2,
          6.8,
          5,
          6.9,
          6,
          5.7,
          7.3,
          3.1,
          4.4,
          7.9,
          6.1,
          7,
          6.3,
          7.5,
          4.1,
          6.1,
          5.5,
          8,
          6.4,
          6.9,
          4.9,
          6.9,
          5.7,
          5.6,
          5.9,
          6.9,
          6.9,
          4.6,
          6.6,
          5.5,
          6.7,
          6.2,
          7.2,
          5,
          7.5,
          6.6,
          7.4,
          6.8,
          6,
          6.7,
          6.7,
          6.7,
          6.7,
          7.4,
          5.4,
          6.6,
          7.2,
          6.3,
          6.7,
          6.7,
          7.3,
          6.1,
          6.2,
          5.9,
          7.7,
          6.7,
          6.4,
          6.8,
          6.7,
          7.5,
          5.6,
          7.5,
          6.6,
          4.7,
          2.8,
          4,
          7.2,
          6.4,
          4.7,
          3.4,
          6,
          6.2,
          6.3,
          5.2,
          6,
          5.5,
          4.4,
          6.2,
          5.4,
          6.6,
          0,
          4.8,
          3.3,
          8,
          6.2,
          8,
          6.4,
          4.9,
          5.4,
          3.5,
          6.1,
          5.5,
          6.1,
          4.5,
          4.7,
          4.8,
          7.6,
          5.7,
          5,
          3.2,
          4.9,
          5.7,
          5.3,
          6.6,
          4,
          3.5,
          4.1,
          6.6,
          5.7,
          5.5,
          5,
          7.4,
          8,
          5.3,
          7.3,
          5,
          6.8,
          6.1,
          7.4,
          7.3,
          5.8,
          6.8,
          6.5,
          6.7,
          0,
          5,
          5.8,
          6.4,
          5.2,
          6.5,
          5,
          2,
          7.7,
          7,
          6.9,
          5.6,
          7.8,
          7.6,
          0,
          7.8,
          6.1,
          7.3,
          0,
          3.7,
          6.1,
          6.6,
          5.9,
          6.9,
          8,
          6.5,
          6.8,
          7.7,
          6,
          5.4,
          7.6,
          5.6,
          4.5,
          5.7,
          3.8,
          7.6,
          7.7,
          5.9,
          6.7,
          6.5,
          5.5,
          6.5,
          0,
          0,
          5.2,
          4.8,
          6.2,
          0,
          5.6,
          4.8,
          5.3,
          7.4,
          6.3,
          7.1,
          6.4,
          5.5,
          0,
          6,
          3,
          5,
          0,
          6,
          4.8,
          7.3,
          0,
          4.6,
          6,
          7,
          4.2,
          6.1,
          5.4,
          5.8,
          5.7,
          7.2,
          7.4,
          6.2,
          7.3,
          7.8,
          7.5,
          6.3,
          7,
          5.6,
          4.8,
          7,
          6.9,
          4.8,
          4,
          5.3,
          6.4,
          6,
          7.1,
          8.2,
          6.9,
          4.7,
          4.9,
          5.7,
          4.2,
          6.2,
          6.2,
          4,
          5,
          4.5,
          6.9,
          7,
          5,
          5.9,
          0,
          7.3,
          3.5,
          0,
          3.4,
          6.5,
          0,
          5.2,
          6,
          0,
          5.5,
          5,
          2,
          6.3,
          4.3,
          7.2,
          2.4,
          6.2,
          5.9,
          0,
          6.1,
          8,
          7,
          6.9,
          4.2,
          6.7,
          6.9,
          5.9,
          7.2,
          7.8,
          7,
          1,
          7.5,
          3.8,
          5,
          6.6,
          5.8,
          5.5,
          6.6,
          0,
          5.6,
          7.8,
          7.4,
          6.3,
          5,
          7.3,
          6,
          5.1,
          6.9,
          4.9,
          6.8,
          4.7,
          8.2,
          7.6,
          7.7,
          6.9,
          8,
          6.2,
          6.4,
          6.1,
          6.4,
          0,
          6.3,
          6.4,
          4.8,
          7.6,
          7.3,
          5.5,
          7,
          3,
          5.3,
          2.8,
          7,
          5.9,
          6.8,
          0,
          0,
          6.2,
          5,
          5.7,
          6.3,
          6.7,
          6.3,
          0,
          6.5,
          5.7,
          5.7,
          5,
          0,
          6.9,
          5.8,
          7.5,
          4.9,
          6.4,
          3,
          5.5,
          7,
          4.1,
          5.9,
          6.9,
          6.6,
          4.8,
          5.5,
          0,
          6.4,
          5.7,
          5,
          0,
          4.2,
          5.5,
          0,
          7,
          10,
          7.7,
          6.9,
          0,
          6.9,
          5.2,
          4.3,
          6.7,
          6.6,
          6.8,
          7.6,
          5.1,
          0,
          6.5,
          6.6,
          6.3,
          8,
          8,
          4.9,
          5.5,
          4.6,
          5.8,
          0,
          7.7,
          7.8,
          6.1,
          7.7,
          6.8,
          4.6,
          6,
          0,
          6.5,
          0,
          7.8,
          7.4,
          6.1,
          0,
          0,
          6.8,
          4.6,
          5,
          5.5,
          7.3,
          4.9,
          5.5,
          5.8,
          0,
          7.5,
          0,
          7.2,
          6.8,
          7.4,
          0,
          6.3,
          0,
          6.5,
          5.9,
          7.1,
          6.5,
          0,
          6.6,
          4.9,
          7.5,
          5.7,
          7.1,
          4.9,
          6.5,
          0,
          6.3,
          7.4,
          5.2,
          7,
          5,
          7.3,
          5.5,
          6.4,
          7.1,
          6,
          3.7,
          3.3,
          6.6,
          4.5,
          5.2,
          4.4,
          6.4,
          6.7,
          5.8,
          6.3,
          6,
          6,
          5.6,
          5.1,
          5,
          8.3,
          6.9,
          5,
          5.8,
          5.7,
          6.6,
          6.8,
          6.4,
          7,
          2,
          3.2,
          7.9,
          3.5,
          6.4,
          0,
          6.1,
          0,
          6.3,
          7.4,
          6,
          6.3,
          6.8,
          5.5,
          6,
          6.4,
          0,
          6,
          6.8,
          4.7,
          6.2,
          0,
          5.6,
          4.2,
          6.2,
          6.7,
          6.6,
          2,
          7.4,
          6,
          0,
          6,
          6.9,
          7.5,
          6.6,
          5.9,
          7,
          5.7,
          6.3
         ],
         "xaxis": "x",
         "yaxis": "y"
        }
       ],
       "layout": {
        "barmode": "relative",
        "legend": {
         "tracegroupgap": 0
        },
        "margin": {
         "t": 60
        },
        "template": {
         "data": {
          "bar": [
           {
            "error_x": {
             "color": "#2a3f5f"
            },
            "error_y": {
             "color": "#2a3f5f"
            },
            "marker": {
             "line": {
              "color": "#E5ECF6",
              "width": 0.5
             }
            },
            "type": "bar"
           }
          ],
          "barpolar": [
           {
            "marker": {
             "line": {
              "color": "#E5ECF6",
              "width": 0.5
             }
            },
            "type": "barpolar"
           }
          ],
          "carpet": [
           {
            "aaxis": {
             "endlinecolor": "#2a3f5f",
             "gridcolor": "white",
             "linecolor": "white",
             "minorgridcolor": "white",
             "startlinecolor": "#2a3f5f"
            },
            "baxis": {
             "endlinecolor": "#2a3f5f",
             "gridcolor": "white",
             "linecolor": "white",
             "minorgridcolor": "white",
             "startlinecolor": "#2a3f5f"
            },
            "type": "carpet"
           }
          ],
          "choropleth": [
           {
            "colorbar": {
             "outlinewidth": 0,
             "ticks": ""
            },
            "type": "choropleth"
           }
          ],
          "contour": [
           {
            "colorbar": {
             "outlinewidth": 0,
             "ticks": ""
            },
            "colorscale": [
             [
              0,
              "#0d0887"
             ],
             [
              0.1111111111111111,
              "#46039f"
             ],
             [
              0.2222222222222222,
              "#7201a8"
             ],
             [
              0.3333333333333333,
              "#9c179e"
             ],
             [
              0.4444444444444444,
              "#bd3786"
             ],
             [
              0.5555555555555556,
              "#d8576b"
             ],
             [
              0.6666666666666666,
              "#ed7953"
             ],
             [
              0.7777777777777778,
              "#fb9f3a"
             ],
             [
              0.8888888888888888,
              "#fdca26"
             ],
             [
              1,
              "#f0f921"
             ]
            ],
            "type": "contour"
           }
          ],
          "contourcarpet": [
           {
            "colorbar": {
             "outlinewidth": 0,
             "ticks": ""
            },
            "type": "contourcarpet"
           }
          ],
          "heatmap": [
           {
            "colorbar": {
             "outlinewidth": 0,
             "ticks": ""
            },
            "colorscale": [
             [
              0,
              "#0d0887"
             ],
             [
              0.1111111111111111,
              "#46039f"
             ],
             [
              0.2222222222222222,
              "#7201a8"
             ],
             [
              0.3333333333333333,
              "#9c179e"
             ],
             [
              0.4444444444444444,
              "#bd3786"
             ],
             [
              0.5555555555555556,
              "#d8576b"
             ],
             [
              0.6666666666666666,
              "#ed7953"
             ],
             [
              0.7777777777777778,
              "#fb9f3a"
             ],
             [
              0.8888888888888888,
              "#fdca26"
             ],
             [
              1,
              "#f0f921"
             ]
            ],
            "type": "heatmap"
           }
          ],
          "heatmapgl": [
           {
            "colorbar": {
             "outlinewidth": 0,
             "ticks": ""
            },
            "colorscale": [
             [
              0,
              "#0d0887"
             ],
             [
              0.1111111111111111,
              "#46039f"
             ],
             [
              0.2222222222222222,
              "#7201a8"
             ],
             [
              0.3333333333333333,
              "#9c179e"
             ],
             [
              0.4444444444444444,
              "#bd3786"
             ],
             [
              0.5555555555555556,
              "#d8576b"
             ],
             [
              0.6666666666666666,
              "#ed7953"
             ],
             [
              0.7777777777777778,
              "#fb9f3a"
             ],
             [
              0.8888888888888888,
              "#fdca26"
             ],
             [
              1,
              "#f0f921"
             ]
            ],
            "type": "heatmapgl"
           }
          ],
          "histogram": [
           {
            "marker": {
             "colorbar": {
              "outlinewidth": 0,
              "ticks": ""
             }
            },
            "type": "histogram"
           }
          ],
          "histogram2d": [
           {
            "colorbar": {
             "outlinewidth": 0,
             "ticks": ""
            },
            "colorscale": [
             [
              0,
              "#0d0887"
             ],
             [
              0.1111111111111111,
              "#46039f"
             ],
             [
              0.2222222222222222,
              "#7201a8"
             ],
             [
              0.3333333333333333,
              "#9c179e"
             ],
             [
              0.4444444444444444,
              "#bd3786"
             ],
             [
              0.5555555555555556,
              "#d8576b"
             ],
             [
              0.6666666666666666,
              "#ed7953"
             ],
             [
              0.7777777777777778,
              "#fb9f3a"
             ],
             [
              0.8888888888888888,
              "#fdca26"
             ],
             [
              1,
              "#f0f921"
             ]
            ],
            "type": "histogram2d"
           }
          ],
          "histogram2dcontour": [
           {
            "colorbar": {
             "outlinewidth": 0,
             "ticks": ""
            },
            "colorscale": [
             [
              0,
              "#0d0887"
             ],
             [
              0.1111111111111111,
              "#46039f"
             ],
             [
              0.2222222222222222,
              "#7201a8"
             ],
             [
              0.3333333333333333,
              "#9c179e"
             ],
             [
              0.4444444444444444,
              "#bd3786"
             ],
             [
              0.5555555555555556,
              "#d8576b"
             ],
             [
              0.6666666666666666,
              "#ed7953"
             ],
             [
              0.7777777777777778,
              "#fb9f3a"
             ],
             [
              0.8888888888888888,
              "#fdca26"
             ],
             [
              1,
              "#f0f921"
             ]
            ],
            "type": "histogram2dcontour"
           }
          ],
          "mesh3d": [
           {
            "colorbar": {
             "outlinewidth": 0,
             "ticks": ""
            },
            "type": "mesh3d"
           }
          ],
          "parcoords": [
           {
            "line": {
             "colorbar": {
              "outlinewidth": 0,
              "ticks": ""
             }
            },
            "type": "parcoords"
           }
          ],
          "pie": [
           {
            "automargin": true,
            "type": "pie"
           }
          ],
          "scatter": [
           {
            "marker": {
             "colorbar": {
              "outlinewidth": 0,
              "ticks": ""
             }
            },
            "type": "scatter"
           }
          ],
          "scatter3d": [
           {
            "line": {
             "colorbar": {
              "outlinewidth": 0,
              "ticks": ""
             }
            },
            "marker": {
             "colorbar": {
              "outlinewidth": 0,
              "ticks": ""
             }
            },
            "type": "scatter3d"
           }
          ],
          "scattercarpet": [
           {
            "marker": {
             "colorbar": {
              "outlinewidth": 0,
              "ticks": ""
             }
            },
            "type": "scattercarpet"
           }
          ],
          "scattergeo": [
           {
            "marker": {
             "colorbar": {
              "outlinewidth": 0,
              "ticks": ""
             }
            },
            "type": "scattergeo"
           }
          ],
          "scattergl": [
           {
            "marker": {
             "colorbar": {
              "outlinewidth": 0,
              "ticks": ""
             }
            },
            "type": "scattergl"
           }
          ],
          "scattermapbox": [
           {
            "marker": {
             "colorbar": {
              "outlinewidth": 0,
              "ticks": ""
             }
            },
            "type": "scattermapbox"
           }
          ],
          "scatterpolar": [
           {
            "marker": {
             "colorbar": {
              "outlinewidth": 0,
              "ticks": ""
             }
            },
            "type": "scatterpolar"
           }
          ],
          "scatterpolargl": [
           {
            "marker": {
             "colorbar": {
              "outlinewidth": 0,
              "ticks": ""
             }
            },
            "type": "scatterpolargl"
           }
          ],
          "scatterternary": [
           {
            "marker": {
             "colorbar": {
              "outlinewidth": 0,
              "ticks": ""
             }
            },
            "type": "scatterternary"
           }
          ],
          "surface": [
           {
            "colorbar": {
             "outlinewidth": 0,
             "ticks": ""
            },
            "colorscale": [
             [
              0,
              "#0d0887"
             ],
             [
              0.1111111111111111,
              "#46039f"
             ],
             [
              0.2222222222222222,
              "#7201a8"
             ],
             [
              0.3333333333333333,
              "#9c179e"
             ],
             [
              0.4444444444444444,
              "#bd3786"
             ],
             [
              0.5555555555555556,
              "#d8576b"
             ],
             [
              0.6666666666666666,
              "#ed7953"
             ],
             [
              0.7777777777777778,
              "#fb9f3a"
             ],
             [
              0.8888888888888888,
              "#fdca26"
             ],
             [
              1,
              "#f0f921"
             ]
            ],
            "type": "surface"
           }
          ],
          "table": [
           {
            "cells": {
             "fill": {
              "color": "#EBF0F8"
             },
             "line": {
              "color": "white"
             }
            },
            "header": {
             "fill": {
              "color": "#C8D4E3"
             },
             "line": {
              "color": "white"
             }
            },
            "type": "table"
           }
          ]
         },
         "layout": {
          "annotationdefaults": {
           "arrowcolor": "#2a3f5f",
           "arrowhead": 0,
           "arrowwidth": 1
          },
          "coloraxis": {
           "colorbar": {
            "outlinewidth": 0,
            "ticks": ""
           }
          },
          "colorscale": {
           "diverging": [
            [
             0,
             "#8e0152"
            ],
            [
             0.1,
             "#c51b7d"
            ],
            [
             0.2,
             "#de77ae"
            ],
            [
             0.3,
             "#f1b6da"
            ],
            [
             0.4,
             "#fde0ef"
            ],
            [
             0.5,
             "#f7f7f7"
            ],
            [
             0.6,
             "#e6f5d0"
            ],
            [
             0.7,
             "#b8e186"
            ],
            [
             0.8,
             "#7fbc41"
            ],
            [
             0.9,
             "#4d9221"
            ],
            [
             1,
             "#276419"
            ]
           ],
           "sequential": [
            [
             0,
             "#0d0887"
            ],
            [
             0.1111111111111111,
             "#46039f"
            ],
            [
             0.2222222222222222,
             "#7201a8"
            ],
            [
             0.3333333333333333,
             "#9c179e"
            ],
            [
             0.4444444444444444,
             "#bd3786"
            ],
            [
             0.5555555555555556,
             "#d8576b"
            ],
            [
             0.6666666666666666,
             "#ed7953"
            ],
            [
             0.7777777777777778,
             "#fb9f3a"
            ],
            [
             0.8888888888888888,
             "#fdca26"
            ],
            [
             1,
             "#f0f921"
            ]
           ],
           "sequentialminus": [
            [
             0,
             "#0d0887"
            ],
            [
             0.1111111111111111,
             "#46039f"
            ],
            [
             0.2222222222222222,
             "#7201a8"
            ],
            [
             0.3333333333333333,
             "#9c179e"
            ],
            [
             0.4444444444444444,
             "#bd3786"
            ],
            [
             0.5555555555555556,
             "#d8576b"
            ],
            [
             0.6666666666666666,
             "#ed7953"
            ],
            [
             0.7777777777777778,
             "#fb9f3a"
            ],
            [
             0.8888888888888888,
             "#fdca26"
            ],
            [
             1,
             "#f0f921"
            ]
           ]
          },
          "colorway": [
           "#636efa",
           "#EF553B",
           "#00cc96",
           "#ab63fa",
           "#FFA15A",
           "#19d3f3",
           "#FF6692",
           "#B6E880",
           "#FF97FF",
           "#FECB52"
          ],
          "font": {
           "color": "#2a3f5f"
          },
          "geo": {
           "bgcolor": "white",
           "lakecolor": "white",
           "landcolor": "#E5ECF6",
           "showlakes": true,
           "showland": true,
           "subunitcolor": "white"
          },
          "hoverlabel": {
           "align": "left"
          },
          "hovermode": "closest",
          "mapbox": {
           "style": "light"
          },
          "paper_bgcolor": "white",
          "plot_bgcolor": "#E5ECF6",
          "polar": {
           "angularaxis": {
            "gridcolor": "white",
            "linecolor": "white",
            "ticks": ""
           },
           "bgcolor": "#E5ECF6",
           "radialaxis": {
            "gridcolor": "white",
            "linecolor": "white",
            "ticks": ""
           }
          },
          "scene": {
           "xaxis": {
            "backgroundcolor": "#E5ECF6",
            "gridcolor": "white",
            "gridwidth": 2,
            "linecolor": "white",
            "showbackground": true,
            "ticks": "",
            "zerolinecolor": "white"
           },
           "yaxis": {
            "backgroundcolor": "#E5ECF6",
            "gridcolor": "white",
            "gridwidth": 2,
            "linecolor": "white",
            "showbackground": true,
            "ticks": "",
            "zerolinecolor": "white"
           },
           "zaxis": {
            "backgroundcolor": "#E5ECF6",
            "gridcolor": "white",
            "gridwidth": 2,
            "linecolor": "white",
            "showbackground": true,
            "ticks": "",
            "zerolinecolor": "white"
           }
          },
          "shapedefaults": {
           "line": {
            "color": "#2a3f5f"
           }
          },
          "ternary": {
           "aaxis": {
            "gridcolor": "white",
            "linecolor": "white",
            "ticks": ""
           },
           "baxis": {
            "gridcolor": "white",
            "linecolor": "white",
            "ticks": ""
           },
           "bgcolor": "#E5ECF6",
           "caxis": {
            "gridcolor": "white",
            "linecolor": "white",
            "ticks": ""
           }
          },
          "title": {
           "x": 0.05
          },
          "xaxis": {
           "automargin": true,
           "gridcolor": "white",
           "linecolor": "white",
           "ticks": "",
           "title": {
            "standoff": 15
           },
           "zerolinecolor": "white",
           "zerolinewidth": 2
          },
          "yaxis": {
           "automargin": true,
           "gridcolor": "white",
           "linecolor": "white",
           "ticks": "",
           "title": {
            "standoff": 15
           },
           "zerolinecolor": "white",
           "zerolinewidth": 2
          }
         }
        },
        "xaxis": {
         "anchor": "y",
         "domain": [
          0,
          1
         ],
         "title": {
          "text": "vote_average"
         }
        },
        "yaxis": {
         "anchor": "x",
         "domain": [
          0,
          1
         ],
         "title": {
          "text": "count"
         }
        }
       }
      },
      "text/html": [
       "<div>\n",
       "        \n",
       "        \n",
       "            <div id=\"521540a3-4894-486e-8e17-688cb1def9b8\" class=\"plotly-graph-div\" style=\"height:525px; width:100%;\"></div>\n",
       "            <script type=\"text/javascript\">\n",
       "                require([\"plotly\"], function(Plotly) {\n",
       "                    window.PLOTLYENV=window.PLOTLYENV || {};\n",
       "                    \n",
       "                if (document.getElementById(\"521540a3-4894-486e-8e17-688cb1def9b8\")) {\n",
       "                    Plotly.newPlot(\n",
       "                        '521540a3-4894-486e-8e17-688cb1def9b8',\n",
       "                        [{\"alignmentgroup\": \"True\", \"bingroup\": \"x\", \"hovertemplate\": \"vote_average=%{x}<br>count=%{y}<extra></extra>\", \"legendgroup\": \"\", \"marker\": {\"color\": \"#636efa\"}, \"name\": \"\", \"nbinsx\": 40, \"offsetgroup\": \"\", \"orientation\": \"v\", \"showlegend\": false, \"type\": \"histogram\", \"x\": [7.2, 6.9, 6.3, 7.6, 6.1, 5.9, 7.4, 7.3, 7.4, 5.7, 5.4, 6.1, 7.0, 5.9, 6.5, 6.3, 7.4, 6.4, 6.2, 7.1, 6.5, 6.2, 7.6, 5.8, 6.6, 7.5, 7.1, 5.5, 6.5, 6.9, 6.7, 6.8, 6.4, 6.3, 7.0, 6.0, 5.8, 5.7, 6.5, 6.3, 5.8, 5.1, 7.6, 5.9, 7.3, 6.7, 7.5, 7.4, 5.5, 7.3, 6.2, 6.7, 6.1, 5.7, 6.6, 6.7, 6.6, 7.8, 6.1, 5.6, 6.6, 5.2, 5.5, 6.7, 6.4, 8.2, 7.7, 6.0, 7.4, 7.0, 5.1, 5.2, 5.9, 5.3, 7.6, 5.9, 5.6, 8.0, 6.7, 6.6, 5.8, 7.0, 7.3, 4.8, 5.9, 7.6, 6.0, 6.2, 7.8, 7.1, 6.4, 4.9, 7.5, 5.9, 7.9, 8.1, 8.1, 6.5, 7.0, 6.6, 7.3, 7.1, 6.6, 5.8, 5.5, 6.5, 6.0, 6.3, 5.8, 6.2, 6.6, 6.6, 5.6, 7.4, 7.5, 6.2, 6.9, 6.7, 7.5, 7.5, 6.2, 5.9, 6.2, 6.4, 7.3, 6.7, 6.8, 7.2, 6.5, 6.6, 6.3, 5.1, 5.5, 5.7, 7.1, 5.5, 5.7, 6.7, 4.7, 6.5, 6.4, 5.5, 6.0, 5.9, 6.7, 6.9, 6.4, 5.8, 5.3, 6.4, 6.0, 5.5, 6.7, 6.8, 7.1, 5.9, 7.3, 5.6, 7.4, 6.8, 7.6, 5.3, 4.9, 7.0, 6.3, 5.3, 5.4, 5.7, 5.9, 6.6, 6.0, 6.9, 6.1, 5.8, 6.1, 6.0, 7.3, 6.1, 6.6, 6.5, 7.3, 6.9, 7.0, 7.4, 6.8, 6.2, 6.3, 6.4, 6.2, 5.6, 6.7, 7.7, 6.3, 5.0, 6.2, 6.1, 6.7, 7.5, 5.4, 7.5, 6.6, 6.5, 6.3, 6.8, 7.1, 7.0, 5.6, 7.1, 6.4, 6.0, 4.2, 6.2, 6.2, 5.9, 6.2, 5.4, 7.2, 5.2, 5.9, 5.2, 6.3, 5.4, 6.4, 6.3, 5.7, 5.7, 4.9, 5.9, 6.4, 7.1, 6.4, 7.5, 6.3, 6.3, 6.8, 5.0, 5.8, 6.0, 5.8, 7.3, 5.7, 5.8, 4.4, 6.3, 6.0, 6.0, 6.8, 6.4, 6.5, 6.2, 7.0, 4.9, 5.5, 6.1, 5.5, 5.7, 5.9, 6.6, 5.5, 4.1, 6.6, 6.4, 8.0, 5.7, 6.7, 4.9, 6.7, 6.6, 5.8, 6.7, 7.6, 6.5, 3.7, 6.1, 7.9, 7.1, 7.4, 7.3, 5.6, 7.7, 6.5, 7.4, 6.8, 6.2, 5.4, 6.1, 5.6, 7.8, 6.8, 7.2, 6.1, 6.4, 4.9, 6.4, 6.4, 6.0, 5.5, 7.3, 7.9, 5.2, 6.7, 6.6, 6.5, 4.2, 5.6, 7.2, 5.3, 6.1, 5.5, 3.6, 6.5, 4.4, 6.4, 6.5, 7.1, 6.0, 7.1, 7.1, 5.9, 5.4, 7.2, 5.6, 7.3, 5.4, 7.0, 6.2, 6.7, 6.6, 7.6, 8.1, 8.0, 5.2, 5.7, 5.9, 5.7, 7.0, 6.3, 5.2, 5.8, 7.4, 5.7, 6.0, 6.9, 7.3, 6.3, 6.4, 6.3, 6.5, 6.5, 7.0, 5.6, 7.9, 7.6, 6.5, 7.2, 6.9, 7.0, 5.3, 6.7, 5.8, 6.7, 5.5, 5.6, 6.8, 5.2, 7.2, 5.6, 6.2, 5.9, 5.5, 6.7, 5.9, 6.8, 5.7, 6.5, 6.9, 5.2, 5.9, 6.1, 6.6, 7.3, 5.4, 6.7, 6.1, 7.5, 5.9, 7.2, 6.2, 7.2, 5.6, 6.8, 6.6, 6.3, 5.1, 5.8, 6.7, 6.7, 6.2, 6.5, 6.1, 6.9, 7.2, 6.4, 6.1, 7.3, 6.1, 6.7, 6.9, 5.5, 7.3, 5.5, 7.2, 5.4, 4.7, 5.4, 6.6, 6.0, 6.7, 4.9, 5.9, 6.5, 7.3, 5.7, 6.4, 6.0, 6.7, 6.9, 6.2, 6.6, 6.3, 7.1, 5.8, 5.9, 6.4, 6.2, 5.4, 5.8, 6.0, 6.3, 7.8, 5.3, 6.0, 6.8, 5.9, 7.3, 6.3, 6.5, 6.3, 6.7, 6.6, 5.3, 5.2, 6.5, 5.6, 5.2, 6.5, 7.4, 5.6, 5.2, 7.4, 5.3, 5.0, 6.2, 8.0, 6.7, 7.0, 5.8, 5.9, 6.1, 5.9, 6.8, 5.2, 5.6, 6.1, 6.4, 6.7, 5.9, 6.9, 5.8, 5.2, 3.0, 5.6, 5.1, 5.4, 6.1, 5.2, 5.7, 5.4, 6.0, 7.3, 4.8, 5.2, 5.3, 7.7, 8.0, 5.8, 6.4, 6.7, 6.5, 4.1, 6.2, 7.6, 5.7, 3.9, 5.9, 5.7, 7.0, 6.7, 6.2, 6.6, 7.4, 6.8, 6.4, 6.9, 6.5, 6.6, 6.5, 4.7, 4.3, 7.3, 6.0, 7.0, 5.7, 5.9, 6.5, 5.8, 6.6, 5.4, 6.9, 6.4, 5.7, 7.1, 5.8, 6.3, 6.2, 5.9, 6.4, 5.7, 6.2, 6.3, 5.0, 6.1, 5.8, 4.3, 5.7, 6.9, 6.4, 5.9, 5.8, 5.8, 5.9, 5.4, 5.7, 6.5, 6.2, 4.9, 7.7, 6.6, 6.9, 6.6, 4.5, 6.9, 6.2, 5.4, 6.4, 6.7, 6.6, 5.7, 5.8, 5.8, 6.4, 7.9, 6.6, 6.6, 5.8, 6.5, 5.3, 5.5, 5.4, 6.7, 6.2, 6.3, 5.5, 7.6, 6.0, 7.0, 5.8, 7.1, 5.8, 6.2, 6.0, 7.1, 7.0, 5.2, 5.4, 5.0, 5.2, 6.1, 6.0, 5.9, 6.1, 3.4, 4.3, 5.5, 5.9, 5.9, 5.1, 5.7, 4.6, 6.7, 4.4, 5.9, 5.8, 6.7, 7.1, 5.4, 6.2, 6.9, 5.7, 5.4, 7.3, 6.3, 6.5, 5.5, 5.5, 6.0, 6.6, 5.0, 7.9, 6.1, 6.1, 7.1, 5.3, 6.7, 7.9, 7.3, 5.5, 7.1, 6.3, 6.5, 6.3, 6.2, 7.3, 6.3, 6.1, 5.7, 6.0, 5.9, 6.5, 5.9, 7.1, 6.0, 6.7, 5.9, 5.7, 6.4, 6.1, 5.6, 6.0, 6.5, 6.0, 6.1, 8.3, 6.7, 5.4, 4.9, 5.0, 6.7, 4.8, 6.3, 5.3, 6.7, 7.1, 5.9, 6.1, 7.6, 6.5, 6.4, 5.9, 5.3, 6.1, 6.5, 4.3, 5.8, 7.6, 5.9, 5.5, 7.0, 6.1, 6.9, 8.2, 5.6, 5.6, 7.9, 7.3, 6.6, 6.1, 7.8, 6.8, 5.6, 6.6, 5.0, 6.6, 5.9, 6.0, 5.3, 5.9, 5.7, 6.4, 5.8, 6.5, 6.6, 6.8, 6.7, 7.0, 5.3, 6.2, 6.3, 5.6, 6.7, 6.2, 4.3, 7.3, 4.9, 7.3, 4.5, 5.6, 5.5, 6.5, 6.1, 6.7, 6.1, 5.9, 5.9, 5.8, 5.3, 5.6, 5.9, 6.4, 5.8, 5.9, 6.9, 6.6, 6.3, 7.5, 5.3, 6.0, 6.2, 4.6, 7.0, 6.7, 5.7, 5.1, 5.8, 5.6, 6.1, 5.8, 6.6, 6.2, 5.8, 5.7, 5.9, 6.0, 6.6, 6.3, 7.4, 5.1, 4.7, 5.4, 6.6, 6.5, 6.1, 5.7, 6.3, 7.0, 4.9, 6.0, 6.2, 5.0, 5.3, 5.7, 6.0, 4.7, 5.4, 4.1, 6.7, 6.0, 6.8, 7.4, 4.9, 7.4, 6.2, 6.5, 4.4, 5.7, 5.7, 4.9, 5.1, 6.1, 5.8, 5.9, 7.2, 5.5, 6.4, 6.0, 4.7, 5.5, 5.8, 6.0, 8.2, 5.5, 6.6, 6.7, 6.9, 5.4, 6.4, 5.4, 6.0, 7.6, 5.9, 6.0, 7.1, 5.6, 7.0, 7.7, 6.1, 5.9, 6.4, 7.7, 6.0, 7.6, 6.1, 6.3, 6.2, 5.8, 5.7, 6.3, 5.7, 6.2, 5.9, 6.7, 6.4, 7.0, 5.3, 6.0, 6.2, 5.1, 5.4, 6.4, 7.3, 5.3, 5.7, 7.0, 6.6, 5.4, 6.1, 5.2, 5.7, 6.2, 4.2, 6.9, 7.1, 7.3, 5.3, 6.2, 7.5, 5.2, 7.1, 6.1, 5.4, 6.5, 3.5, 5.7, 5.5, 7.4, 7.4, 5.4, 6.3, 6.7, 7.2, 6.8, 5.9, 5.4, 7.7, 6.7, 5.6, 6.4, 5.7, 5.1, 7.2, 5.9, 6.9, 7.8, 6.1, 5.1, 6.1, 5.3, 5.1, 5.6, 7.3, 6.5, 6.6, 6.7, 6.3, 7.2, 7.0, 6.0, 5.6, 6.6, 7.1, 6.3, 7.0, 7.2, 6.4, 6.2, 6.9, 5.8, 5.6, 7.3, 6.7, 5.0, 6.5, 5.9, 5.5, 5.4, 7.0, 5.2, 5.2, 7.0, 6.3, 6.8, 5.5, 7.7, 6.0, 6.2, 5.1, 6.0, 5.7, 6.3, 5.9, 6.3, 7.0, 7.3, 5.6, 6.4, 6.0, 7.5, 6.3, 6.1, 6.1, 6.8, 5.8, 5.5, 6.2, 7.2, 5.8, 6.1, 6.1, 6.1, 4.5, 4.4, 6.3, 5.9, 6.2, 6.3, 4.4, 5.0, 5.8, 6.0, 6.0, 6.0, 5.9, 6.0, 6.2, 6.1, 6.0, 5.6, 7.6, 7.1, 6.6, 7.3, 5.4, 6.3, 7.2, 5.8, 6.2, 5.2, 5.8, 5.9, 5.8, 5.5, 6.5, 6.0, 5.2, 5.6, 5.6, 5.9, 4.7, 5.0, 5.4, 5.3, 3.9, 5.7, 6.2, 7.2, 6.9, 7.6, 6.5, 6.6, 6.5, 6.5, 4.3, 6.6, 6.1, 6.0, 7.1, 6.0, 5.6, 6.6, 6.9, 6.1, 6.5, 5.7, 6.6, 5.9, 6.6, 6.5, 7.2, 7.7, 4.6, 5.7, 6.3, 5.5, 6.8, 7.0, 4.4, 6.2, 6.4, 6.6, 6.5, 5.0, 6.1, 5.8, 6.1, 5.8, 6.0, 6.3, 6.4, 7.0, 6.3, 5.6, 7.9, 7.3, 6.9, 5.4, 6.5, 6.5, 7.3, 5.9, 4.7, 5.8, 7.0, 6.8, 6.6, 5.5, 5.9, 6.2, 5.6, 6.6, 4.3, 6.1, 6.6, 6.4, 6.1, 5.9, 6.2, 6.1, 6.0, 5.5, 6.5, 7.1, 6.7, 6.2, 5.4, 4.7, 5.5, 5.3, 6.5, 6.1, 4.7, 5.8, 7.1, 6.7, 6.0, 6.3, 6.6, 5.0, 6.3, 6.4, 4.0, 6.0, 2.3, 7.1, 7.2, 5.5, 7.3, 6.3, 5.5, 6.9, 6.4, 6.4, 5.6, 7.0, 6.0, 6.6, 5.3, 6.6, 6.8, 6.3, 6.7, 7.0, 6.5, 5.8, 5.4, 6.5, 6.7, 6.0, 6.1, 6.5, 6.1, 5.4, 5.9, 5.6, 5.7, 4.0, 7.0, 7.2, 5.3, 6.1, 6.3, 6.8, 6.8, 5.3, 6.6, 5.3, 7.7, 6.2, 5.6, 6.9, 6.8, 6.7, 6.2, 7.4, 6.3, 5.2, 4.7, 7.0, 6.0, 7.4, 6.7, 7.0, 7.1, 6.2, 5.3, 5.7, 7.1, 5.9, 7.1, 6.6, 6.8, 7.0, 5.4, 6.7, 7.1, 6.1, 7.1, 7.2, 7.2, 6.2, 6.5, 5.7, 7.5, 5.4, 5.8, 6.1, 6.2, 5.4, 7.2, 6.0, 5.9, 5.9, 6.2, 5.0, 7.3, 7.0, 6.5, 8.0, 6.1, 5.7, 7.3, 6.2, 6.0, 5.8, 6.4, 6.5, 6.4, 6.5, 6.0, 6.8, 6.7, 5.8, 6.8, 5.8, 4.9, 5.4, 5.7, 6.2, 6.5, 5.4, 6.1, 6.1, 6.7, 5.3, 5.0, 5.9, 5.3, 7.0, 5.9, 5.5, 5.8, 5.4, 6.9, 6.1, 6.3, 5.6, 6.7, 4.9, 5.0, 4.6, 5.2, 6.4, 6.4, 5.4, 7.2, 5.9, 6.5, 6.9, 5.7, 5.9, 4.7, 6.0, 4.9, 6.5, 5.7, 4.8, 7.0, 4.2, 7.5, 5.7, 5.7, 7.8, 5.5, 5.6, 6.6, 5.9, 3.2, 5.5, 5.9, 6.3, 5.2, 4.2, 6.5, 6.1, 5.0, 4.8, 7.0, 6.0, 5.4, 5.5, 5.1, 6.6, 6.2, 6.6, 7.1, 6.3, 4.3, 6.7, 6.5, 5.9, 7.3, 7.5, 6.7, 5.8, 6.6, 7.4, 4.5, 5.3, 6.0, 7.1, 6.0, 6.4, 5.5, 5.3, 6.4, 6.3, 6.7, 6.8, 7.2, 6.2, 5.7, 5.0, 5.6, 5.5, 6.3, 5.7, 6.0, 6.9, 6.3, 7.8, 6.2, 5.8, 5.4, 6.2, 7.0, 4.3, 7.1, 5.6, 7.3, 7.0, 5.8, 6.5, 5.6, 7.7, 7.5, 5.3, 5.9, 6.7, 5.8, 7.0, 6.1, 6.8, 5.3, 6.6, 5.8, 6.0, 6.7, 5.4, 5.8, 5.2, 6.2, 6.3, 5.8, 7.5, 4.6, 5.2, 5.3, 7.2, 6.5, 6.2, 7.0, 5.9, 6.4, 7.2, 5.5, 6.5, 7.2, 7.0, 6.2, 5.6, 7.0, 6.5, 5.9, 5.5, 7.0, 7.7, 5.8, 6.3, 5.5, 7.2, 6.0, 6.3, 6.8, 6.0, 6.8, 6.5, 5.6, 7.3, 7.2, 5.6, 5.2, 6.2, 5.2, 5.2, 5.8, 7.4, 6.4, 7.0, 6.0, 5.2, 6.7, 5.7, 5.9, 5.1, 6.9, 4.1, 8.0, 6.4, 5.5, 6.7, 6.0, 6.0, 5.4, 5.9, 5.9, 6.3, 6.1, 5.8, 5.1, 6.3, 5.6, 6.0, 6.1, 5.5, 5.9, 7.0, 5.6, 5.2, 6.9, 4.9, 5.7, 5.1, 6.2, 5.4, 6.5, 5.7, 6.0, 4.6, 5.3, 5.8, 6.0, 5.7, 6.6, 6.4, 5.7, 7.0, 5.3, 6.5, 4.7, 5.5, 4.8, 5.6, 4.9, 6.9, 4.7, 6.5, 6.6, 7.7, 6.6, 6.2, 7.4, 6.7, 6.6, 7.0, 5.8, 0.0, 7.0, 5.0, 7.0, 6.8, 5.3, 5.1, 7.5, 7.3, 5.4, 5.3, 5.4, 6.5, 7.1, 7.1, 5.3, 5.6, 6.3, 4.8, 6.7, 5.1, 4.9, 6.1, 6.6, 6.3, 5.7, 7.9, 5.8, 7.2, 5.3, 6.4, 6.2, 5.3, 6.7, 5.6, 6.5, 6.3, 6.0, 7.0, 6.0, 5.7, 5.3, 7.1, 6.7, 6.3, 6.7, 5.6, 6.3, 6.9, 6.2, 6.3, 5.6, 6.6, 6.2, 4.0, 5.4, 5.3, 7.1, 7.2, 5.9, 5.0, 8.0, 6.0, 6.9, 5.7, 7.0, 6.5, 5.9, 8.0, 6.4, 6.2, 7.0, 6.2, 6.4, 6.9, 6.1, 6.0, 7.7, 6.8, 7.0, 6.0, 7.4, 7.2, 7.2, 6.2, 6.7, 6.1, 6.5, 6.5, 8.1, 7.3, 6.7, 7.6, 7.7, 6.4, 7.7, 6.1, 6.0, 6.0, 5.9, 7.2, 6.7, 6.7, 6.4, 6.6, 4.9, 6.0, 5.8, 6.4, 6.7, 5.8, 5.8, 5.9, 5.3, 6.3, 7.4, 5.5, 7.4, 5.8, 5.6, 5.7, 6.3, 6.0, 6.8, 6.9, 5.1, 7.4, 6.6, 6.2, 4.9, 7.2, 7.2, 7.2, 7.3, 6.2, 7.4, 6.9, 6.6, 5.6, 7.1, 6.2, 6.5, 3.7, 7.2, 6.4, 6.6, 6.5, 3.8, 5.7, 5.8, 6.6, 6.5, 5.1, 6.6, 6.4, 5.9, 6.8, 4.1, 6.3, 6.4, 6.2, 5.4, 4.8, 5.9, 5.8, 5.2, 5.7, 5.0, 6.9, 4.8, 6.0, 6.0, 5.2, 5.4, 6.6, 5.7, 6.8, 5.5, 5.5, 5.1, 6.3, 5.1, 5.0, 6.7, 6.0, 6.4, 4.0, 5.4, 2.9, 5.7, 4.7, 6.1, 4.8, 6.7, 6.3, 7.2, 5.5, 5.8, 7.4, 8.2, 5.9, 6.7, 6.0, 5.4, 6.3, 5.0, 5.0, 7.0, 5.0, 5.9, 5.4, 6.4, 5.5, 7.0, 3.0, 5.8, 6.4, 6.6, 5.6, 6.8, 7.3, 5.9, 5.8, 7.2, 6.6, 5.0, 5.5, 6.9, 6.3, 4.9, 6.8, 7.4, 7.7, 7.1, 5.7, 6.1, 6.6, 6.2, 7.5, 6.4, 7.3, 6.2, 7.0, 6.8, 5.5, 6.5, 7.4, 7.1, 6.4, 6.3, 6.6, 5.5, 6.1, 6.9, 6.4, 6.1, 7.1, 5.6, 4.6, 6.1, 7.7, 7.9, 6.5, 6.0, 6.5, 4.5, 7.0, 5.8, 6.0, 5.5, 5.5, 4.8, 5.8, 5.5, 6.8, 6.2, 6.3, 5.6, 5.7, 6.2, 6.2, 7.1, 5.7, 6.9, 6.9, 6.2, 6.7, 5.6, 6.2, 7.5, 6.0, 6.7, 6.6, 5.5, 7.4, 7.3, 6.3, 7.0, 7.2, 6.7, 6.7, 5.9, 6.1, 5.5, 6.8, 4.4, 6.5, 5.9, 5.9, 6.3, 5.2, 5.9, 6.9, 5.2, 6.0, 6.2, 6.8, 6.2, 5.8, 6.6, 6.8, 7.0, 6.3, 6.9, 6.2, 5.9, 7.3, 5.2, 6.1, 5.9, 4.9, 7.1, 6.8, 5.2, 5.7, 5.8, 6.1, 4.8, 4.5, 5.5, 6.0, 6.5, 3.9, 5.3, 6.3, 6.8, 6.9, 7.0, 7.6, 7.8, 6.1, 7.2, 7.2, 6.1, 8.3, 7.8, 5.7, 5.4, 4.9, 5.8, 4.7, 5.6, 6.4, 5.8, 7.6, 7.7, 6.1, 6.5, 6.8, 5.1, 5.7, 6.1, 7.4, 6.0, 7.2, 5.8, 6.8, 7.0, 7.2, 7.0, 6.4, 6.1, 6.7, 8.2, 5.0, 6.4, 8.0, 6.3, 7.4, 6.1, 5.9, 7.9, 5.8, 5.6, 5.5, 6.3, 6.4, 5.6, 5.4, 6.6, 6.4, 5.8, 5.5, 5.5, 5.8, 7.0, 6.4, 6.1, 4.9, 6.0, 7.1, 7.1, 5.5, 6.9, 4.7, 5.4, 4.7, 8.5, 4.7, 6.7, 5.7, 6.9, 5.9, 6.5, 7.2, 6.7, 6.2, 6.6, 6.2, 5.4, 6.0, 6.9, 6.5, 4.6, 5.4, 4.7, 5.0, 6.9, 5.4, 5.6, 4.3, 5.2, 6.3, 5.2, 4.4, 6.7, 6.3, 4.9, 7.0, 6.5, 6.2, 6.2, 7.0, 6.0, 7.1, 5.6, 7.7, 6.7, 6.6, 6.1, 4.6, 6.2, 5.8, 5.3, 5.5, 6.4, 5.7, 6.8, 5.0, 5.5, 4.8, 7.3, 5.5, 5.1, 6.4, 3.5, 7.0, 5.9, 6.1, 6.2, 6.6, 7.7, 6.0, 5.6, 7.1, 6.0, 3.8, 6.3, 5.0, 6.2, 7.0, 6.5, 4.1, 7.0, 5.5, 6.9, 6.5, 6.1, 5.4, 6.4, 6.2, 6.4, 6.6, 7.2, 5.1, 6.1, 6.1, 5.9, 5.9, 5.5, 7.6, 5.5, 5.8, 5.9, 4.7, 5.7, 5.0, 5.3, 6.5, 4.1, 6.8, 5.4, 6.1, 8.2, 7.2, 5.9, 8.2, 6.5, 6.6, 6.4, 6.5, 6.7, 6.0, 7.9, 6.3, 5.1, 5.9, 6.4, 5.6, 3.5, 6.6, 6.5, 6.6, 6.1, 6.6, 6.6, 5.8, 5.9, 5.5, 6.5, 6.5, 6.7, 6.8, 6.9, 6.5, 6.3, 6.5, 6.0, 7.3, 4.6, 7.4, 7.3, 5.6, 7.2, 5.9, 6.6, 6.1, 6.0, 6.8, 4.7, 6.2, 6.0, 5.4, 6.0, 6.3, 6.4, 5.4, 5.7, 5.3, 6.4, 6.1, 6.2, 4.2, 3.6, 4.9, 3.8, 5.2, 5.9, 7.2, 7.2, 5.5, 5.9, 6.2, 7.4, 5.2, 6.7, 6.5, 6.5, 6.3, 7.0, 6.0, 5.6, 5.5, 7.1, 6.9, 5.1, 6.3, 6.9, 7.5, 7.0, 6.6, 6.4, 5.1, 6.7, 5.8, 6.5, 6.6, 5.5, 6.3, 5.9, 6.7, 7.7, 6.3, 7.2, 5.0, 6.1, 5.4, 8.1, 6.5, 6.4, 5.9, 4.9, 7.4, 5.2, 5.0, 6.7, 5.4, 6.3, 6.7, 6.7, 6.9, 7.9, 6.2, 6.1, 7.5, 7.6, 5.9, 7.4, 6.3, 3.6, 6.1, 7.4, 5.6, 4.6, 5.8, 6.3, 6.7, 6.8, 3.2, 7.8, 5.9, 5.2, 6.0, 5.9, 5.8, 6.1, 5.8, 7.0, 4.2, 6.9, 6.5, 7.0, 6.6, 5.3, 6.4, 4.6, 6.2, 7.1, 5.7, 5.3, 6.0, 6.3, 5.4, 6.3, 7.0, 4.7, 5.8, 6.6, 7.9, 6.0, 6.3, 6.7, 5.8, 6.0, 5.9, 6.0, 5.3, 6.5, 5.3, 5.2, 6.3, 5.1, 6.7, 7.1, 6.3, 5.8, 8.2, 5.4, 6.7, 5.6, 4.9, 6.8, 6.5, 7.1, 7.8, 5.6, 5.0, 6.9, 6.4, 6.3, 7.2, 4.3, 7.3, 7.2, 5.8, 5.3, 5.0, 7.0, 6.5, 6.2, 3.0, 5.5, 6.5, 6.2, 5.8, 4.8, 5.9, 7.0, 6.1, 6.4, 6.0, 6.1, 6.4, 5.7, 6.7, 4.5, 6.2, 6.4, 5.6, 7.3, 5.4, 6.3, 5.6, 6.5, 6.5, 6.5, 1.9, 5.4, 4.7, 6.4, 6.5, 6.5, 3.2, 5.9, 4.1, 5.3, 5.8, 4.7, 6.7, 7.0, 6.2, 6.8, 7.0, 3.1, 5.4, 5.9, 6.5, 6.3, 6.3, 6.6, 4.8, 6.8, 7.4, 8.2, 5.7, 4.9, 7.1, 6.8, 3.3, 6.9, 6.5, 6.0, 2.2, 5.4, 6.4, 5.8, 5.9, 6.2, 6.1, 5.8, 4.5, 5.5, 6.0, 5.3, 6.6, 6.3, 5.3, 5.0, 0.5, 6.1, 5.4, 6.1, 7.1, 7.1, 7.6, 5.4, 6.7, 6.1, 7.0, 5.4, 8.1, 8.0, 5.5, 6.0, 3.9, 5.9, 5.3, 6.5, 4.6, 6.2, 8.3, 5.9, 6.5, 7.4, 6.0, 6.4, 6.0, 6.2, 5.8, 5.6, 6.1, 6.8, 6.0, 7.3, 6.0, 5.8, 7.2, 6.0, 6.2, 6.6, 6.9, 6.5, 6.1, 6.4, 6.3, 5.5, 3.7, 6.2, 5.6, 6.5, 6.5, 5.5, 6.3, 7.3, 7.8, 4.8, 6.9, 6.4, 6.8, 5.9, 7.4, 7.0, 6.9, 6.0, 4.9, 6.4, 6.9, 6.7, 5.6, 5.8, 7.7, 5.6, 6.7, 5.5, 7.0, 6.4, 6.8, 5.4, 4.9, 7.2, 6.8, 5.1, 5.9, 3.7, 6.2, 7.3, 4.9, 6.9, 5.7, 5.6, 6.4, 5.8, 6.5, 6.7, 7.3, 6.7, 6.5, 6.9, 3.5, 7.3, 6.8, 6.2, 6.2, 6.7, 7.2, 5.3, 5.9, 7.0, 6.7, 4.4, 6.7, 5.6, 9.3, 6.9, 4.5, 6.7, 5.0, 6.0, 7.0, 6.4, 5.7, 6.5, 5.9, 7.5, 5.9, 5.8, 4.6, 5.4, 7.4, 7.7, 7.4, 5.6, 6.4, 6.9, 5.8, 7.4, 4.7, 6.7, 6.4, 5.8, 5.2, 5.9, 6.0, 6.1, 5.1, 7.4, 5.6, 6.0, 7.3, 4.8, 6.9, 4.6, 3.3, 6.3, 6.2, 6.3, 6.4, 5.6, 4.9, 4.1, 3.0, 7.0, 5.5, 2.9, 7.1, 5.6, 6.8, 6.1, 5.2, 6.5, 5.0, 4.5, 7.0, 5.8, 7.0, 7.2, 6.9, 6.0, 7.0, 8.1, 6.5, 7.3, 7.4, 5.9, 6.0, 7.3, 4.8, 7.6, 5.9, 6.4, 3.7, 7.6, 4.8, 7.4, 5.3, 5.5, 5.3, 7.4, 4.6, 6.7, 6.4, 5.4, 7.2, 5.3, 5.4, 7.0, 6.9, 5.7, 5.3, 7.6, 6.8, 4.6, 5.1, 5.5, 6.4, 6.7, 6.8, 6.7, 4.3, 6.2, 6.9, 6.5, 4.7, 6.8, 6.3, 7.2, 4.8, 7.7, 6.7, 6.4, 4.2, 5.7, 5.3, 5.5, 6.2, 6.3, 6.8, 7.1, 5.8, 6.9, 6.7, 7.2, 7.9, 7.6, 5.7, 6.4, 7.7, 6.5, 8.0, 6.0, 7.2, 5.9, 6.0, 7.1, 6.0, 6.8, 7.1, 6.1, 7.0, 6.1, 5.4, 5.6, 7.8, 6.7, 5.7, 5.8, 5.9, 6.2, 6.9, 6.6, 5.5, 7.2, 5.8, 7.8, 4.7, 6.9, 7.8, 5.1, 7.0, 6.2, 6.2, 4.5, 7.6, 6.9, 7.4, 5.1, 5.6, 6.5, 6.3, 6.1, 7.4, 6.9, 4.7, 4.3, 6.3, 7.3, 6.1, 7.5, 7.5, 5.5, 6.1, 5.2, 4.4, 6.4, 5.0, 6.0, 5.9, 5.5, 6.8, 6.0, 5.3, 7.2, 5.9, 5.8, 6.5, 4.6, 5.9, 6.7, 4.4, 5.1, 7.0, 6.7, 5.9, 6.4, 5.3, 6.3, 6.2, 2.9, 5.2, 4.8, 5.4, 7.5, 6.0, 7.8, 6.6, 6.5, 6.7, 5.0, 4.7, 6.7, 4.7, 5.5, 7.4, 5.6, 5.6, 5.0, 6.0, 6.8, 4.7, 7.0, 6.0, 7.2, 6.1, 7.6, 5.4, 5.8, 6.8, 7.0, 6.5, 4.8, 6.5, 6.3, 5.5, 6.6, 8.0, 6.5, 6.7, 6.6, 6.5, 7.4, 6.0, 5.9, 5.0, 6.0, 5.2, 4.8, 6.1, 5.7, 5.6, 5.8, 5.6, 4.8, 7.3, 6.7, 4.5, 7.4, 6.3, 6.7, 7.2, 5.8, 7.7, 6.9, 7.6, 6.6, 7.0, 5.5, 5.0, 6.7, 6.8, 5.3, 6.1, 6.6, 5.6, 6.2, 6.5, 5.1, 6.2, 6.4, 6.9, 5.8, 4.5, 4.5, 5.3, 4.4, 6.2, 5.7, 5.6, 5.8, 5.5, 6.1, 6.7, 5.0, 4.5, 6.4, 5.3, 5.5, 7.4, 6.9, 5.5, 6.2, 6.4, 4.4, 5.2, 6.3, 5.8, 6.3, 5.8, 7.1, 6.7, 6.3, 6.1, 4.0, 7.4, 7.5, 6.9, 6.9, 5.0, 6.8, 6.7, 6.0, 7.7, 7.2, 6.0, 7.1, 4.7, 4.8, 7.3, 8.3, 6.3, 5.8, 6.7, 5.2, 6.6, 7.1, 6.0, 7.3, 5.7, 5.7, 6.2, 7.3, 4.8, 7.1, 3.3, 6.1, 5.7, 5.8, 5.6, 6.7, 7.6, 7.3, 6.6, 5.7, 6.6, 7.2, 6.2, 5.5, 8.1, 6.5, 6.4, 5.7, 6.6, 5.5, 5.1, 6.1, 5.7, 6.8, 5.9, 5.4, 6.7, 5.9, 4.8, 6.5, 7.7, 4.5, 6.4, 5.6, 4.6, 6.3, 5.8, 6.6, 5.8, 5.3, 6.4, 7.1, 6.7, 6.9, 7.5, 5.9, 7.5, 6.0, 6.0, 5.4, 8.4, 7.1, 7.7, 7.6, 6.2, 7.3, 5.8, 6.3, 6.0, 7.0, 7.4, 6.3, 7.5, 7.5, 6.4, 7.6, 5.6, 6.9, 6.2, 7.3, 6.4, 7.0, 7.0, 6.3, 6.7, 6.5, 7.3, 6.2, 6.6, 6.2, 6.6, 4.7, 6.5, 7.3, 6.6, 5.5, 5.5, 4.7, 6.3, 7.2, 7.3, 6.5, 7.6, 6.9, 6.3, 5.4, 6.5, 7.4, 6.4, 6.6, 5.8, 6.1, 4.3, 7.4, 6.7, 5.4, 5.6, 6.6, 5.3, 5.3, 6.1, 6.1, 6.4, 6.4, 7.9, 4.6, 7.8, 7.1, 6.1, 6.4, 6.9, 4.9, 5.7, 5.9, 6.0, 5.8, 3.0, 5.7, 4.6, 6.6, 6.0, 6.7, 6.8, 6.9, 6.5, 7.3, 6.4, 6.5, 6.9, 6.1, 6.9, 6.5, 6.8, 6.2, 6.1, 6.1, 5.3, 6.8, 6.5, 5.2, 4.8, 6.7, 7.6, 3.0, 6.3, 5.8, 6.9, 4.3, 6.0, 7.7, 4.3, 6.4, 7.5, 5.5, 6.3, 6.9, 8.1, 5.7, 7.4, 7.1, 6.2, 7.2, 6.4, 7.3, 7.3, 3.9, 6.6, 5.6, 6.7, 7.5, 7.3, 6.6, 6.0, 6.5, 7.4, 4.1, 5.9, 6.4, 5.5, 7.2, 7.7, 5.8, 5.7, 6.3, 4.9, 7.0, 7.3, 6.6, 7.3, 5.4, 7.5, 8.2, 6.8, 5.1, 6.6, 7.2, 5.8, 5.1, 5.9, 6.0, 6.2, 5.6, 5.9, 7.3, 5.9, 5.7, 6.1, 6.3, 5.2, 5.6, 7.9, 7.3, 5.8, 6.8, 8.5, 5.2, 5.0, 6.4, 7.0, 7.9, 5.3, 6.1, 6.5, 5.8, 6.1, 5.7, 5.9, 5.6, 6.0, 6.7, 7.2, 6.4, 5.8, 6.5, 6.1, 6.7, 7.0, 6.9, 6.6, 5.9, 6.4, 5.8, 5.8, 6.0, 6.2, 6.4, 5.4, 6.4, 6.8, 5.5, 6.2, 6.3, 6.0, 5.0, 5.3, 6.1, 6.9, 6.2, 6.9, 5.4, 5.8, 5.0, 5.8, 6.4, 5.2, 5.3, 6.1, 7.5, 4.7, 6.3, 6.4, 5.5, 6.3, 6.1, 6.6, 6.0, 6.6, 6.0, 7.0, 5.6, 8.0, 5.4, 5.6, 6.6, 6.2, 8.1, 6.7, 6.1, 5.5, 7.4, 6.4, 6.8, 6.2, 5.3, 6.4, 5.1, 6.8, 4.4, 5.3, 6.3, 5.9, 8.2, 5.9, 5.5, 7.3, 7.7, 5.5, 6.4, 6.2, 3.8, 6.5, 4.1, 6.9, 6.6, 6.1, 6.9, 5.4, 5.7, 6.6, 7.2, 6.4, 6.8, 7.3, 4.4, 6.3, 4.8, 6.0, 5.8, 7.0, 6.4, 5.4, 6.8, 6.4, 5.5, 6.2, 6.5, 6.1, 6.8, 4.9, 6.0, 6.3, 4.8, 5.6, 6.6, 5.5, 6.4, 6.5, 5.3, 5.9, 6.3, 6.4, 6.5, 6.4, 6.0, 6.4, 4.1, 6.0, 5.8, 6.2, 3.0, 4.8, 5.4, 4.7, 5.8, 5.1, 7.0, 3.9, 5.7, 5.4, 6.4, 5.6, 4.3, 6.1, 6.5, 6.4, 6.9, 4.3, 4.0, 6.4, 5.0, 7.1, 4.9, 6.7, 6.4, 6.0, 6.4, 4.3, 6.5, 6.1, 7.5, 4.5, 4.9, 7.0, 7.3, 6.2, 6.2, 6.9, 5.1, 6.0, 7.0, 7.1, 7.3, 7.9, 7.2, 6.3, 7.4, 6.5, 5.7, 7.0, 6.9, 6.8, 6.3, 7.3, 6.6, 4.9, 6.6, 6.7, 6.5, 7.1, 4.8, 5.8, 7.4, 6.8, 6.3, 6.4, 6.5, 6.0, 6.8, 5.7, 6.0, 5.5, 6.1, 6.9, 7.2, 6.8, 5.1, 6.0, 5.8, 7.0, 4.8, 6.1, 6.8, 4.5, 7.0, 5.6, 5.8, 6.3, 5.2, 5.9, 7.3, 7.9, 6.3, 8.0, 5.6, 6.8, 6.8, 6.8, 5.6, 5.7, 6.1, 6.7, 6.8, 6.8, 3.4, 5.6, 6.6, 6.8, 7.7, 6.6, 7.0, 6.6, 7.1, 7.2, 7.0, 6.7, 4.3, 8.3, 7.0, 7.6, 5.1, 7.4, 6.1, 7.5, 7.8, 7.1, 4.8, 7.2, 7.0, 5.7, 7.0, 5.3, 6.1, 5.6, 7.5, 7.2, 6.5, 6.4, 5.8, 6.7, 6.4, 5.2, 7.3, 6.1, 6.5, 5.9, 5.7, 6.6, 6.7, 3.9, 6.6, 5.7, 4.6, 4.9, 5.5, 6.9, 7.0, 7.0, 6.9, 5.7, 6.3, 6.9, 6.6, 6.9, 6.7, 4.3, 7.3, 7.3, 5.9, 5.8, 4.9, 5.9, 7.0, 6.6, 5.2, 6.4, 5.6, 6.9, 6.3, 5.6, 5.1, 7.8, 5.8, 6.1, 4.6, 4.3, 7.0, 7.0, 6.4, 5.4, 5.9, 4.1, 7.0, 6.6, 6.5, 6.6, 7.1, 5.6, 6.8, 5.7, 5.8, 6.8, 4.5, 4.0, 6.1, 5.7, 5.2, 7.0, 6.2, 5.8, 6.2, 6.4, 6.0, 7.7, 5.6, 7.5, 6.4, 6.7, 4.4, 7.0, 5.5, 6.3, 8.4, 6.1, 7.2, 7.1, 6.1, 4.9, 6.4, 6.5, 6.7, 6.0, 6.8, 6.8, 6.8, 6.6, 6.3, 4.9, 6.8, 7.5, 4.4, 6.3, 6.6, 7.2, 6.2, 6.0, 4.0, 6.6, 6.5, 5.8, 7.0, 7.3, 7.0, 5.6, 6.5, 6.8, 3.8, 5.7, 6.7, 7.4, 6.4, 6.1, 6.4, 6.1, 6.2, 7.4, 5.8, 5.0, 4.5, 6.7, 6.2, 7.1, 6.0, 5.7, 2.7, 6.7, 5.8, 6.2, 7.7, 7.1, 5.9, 6.7, 6.0, 6.3, 7.2, 5.8, 5.0, 5.1, 6.5, 7.0, 6.9, 7.4, 6.1, 6.8, 5.8, 6.3, 6.7, 6.1, 5.6, 7.9, 5.8, 5.1, 7.8, 5.6, 5.2, 7.4, 6.8, 6.3, 6.8, 6.2, 7.0, 5.1, 7.0, 4.1, 7.0, 7.0, 7.0, 8.0, 6.5, 6.8, 7.0, 7.1, 6.0, 7.5, 7.3, 7.4, 7.2, 7.3, 6.8, 7.2, 7.5, 6.8, 7.4, 7.4, 7.4, 7.0, 6.6, 6.5, 7.1, 8.1, 5.5, 5.9, 7.3, 6.2, 6.7, 6.9, 6.2, 4.4, 6.3, 6.6, 5.9, 6.5, 5.4, 7.4, 5.2, 6.5, 8.0, 6.6, 6.1, 6.4, 5.5, 6.9, 6.8, 4.8, 7.1, 6.6, 5.4, 6.4, 5.5, 7.4, 6.9, 6.2, 6.6, 6.0, 5.7, 7.6, 6.2, 6.6, 7.2, 4.6, 4.7, 5.7, 6.2, 5.3, 5.9, 6.5, 6.3, 4.7, 8.0, 6.8, 5.4, 5.4, 5.6, 6.3, 5.2, 7.6, 7.1, 7.0, 5.5, 6.8, 4.9, 7.2, 5.5, 6.8, 10.0, 6.2, 6.0, 4.2, 4.7, 6.4, 3.9, 7.9, 6.8, 6.4, 7.3, 5.9, 7.4, 7.1, 6.2, 3.3, 7.5, 5.6, 6.2, 7.6, 4.8, 6.8, 7.1, 5.4, 7.2, 6.2, 5.6, 4.9, 7.3, 7.1, 6.0, 7.3, 5.9, 7.2, 5.4, 6.5, 6.3, 6.8, 6.1, 6.3, 5.9, 4.9, 6.5, 7.5, 5.2, 6.4, 6.7, 5.1, 7.0, 6.8, 5.2, 7.9, 7.9, 5.1, 8.1, 6.3, 6.9, 7.4, 7.1, 4.7, 6.8, 5.4, 6.1, 6.5, 5.9, 7.1, 6.4, 6.1, 5.4, 6.1, 7.5, 6.0, 6.4, 4.8, 6.2, 5.0, 5.0, 7.3, 7.5, 4.3, 6.9, 5.9, 5.8, 6.9, 5.5, 5.0, 6.5, 6.7, 6.0, 5.4, 4.3, 6.3, 6.2, 5.2, 6.2, 6.3, 6.7, 6.6, 4.9, 6.4, 6.7, 6.6, 6.5, 8.1, 6.3, 7.6, 5.2, 5.9, 6.8, 6.5, 6.6, 4.6, 7.0, 5.4, 6.0, 6.0, 7.3, 5.7, 6.6, 6.9, 5.9, 6.7, 5.8, 3.9, 6.8, 5.6, 6.0, 6.6, 6.5, 7.3, 6.2, 6.6, 5.5, 4.7, 6.0, 6.2, 3.8, 4.2, 7.0, 6.3, 5.8, 3.2, 7.0, 7.4, 3.0, 6.1, 5.0, 4.5, 4.1, 6.4, 0.0, 0.0, 4.7, 3.5, 7.0, 7.1, 7.4, 6.3, 5.7, 6.2, 7.1, 6.3, 6.3, 5.5, 5.9, 7.2, 5.6, 4.8, 4.6, 7.0, 1.0, 7.3, 5.6, 5.7, 5.9, 6.5, 5.8, 6.6, 7.0, 6.9, 7.2, 6.9, 7.9, 6.2, 6.8, 7.0, 5.5, 7.7, 6.1, 7.7, 6.6, 6.3, 7.4, 6.2, 6.0, 7.0, 6.6, 7.7, 5.4, 5.3, 8.2, 6.9, 6.7, 7.3, 8.2, 5.5, 5.7, 7.0, 6.5, 7.1, 6.6, 5.9, 6.1, 6.9, 6.3, 6.9, 6.1, 4.6, 7.5, 7.3, 7.8, 6.6, 6.5, 5.2, 7.1, 4.8, 6.9, 4.1, 6.4, 6.5, 7.1, 7.8, 5.8, 4.4, 7.5, 6.4, 5.3, 5.9, 6.7, 6.8, 5.5, 4.8, 7.1, 5.4, 6.3, 6.1, 5.5, 6.5, 6.7, 3.3, 6.7, 7.3, 5.4, 6.2, 6.1, 5.9, 6.6, 8.0, 5.1, 6.5, 5.5, 6.5, 5.2, 6.9, 6.5, 7.0, 6.7, 6.0, 5.8, 8.1, 6.6, 6.0, 4.5, 6.1, 4.2, 7.1, 6.2, 6.7, 6.4, 6.2, 6.2, 5.8, 7.3, 7.1, 5.2, 6.1, 5.7, 4.5, 6.6, 4.1, 5.2, 4.4, 7.5, 7.7, 7.7, 6.5, 6.2, 7.3, 7.0, 6.7, 6.5, 6.6, 6.0, 6.6, 7.4, 6.8, 7.1, 5.3, 7.0, 7.2, 5.9, 6.9, 7.4, 7.4, 6.2, 7.1, 6.3, 5.4, 5.7, 6.8, 7.8, 4.8, 7.6, 5.4, 3.8, 5.4, 6.7, 5.8, 6.7, 5.6, 2.9, 5.2, 2.0, 0.0, 4.6, 7.9, 0.0, 3.3, 5.3, 5.0, 3.6, 6.5, 6.9, 6.7, 6.2, 6.0, 8.3, 8.1, 6.8, 6.8, 6.4, 7.9, 7.4, 6.7, 6.2, 4.1, 8.0, 6.8, 7.5, 7.4, 6.9, 6.9, 6.8, 6.1, 7.0, 7.2, 5.7, 8.0, 7.8, 6.3, 5.7, 7.4, 7.3, 6.9, 5.7, 6.9, 6.0, 6.7, 5.0, 7.6, 6.2, 5.3, 5.9, 5.7, 7.7, 4.7, 6.7, 8.1, 4.2, 6.4, 6.4, 6.6, 7.0, 5.3, 7.3, 7.6, 4.5, 7.3, 3.7, 7.4, 3.8, 6.3, 5.0, 5.8, 6.8, 6.5, 3.1, 5.7, 6.0, 7.4, 5.2, 5.4, 7.6, 6.4, 5.9, 6.6, 7.2, 6.9, 7.4, 6.1, 5.1, 8.0, 6.5, 5.7, 5.2, 6.5, 5.8, 6.9, 5.6, 4.0, 5.3, 3.7, 5.2, 6.7, 6.3, 3.9, 5.8, 5.7, 6.1, 4.9, 3.0, 0.0, 5.4, 5.2, 5.3, 2.9, 5.8, 7.1, 0.0, 4.8, 4.6, 2.8, 6.0, 6.1, 6.3, 7.6, 7.3, 4.9, 6.8, 4.1, 6.6, 6.6, 6.1, 4.3, 6.9, 8.0, 5.3, 7.4, 7.7, 5.4, 7.6, 6.5, 7.0, 9.5, 4.9, 6.0, 7.0, 6.0, 7.2, 5.9, 7.1, 7.1, 5.3, 7.6, 7.0, 7.4, 5.2, 7.8, 7.1, 5.4, 4.6, 6.8, 5.0, 6.3, 7.5, 7.1, 7.1, 7.1, 7.7, 6.9, 6.7, 6.8, 5.2, 6.8, 7.2, 6.8, 7.2, 7.0, 7.0, 7.1, 5.5, 6.1, 6.1, 6.0, 6.6, 5.0, 4.9, 4.8, 7.0, 4.8, 6.3, 4.5, 7.4, 3.1, 7.0, 4.6, 10.0, 6.9, 4.7, 5.6, 6.7, 7.2, 0.0, 5.7, 5.1, 6.2, 6.6, 5.7, 5.8, 5.6, 3.5, 5.4, 5.7, 7.6, 6.7, 7.0, 0.0, 7.1, 4.5, 0.0, 5.1, 4.1, 6.9, 5.3, 7.0, 6.6, 6.6, 8.0, 7.3, 7.2, 7.2, 5.2, 7.9, 6.8, 7.6, 6.5, 7.3, 6.6, 7.1, 7.6, 7.6, 6.7, 6.8, 6.8, 7.6, 4.8, 7.0, 7.7, 6.3, 7.2, 6.3, 5.6, 4.8, 5.9, 6.3, 7.8, 5.0, 7.2, 6.8, 7.6, 6.5, 6.8, 7.1, 5.6, 4.6, 6.3, 6.1, 5.2, 5.8, 0.0, 7.1, 5.9, 6.3, 5.2, 6.7, 5.0, 5.6, 5.5, 6.4, 5.9, 6.1, 6.3, 6.0, 6.7, 5.4, 5.3, 6.8, 6.9, 6.1, 5.5, 5.2, 0.0, 6.7, 3.5, 5.8, 7.2, 4.4, 5.6, 5.7, 6.7, 6.6, 5.3, 6.3, 5.2, 6.1, 5.9, 3.9, 4.2, 4.4, 4.4, 6.7, 6.7, 5.8, 6.6, 7.4, 7.8, 5.8, 5.6, 7.5, 5.8, 6.9, 5.6, 7.2, 7.6, 8.0, 6.2, 6.8, 5.5, 5.6, 5.3, 6.7, 6.4, 5.5, 6.8, 6.7, 6.9, 5.3, 0.0, 4.2, 5.0, 7.2, 6.3, 4.9, 7.0, 6.1, 6.4, 6.3, 5.5, 6.0, 7.3, 5.9, 7.2, 7.2, 7.1, 6.0, 6.3, 4.3, 6.8, 4.6, 7.6, 7.5, 0.0, 6.7, 6.5, 4.4, 6.7, 6.6, 7.9, 6.8, 6.9, 5.9, 4.5, 7.3, 6.5, 7.1, 6.8, 6.7, 7.4, 6.5, 6.5, 5.5, 6.1, 6.8, 6.5, 3.0, 6.2, 5.7, 4.5, 5.7, 8.1, 6.4, 5.9, 3.5, 6.6, 6.0, 6.0, 6.6, 6.8, 10.0, 5.1, 6.5, 6.9, 6.8, 6.0, 6.4, 2.6, 7.4, 4.2, 3.3, 7.5, 6.9, 6.8, 5.4, 5.9, 5.3, 5.2, 6.2, 0.0, 6.1, 7.5, 0.0, 7.7, 6.7, 5.0, 6.5, 6.1, 0.0, 2.8, 5.9, 2.3, 3.2, 5.0, 7.7, 6.0, 7.4, 5.3, 5.9, 5.8, 6.7, 6.8, 4.1, 6.7, 7.2, 6.6, 0.0, 5.7, 6.8, 6.8, 6.9, 6.5, 6.3, 8.0, 6.4, 8.1, 7.8, 5.8, 0.0, 6.8, 0.0, 4.1, 0.0, 6.0, 3.9, 6.8, 4.4, 4.8, 6.1, 6.7, 4.2, 2.0, 6.2, 7.2, 6.8, 5.0, 6.9, 6.0, 5.7, 7.3, 3.1, 4.4, 7.9, 6.1, 7.0, 6.3, 7.5, 4.1, 6.1, 5.5, 8.0, 6.4, 6.9, 4.9, 6.9, 5.7, 5.6, 5.9, 6.9, 6.9, 4.6, 6.6, 5.5, 6.7, 6.2, 7.2, 5.0, 7.5, 6.6, 7.4, 6.8, 6.0, 6.7, 6.7, 6.7, 6.7, 7.4, 5.4, 6.6, 7.2, 6.3, 6.7, 6.7, 7.3, 6.1, 6.2, 5.9, 7.7, 6.7, 6.4, 6.8, 6.7, 7.5, 5.6, 7.5, 6.6, 4.7, 2.8, 4.0, 7.2, 6.4, 4.7, 3.4, 6.0, 6.2, 6.3, 5.2, 6.0, 5.5, 4.4, 6.2, 5.4, 6.6, 0.0, 4.8, 3.3, 8.0, 6.2, 8.0, 6.4, 4.9, 5.4, 3.5, 6.1, 5.5, 6.1, 4.5, 4.7, 4.8, 7.6, 5.7, 5.0, 3.2, 4.9, 5.7, 5.3, 6.6, 4.0, 3.5, 4.1, 6.6, 5.7, 5.5, 5.0, 7.4, 8.0, 5.3, 7.3, 5.0, 6.8, 6.1, 7.4, 7.3, 5.8, 6.8, 6.5, 6.7, 0.0, 5.0, 5.8, 6.4, 5.2, 6.5, 5.0, 2.0, 7.7, 7.0, 6.9, 5.6, 7.8, 7.6, 0.0, 7.8, 6.1, 7.3, 0.0, 3.7, 6.1, 6.6, 5.9, 6.9, 8.0, 6.5, 6.8, 7.7, 6.0, 5.4, 7.6, 5.6, 4.5, 5.7, 3.8, 7.6, 7.7, 5.9, 6.7, 6.5, 5.5, 6.5, 0.0, 0.0, 5.2, 4.8, 6.2, 0.0, 5.6, 4.8, 5.3, 7.4, 6.3, 7.1, 6.4, 5.5, 0.0, 6.0, 3.0, 5.0, 0.0, 6.0, 4.8, 7.3, 0.0, 4.6, 6.0, 7.0, 4.2, 6.1, 5.4, 5.8, 5.7, 7.2, 7.4, 6.2, 7.3, 7.8, 7.5, 6.3, 7.0, 5.6, 4.8, 7.0, 6.9, 4.8, 4.0, 5.3, 6.4, 6.0, 7.1, 8.2, 6.9, 4.7, 4.9, 5.7, 4.2, 6.2, 6.2, 4.0, 5.0, 4.5, 6.9, 7.0, 5.0, 5.9, 0.0, 7.3, 3.5, 0.0, 3.4, 6.5, 0.0, 5.2, 6.0, 0.0, 5.5, 5.0, 2.0, 6.3, 4.3, 7.2, 2.4, 6.2, 5.9, 0.0, 6.1, 8.0, 7.0, 6.9, 4.2, 6.7, 6.9, 5.9, 7.2, 7.8, 7.0, 1.0, 7.5, 3.8, 5.0, 6.6, 5.8, 5.5, 6.6, 0.0, 5.6, 7.8, 7.4, 6.3, 5.0, 7.3, 6.0, 5.1, 6.9, 4.9, 6.8, 4.7, 8.2, 7.6, 7.7, 6.9, 8.0, 6.2, 6.4, 6.1, 6.4, 0.0, 6.3, 6.4, 4.8, 7.6, 7.3, 5.5, 7.0, 3.0, 5.3, 2.8, 7.0, 5.9, 6.8, 0.0, 0.0, 6.2, 5.0, 5.7, 6.3, 6.7, 6.3, 0.0, 6.5, 5.7, 5.7, 5.0, 0.0, 6.9, 5.8, 7.5, 4.9, 6.4, 3.0, 5.5, 7.0, 4.1, 5.9, 6.9, 6.6, 4.8, 5.5, 0.0, 6.4, 5.7, 5.0, 0.0, 4.2, 5.5, 0.0, 7.0, 10.0, 7.7, 6.9, 0.0, 6.9, 5.2, 4.3, 6.7, 6.6, 6.8, 7.6, 5.1, 0.0, 6.5, 6.6, 6.3, 8.0, 8.0, 4.9, 5.5, 4.6, 5.8, 0.0, 7.7, 7.8, 6.1, 7.7, 6.8, 4.6, 6.0, 0.0, 6.5, 0.0, 7.8, 7.4, 6.1, 0.0, 0.0, 6.8, 4.6, 5.0, 5.5, 7.3, 4.9, 5.5, 5.8, 0.0, 7.5, 0.0, 7.2, 6.8, 7.4, 0.0, 6.3, 0.0, 6.5, 5.9, 7.1, 6.5, 0.0, 6.6, 4.9, 7.5, 5.7, 7.1, 4.9, 6.5, 0.0, 6.3, 7.4, 5.2, 7.0, 5.0, 7.3, 5.5, 6.4, 7.1, 6.0, 3.7, 3.3, 6.6, 4.5, 5.2, 4.4, 6.4, 6.7, 5.8, 6.3, 6.0, 6.0, 5.6, 5.1, 5.0, 8.3, 6.9, 5.0, 5.8, 5.7, 6.6, 6.8, 6.4, 7.0, 2.0, 3.2, 7.9, 3.5, 6.4, 0.0, 6.1, 0.0, 6.3, 7.4, 6.0, 6.3, 6.8, 5.5, 6.0, 6.4, 0.0, 6.0, 6.8, 4.7, 6.2, 0.0, 5.6, 4.2, 6.2, 6.7, 6.6, 2.0, 7.4, 6.0, 0.0, 6.0, 6.9, 7.5, 6.6, 5.9, 7.0, 5.7, 6.3], \"xaxis\": \"x\", \"yaxis\": \"y\"}],\n",
       "                        {\"barmode\": \"relative\", \"legend\": {\"tracegroupgap\": 0}, \"margin\": {\"t\": 60}, \"template\": {\"data\": {\"bar\": [{\"error_x\": {\"color\": \"#2a3f5f\"}, \"error_y\": {\"color\": \"#2a3f5f\"}, \"marker\": {\"line\": {\"color\": \"#E5ECF6\", \"width\": 0.5}}, \"type\": \"bar\"}], \"barpolar\": [{\"marker\": {\"line\": {\"color\": \"#E5ECF6\", \"width\": 0.5}}, \"type\": \"barpolar\"}], \"carpet\": [{\"aaxis\": {\"endlinecolor\": \"#2a3f5f\", \"gridcolor\": \"white\", \"linecolor\": \"white\", \"minorgridcolor\": \"white\", \"startlinecolor\": \"#2a3f5f\"}, \"baxis\": {\"endlinecolor\": \"#2a3f5f\", \"gridcolor\": \"white\", \"linecolor\": \"white\", \"minorgridcolor\": \"white\", \"startlinecolor\": \"#2a3f5f\"}, \"type\": \"carpet\"}], \"choropleth\": [{\"colorbar\": {\"outlinewidth\": 0, \"ticks\": \"\"}, \"type\": \"choropleth\"}], \"contour\": [{\"colorbar\": {\"outlinewidth\": 0, \"ticks\": \"\"}, \"colorscale\": [[0.0, \"#0d0887\"], [0.1111111111111111, \"#46039f\"], [0.2222222222222222, \"#7201a8\"], [0.3333333333333333, \"#9c179e\"], [0.4444444444444444, \"#bd3786\"], [0.5555555555555556, \"#d8576b\"], [0.6666666666666666, \"#ed7953\"], [0.7777777777777778, \"#fb9f3a\"], [0.8888888888888888, \"#fdca26\"], [1.0, \"#f0f921\"]], \"type\": \"contour\"}], \"contourcarpet\": [{\"colorbar\": {\"outlinewidth\": 0, \"ticks\": \"\"}, \"type\": \"contourcarpet\"}], \"heatmap\": [{\"colorbar\": {\"outlinewidth\": 0, \"ticks\": \"\"}, \"colorscale\": [[0.0, \"#0d0887\"], [0.1111111111111111, \"#46039f\"], [0.2222222222222222, \"#7201a8\"], [0.3333333333333333, \"#9c179e\"], [0.4444444444444444, \"#bd3786\"], [0.5555555555555556, \"#d8576b\"], [0.6666666666666666, \"#ed7953\"], [0.7777777777777778, \"#fb9f3a\"], [0.8888888888888888, \"#fdca26\"], [1.0, \"#f0f921\"]], \"type\": \"heatmap\"}], \"heatmapgl\": [{\"colorbar\": {\"outlinewidth\": 0, \"ticks\": \"\"}, \"colorscale\": [[0.0, \"#0d0887\"], [0.1111111111111111, \"#46039f\"], [0.2222222222222222, \"#7201a8\"], [0.3333333333333333, \"#9c179e\"], [0.4444444444444444, \"#bd3786\"], [0.5555555555555556, \"#d8576b\"], [0.6666666666666666, \"#ed7953\"], [0.7777777777777778, \"#fb9f3a\"], [0.8888888888888888, \"#fdca26\"], [1.0, \"#f0f921\"]], \"type\": \"heatmapgl\"}], \"histogram\": [{\"marker\": {\"colorbar\": {\"outlinewidth\": 0, \"ticks\": \"\"}}, \"type\": \"histogram\"}], \"histogram2d\": [{\"colorbar\": {\"outlinewidth\": 0, \"ticks\": \"\"}, \"colorscale\": [[0.0, \"#0d0887\"], [0.1111111111111111, \"#46039f\"], [0.2222222222222222, \"#7201a8\"], [0.3333333333333333, \"#9c179e\"], [0.4444444444444444, \"#bd3786\"], [0.5555555555555556, \"#d8576b\"], [0.6666666666666666, \"#ed7953\"], [0.7777777777777778, \"#fb9f3a\"], [0.8888888888888888, \"#fdca26\"], [1.0, \"#f0f921\"]], \"type\": \"histogram2d\"}], \"histogram2dcontour\": [{\"colorbar\": {\"outlinewidth\": 0, \"ticks\": \"\"}, \"colorscale\": [[0.0, \"#0d0887\"], [0.1111111111111111, \"#46039f\"], [0.2222222222222222, \"#7201a8\"], [0.3333333333333333, \"#9c179e\"], [0.4444444444444444, \"#bd3786\"], [0.5555555555555556, \"#d8576b\"], [0.6666666666666666, \"#ed7953\"], [0.7777777777777778, \"#fb9f3a\"], [0.8888888888888888, \"#fdca26\"], [1.0, \"#f0f921\"]], \"type\": \"histogram2dcontour\"}], \"mesh3d\": [{\"colorbar\": {\"outlinewidth\": 0, \"ticks\": \"\"}, \"type\": \"mesh3d\"}], \"parcoords\": [{\"line\": {\"colorbar\": {\"outlinewidth\": 0, \"ticks\": \"\"}}, \"type\": \"parcoords\"}], \"pie\": [{\"automargin\": true, \"type\": \"pie\"}], \"scatter\": [{\"marker\": {\"colorbar\": {\"outlinewidth\": 0, \"ticks\": \"\"}}, \"type\": \"scatter\"}], \"scatter3d\": [{\"line\": {\"colorbar\": {\"outlinewidth\": 0, \"ticks\": \"\"}}, \"marker\": {\"colorbar\": {\"outlinewidth\": 0, \"ticks\": \"\"}}, \"type\": \"scatter3d\"}], \"scattercarpet\": [{\"marker\": {\"colorbar\": {\"outlinewidth\": 0, \"ticks\": \"\"}}, \"type\": \"scattercarpet\"}], \"scattergeo\": [{\"marker\": {\"colorbar\": {\"outlinewidth\": 0, \"ticks\": \"\"}}, \"type\": \"scattergeo\"}], \"scattergl\": [{\"marker\": {\"colorbar\": {\"outlinewidth\": 0, \"ticks\": \"\"}}, \"type\": \"scattergl\"}], \"scattermapbox\": [{\"marker\": {\"colorbar\": {\"outlinewidth\": 0, \"ticks\": \"\"}}, \"type\": \"scattermapbox\"}], \"scatterpolar\": [{\"marker\": {\"colorbar\": {\"outlinewidth\": 0, \"ticks\": \"\"}}, \"type\": \"scatterpolar\"}], \"scatterpolargl\": [{\"marker\": {\"colorbar\": {\"outlinewidth\": 0, \"ticks\": \"\"}}, \"type\": \"scatterpolargl\"}], \"scatterternary\": [{\"marker\": {\"colorbar\": {\"outlinewidth\": 0, \"ticks\": \"\"}}, \"type\": \"scatterternary\"}], \"surface\": [{\"colorbar\": {\"outlinewidth\": 0, \"ticks\": \"\"}, \"colorscale\": [[0.0, \"#0d0887\"], [0.1111111111111111, \"#46039f\"], [0.2222222222222222, \"#7201a8\"], [0.3333333333333333, \"#9c179e\"], [0.4444444444444444, \"#bd3786\"], [0.5555555555555556, \"#d8576b\"], [0.6666666666666666, \"#ed7953\"], [0.7777777777777778, \"#fb9f3a\"], [0.8888888888888888, \"#fdca26\"], [1.0, \"#f0f921\"]], \"type\": \"surface\"}], \"table\": [{\"cells\": {\"fill\": {\"color\": \"#EBF0F8\"}, \"line\": {\"color\": \"white\"}}, \"header\": {\"fill\": {\"color\": \"#C8D4E3\"}, \"line\": {\"color\": \"white\"}}, \"type\": \"table\"}]}, \"layout\": {\"annotationdefaults\": {\"arrowcolor\": \"#2a3f5f\", \"arrowhead\": 0, \"arrowwidth\": 1}, \"coloraxis\": {\"colorbar\": {\"outlinewidth\": 0, \"ticks\": \"\"}}, \"colorscale\": {\"diverging\": [[0, \"#8e0152\"], [0.1, \"#c51b7d\"], [0.2, \"#de77ae\"], [0.3, \"#f1b6da\"], [0.4, \"#fde0ef\"], [0.5, \"#f7f7f7\"], [0.6, \"#e6f5d0\"], [0.7, \"#b8e186\"], [0.8, \"#7fbc41\"], [0.9, \"#4d9221\"], [1, \"#276419\"]], \"sequential\": [[0.0, \"#0d0887\"], [0.1111111111111111, \"#46039f\"], [0.2222222222222222, \"#7201a8\"], [0.3333333333333333, \"#9c179e\"], [0.4444444444444444, \"#bd3786\"], [0.5555555555555556, \"#d8576b\"], [0.6666666666666666, \"#ed7953\"], [0.7777777777777778, \"#fb9f3a\"], [0.8888888888888888, \"#fdca26\"], [1.0, \"#f0f921\"]], \"sequentialminus\": [[0.0, \"#0d0887\"], [0.1111111111111111, \"#46039f\"], [0.2222222222222222, \"#7201a8\"], [0.3333333333333333, \"#9c179e\"], [0.4444444444444444, \"#bd3786\"], [0.5555555555555556, \"#d8576b\"], [0.6666666666666666, \"#ed7953\"], [0.7777777777777778, \"#fb9f3a\"], [0.8888888888888888, \"#fdca26\"], [1.0, \"#f0f921\"]]}, \"colorway\": [\"#636efa\", \"#EF553B\", \"#00cc96\", \"#ab63fa\", \"#FFA15A\", \"#19d3f3\", \"#FF6692\", \"#B6E880\", \"#FF97FF\", \"#FECB52\"], \"font\": {\"color\": \"#2a3f5f\"}, \"geo\": {\"bgcolor\": \"white\", \"lakecolor\": \"white\", \"landcolor\": \"#E5ECF6\", \"showlakes\": true, \"showland\": true, \"subunitcolor\": \"white\"}, \"hoverlabel\": {\"align\": \"left\"}, \"hovermode\": \"closest\", \"mapbox\": {\"style\": \"light\"}, \"paper_bgcolor\": \"white\", \"plot_bgcolor\": \"#E5ECF6\", \"polar\": {\"angularaxis\": {\"gridcolor\": \"white\", \"linecolor\": \"white\", \"ticks\": \"\"}, \"bgcolor\": \"#E5ECF6\", \"radialaxis\": {\"gridcolor\": \"white\", \"linecolor\": \"white\", \"ticks\": \"\"}}, \"scene\": {\"xaxis\": {\"backgroundcolor\": \"#E5ECF6\", \"gridcolor\": \"white\", \"gridwidth\": 2, \"linecolor\": \"white\", \"showbackground\": true, \"ticks\": \"\", \"zerolinecolor\": \"white\"}, \"yaxis\": {\"backgroundcolor\": \"#E5ECF6\", \"gridcolor\": \"white\", \"gridwidth\": 2, \"linecolor\": \"white\", \"showbackground\": true, \"ticks\": \"\", \"zerolinecolor\": \"white\"}, \"zaxis\": {\"backgroundcolor\": \"#E5ECF6\", \"gridcolor\": \"white\", \"gridwidth\": 2, \"linecolor\": \"white\", \"showbackground\": true, \"ticks\": \"\", \"zerolinecolor\": \"white\"}}, \"shapedefaults\": {\"line\": {\"color\": \"#2a3f5f\"}}, \"ternary\": {\"aaxis\": {\"gridcolor\": \"white\", \"linecolor\": \"white\", \"ticks\": \"\"}, \"baxis\": {\"gridcolor\": \"white\", \"linecolor\": \"white\", \"ticks\": \"\"}, \"bgcolor\": \"#E5ECF6\", \"caxis\": {\"gridcolor\": \"white\", \"linecolor\": \"white\", \"ticks\": \"\"}}, \"title\": {\"x\": 0.05}, \"xaxis\": {\"automargin\": true, \"gridcolor\": \"white\", \"linecolor\": \"white\", \"ticks\": \"\", \"title\": {\"standoff\": 15}, \"zerolinecolor\": \"white\", \"zerolinewidth\": 2}, \"yaxis\": {\"automargin\": true, \"gridcolor\": \"white\", \"linecolor\": \"white\", \"ticks\": \"\", \"title\": {\"standoff\": 15}, \"zerolinecolor\": \"white\", \"zerolinewidth\": 2}}}, \"xaxis\": {\"anchor\": \"y\", \"domain\": [0.0, 1.0], \"title\": {\"text\": \"vote_average\"}}, \"yaxis\": {\"anchor\": \"x\", \"domain\": [0.0, 1.0], \"title\": {\"text\": \"count\"}}},\n",
       "                        {\"responsive\": true}\n",
       "                    ).then(function(){\n",
       "                            \n",
       "var gd = document.getElementById('521540a3-4894-486e-8e17-688cb1def9b8');\n",
       "var x = new MutationObserver(function (mutations, observer) {{\n",
       "        var display = window.getComputedStyle(gd).display;\n",
       "        if (!display || display === 'none') {{\n",
       "            console.log([gd, 'removed!']);\n",
       "            Plotly.purge(gd);\n",
       "            observer.disconnect();\n",
       "        }}\n",
       "}});\n",
       "\n",
       "// Listen for the removal of the full notebook cells\n",
       "var notebookContainer = gd.closest('#notebook-container');\n",
       "if (notebookContainer) {{\n",
       "    x.observe(notebookContainer, {childList: true});\n",
       "}}\n",
       "\n",
       "// Listen for the clearing of the current output cell\n",
       "var outputEl = gd.closest('.output');\n",
       "if (outputEl) {{\n",
       "    x.observe(outputEl, {childList: true});\n",
       "}}\n",
       "\n",
       "                        })\n",
       "                };\n",
       "                });\n",
       "            </script>\n",
       "        </div>"
      ]
     },
     "metadata": {},
     "output_type": "display_data"
    }
   ],
   "source": [
    "fig = px.histogram(tmdb_Movies, x=\"vote_average\",nbins=40)\n",
    "fig.show()"
   ]
  },
  {
   "cell_type": "code",
   "execution_count": null,
   "metadata": {},
   "outputs": [],
   "source": []
  }
 ],
 "metadata": {
  "kernelspec": {
   "display_name": "Python 3",
   "language": "python",
   "name": "python3"
  },
  "language_info": {
   "codemirror_mode": {
    "name": "ipython",
    "version": 3
   },
   "file_extension": ".py",
   "mimetype": "text/x-python",
   "name": "python",
   "nbconvert_exporter": "python",
   "pygments_lexer": "ipython3",
   "version": "3.7.6"
  }
 },
 "nbformat": 4,
 "nbformat_minor": 4
}
